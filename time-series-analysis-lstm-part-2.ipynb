{
 "cells": [
  {
   "cell_type": "markdown",
   "id": "infectious-information",
   "metadata": {},
   "source": [
    "## Kaggle DIJA 30 Stock Time Series with LSTM"
   ]
  },
  {
   "cell_type": "code",
   "execution_count": 1,
   "id": "historic-cream",
   "metadata": {},
   "outputs": [],
   "source": [
    "import os\n",
    "import copy\n",
    "import pandas as pd\n",
    "import numpy as np\n",
    "import matplotlib.pyplot as plt\n",
    "import seaborn as sns\n",
    "from sklearn.preprocessing import MinMaxScaler\n",
    "import tensorflow as tf\n",
    "from tensorflow.keras import Sequential,layers"
   ]
  },
  {
   "cell_type": "code",
   "execution_count": 2,
   "id": "automatic-radio",
   "metadata": {},
   "outputs": [],
   "source": [
    "import warnings\n",
    "warnings.filterwarnings('ignore')"
   ]
  },
  {
   "cell_type": "code",
   "execution_count": 3,
   "id": "fossil-corpus",
   "metadata": {},
   "outputs": [],
   "source": [
    "data_dir_path = os.path.join(os.getcwd(),\"data\")"
   ]
  },
  {
   "cell_type": "markdown",
   "id": "coupled-argument",
   "metadata": {},
   "source": [
    "#### Extracting Desired File"
   ]
  },
  {
   "cell_type": "code",
   "execution_count": 4,
   "id": "overhead-luxury",
   "metadata": {},
   "outputs": [],
   "source": [
    "def extract_file(file_save_path,file_name='all'):\n",
    "    list_of_files = os.listdir(file_save_path)\n",
    "    \n",
    "    file_path_list =[]\n",
    "    \n",
    "    for file in list_of_files:\n",
    "        file_name_temp=file.split(\"_\")\n",
    "        if file_name_temp[0].lower()==file_name.lower():\n",
    "            file_path_list.append(file)\n",
    "            \n",
    "\n",
    "    return file_path_list"
   ]
  },
  {
   "cell_type": "code",
   "execution_count": 5,
   "id": "intelligent-eleven",
   "metadata": {},
   "outputs": [],
   "source": [
    "files = extract_file(data_dir_path,file_name='AAPL')"
   ]
  },
  {
   "cell_type": "code",
   "execution_count": 6,
   "id": "corrected-trout",
   "metadata": {},
   "outputs": [
    {
     "data": {
      "text/plain": [
       "['AAPL_2006-01-01_to_2018-01-01.csv']"
      ]
     },
     "execution_count": 6,
     "metadata": {},
     "output_type": "execute_result"
    }
   ],
   "source": [
    "files"
   ]
  },
  {
   "cell_type": "code",
   "execution_count": 7,
   "id": "municipal-mexican",
   "metadata": {},
   "outputs": [],
   "source": [
    "df_init = pd.read_csv(os.path.join(data_dir_path,files[0]))"
   ]
  },
  {
   "cell_type": "code",
   "execution_count": 8,
   "id": "rolled-pleasure",
   "metadata": {},
   "outputs": [
    {
     "data": {
      "text/html": [
       "<div>\n",
       "<style scoped>\n",
       "    .dataframe tbody tr th:only-of-type {\n",
       "        vertical-align: middle;\n",
       "    }\n",
       "\n",
       "    .dataframe tbody tr th {\n",
       "        vertical-align: top;\n",
       "    }\n",
       "\n",
       "    .dataframe thead th {\n",
       "        text-align: right;\n",
       "    }\n",
       "</style>\n",
       "<table border=\"1\" class=\"dataframe\">\n",
       "  <thead>\n",
       "    <tr style=\"text-align: right;\">\n",
       "      <th></th>\n",
       "      <th>Date</th>\n",
       "      <th>Open</th>\n",
       "      <th>High</th>\n",
       "      <th>Low</th>\n",
       "      <th>Close</th>\n",
       "      <th>Volume</th>\n",
       "      <th>Name</th>\n",
       "    </tr>\n",
       "  </thead>\n",
       "  <tbody>\n",
       "    <tr>\n",
       "      <th>0</th>\n",
       "      <td>2006-01-03</td>\n",
       "      <td>10.34</td>\n",
       "      <td>10.68</td>\n",
       "      <td>10.32</td>\n",
       "      <td>10.68</td>\n",
       "      <td>201853036</td>\n",
       "      <td>AAPL</td>\n",
       "    </tr>\n",
       "    <tr>\n",
       "      <th>1</th>\n",
       "      <td>2006-01-04</td>\n",
       "      <td>10.73</td>\n",
       "      <td>10.85</td>\n",
       "      <td>10.64</td>\n",
       "      <td>10.71</td>\n",
       "      <td>155225609</td>\n",
       "      <td>AAPL</td>\n",
       "    </tr>\n",
       "    <tr>\n",
       "      <th>2</th>\n",
       "      <td>2006-01-05</td>\n",
       "      <td>10.69</td>\n",
       "      <td>10.70</td>\n",
       "      <td>10.54</td>\n",
       "      <td>10.63</td>\n",
       "      <td>112396081</td>\n",
       "      <td>AAPL</td>\n",
       "    </tr>\n",
       "    <tr>\n",
       "      <th>3</th>\n",
       "      <td>2006-01-06</td>\n",
       "      <td>10.75</td>\n",
       "      <td>10.96</td>\n",
       "      <td>10.65</td>\n",
       "      <td>10.90</td>\n",
       "      <td>176139334</td>\n",
       "      <td>AAPL</td>\n",
       "    </tr>\n",
       "    <tr>\n",
       "      <th>4</th>\n",
       "      <td>2006-01-09</td>\n",
       "      <td>10.96</td>\n",
       "      <td>11.03</td>\n",
       "      <td>10.82</td>\n",
       "      <td>10.86</td>\n",
       "      <td>168861224</td>\n",
       "      <td>AAPL</td>\n",
       "    </tr>\n",
       "  </tbody>\n",
       "</table>\n",
       "</div>"
      ],
      "text/plain": [
       "         Date   Open   High    Low  Close     Volume  Name\n",
       "0  2006-01-03  10.34  10.68  10.32  10.68  201853036  AAPL\n",
       "1  2006-01-04  10.73  10.85  10.64  10.71  155225609  AAPL\n",
       "2  2006-01-05  10.69  10.70  10.54  10.63  112396081  AAPL\n",
       "3  2006-01-06  10.75  10.96  10.65  10.90  176139334  AAPL\n",
       "4  2006-01-09  10.96  11.03  10.82  10.86  168861224  AAPL"
      ]
     },
     "execution_count": 8,
     "metadata": {},
     "output_type": "execute_result"
    }
   ],
   "source": [
    "df_init.head()"
   ]
  },
  {
   "cell_type": "code",
   "execution_count": 9,
   "id": "silent-editor",
   "metadata": {},
   "outputs": [],
   "source": [
    "# This method converts the date column to date time object, and set the Date as the index of the data frame.\n",
    "def to_timesr(df_wrk,dt_column, dt_format=None):\n",
    "    \n",
    "    df=copy.deepcopy(df_wrk) # creating a deep copy of the data, so that the initial dataframe can be kept intact.\n",
    "    \n",
    "    if dt_format is None:\n",
    "        df[dt_column]=pd.to_datetime(df[dt_column],infer_datetime_format=True)\n",
    "    else:       \n",
    "        df[dt_column]=pd.to_datetime(df[dt_column],format=dt_format)\n",
    "        \n",
    "    \n",
    "    df.set_index(dt_column,inplace=True)\n",
    "    return df\n",
    "    \n",
    "        \n",
    "    "
   ]
  },
  {
   "cell_type": "code",
   "execution_count": 10,
   "id": "governmental-working",
   "metadata": {},
   "outputs": [
    {
     "data": {
      "text/html": [
       "<div>\n",
       "<style scoped>\n",
       "    .dataframe tbody tr th:only-of-type {\n",
       "        vertical-align: middle;\n",
       "    }\n",
       "\n",
       "    .dataframe tbody tr th {\n",
       "        vertical-align: top;\n",
       "    }\n",
       "\n",
       "    .dataframe thead th {\n",
       "        text-align: right;\n",
       "    }\n",
       "</style>\n",
       "<table border=\"1\" class=\"dataframe\">\n",
       "  <thead>\n",
       "    <tr style=\"text-align: right;\">\n",
       "      <th></th>\n",
       "      <th>Open</th>\n",
       "      <th>High</th>\n",
       "      <th>Low</th>\n",
       "      <th>Close</th>\n",
       "      <th>Volume</th>\n",
       "      <th>Name</th>\n",
       "    </tr>\n",
       "    <tr>\n",
       "      <th>Date</th>\n",
       "      <th></th>\n",
       "      <th></th>\n",
       "      <th></th>\n",
       "      <th></th>\n",
       "      <th></th>\n",
       "      <th></th>\n",
       "    </tr>\n",
       "  </thead>\n",
       "  <tbody>\n",
       "    <tr>\n",
       "      <th>2006-01-03</th>\n",
       "      <td>10.34</td>\n",
       "      <td>10.68</td>\n",
       "      <td>10.32</td>\n",
       "      <td>10.68</td>\n",
       "      <td>201853036</td>\n",
       "      <td>AAPL</td>\n",
       "    </tr>\n",
       "    <tr>\n",
       "      <th>2006-01-04</th>\n",
       "      <td>10.73</td>\n",
       "      <td>10.85</td>\n",
       "      <td>10.64</td>\n",
       "      <td>10.71</td>\n",
       "      <td>155225609</td>\n",
       "      <td>AAPL</td>\n",
       "    </tr>\n",
       "    <tr>\n",
       "      <th>2006-01-05</th>\n",
       "      <td>10.69</td>\n",
       "      <td>10.70</td>\n",
       "      <td>10.54</td>\n",
       "      <td>10.63</td>\n",
       "      <td>112396081</td>\n",
       "      <td>AAPL</td>\n",
       "    </tr>\n",
       "    <tr>\n",
       "      <th>2006-01-06</th>\n",
       "      <td>10.75</td>\n",
       "      <td>10.96</td>\n",
       "      <td>10.65</td>\n",
       "      <td>10.90</td>\n",
       "      <td>176139334</td>\n",
       "      <td>AAPL</td>\n",
       "    </tr>\n",
       "    <tr>\n",
       "      <th>2006-01-09</th>\n",
       "      <td>10.96</td>\n",
       "      <td>11.03</td>\n",
       "      <td>10.82</td>\n",
       "      <td>10.86</td>\n",
       "      <td>168861224</td>\n",
       "      <td>AAPL</td>\n",
       "    </tr>\n",
       "  </tbody>\n",
       "</table>\n",
       "</div>"
      ],
      "text/plain": [
       "             Open   High    Low  Close     Volume  Name\n",
       "Date                                                   \n",
       "2006-01-03  10.34  10.68  10.32  10.68  201853036  AAPL\n",
       "2006-01-04  10.73  10.85  10.64  10.71  155225609  AAPL\n",
       "2006-01-05  10.69  10.70  10.54  10.63  112396081  AAPL\n",
       "2006-01-06  10.75  10.96  10.65  10.90  176139334  AAPL\n",
       "2006-01-09  10.96  11.03  10.82  10.86  168861224  AAPL"
      ]
     },
     "execution_count": 10,
     "metadata": {},
     "output_type": "execute_result"
    }
   ],
   "source": [
    "#Executing the above method\n",
    "df_wrk = to_timesr(df_init,\"Date\",dt_format=None)\n",
    "df_wrk.head()"
   ]
  },
  {
   "cell_type": "code",
   "execution_count": 11,
   "id": "owned-infrastructure",
   "metadata": {},
   "outputs": [
    {
     "data": {
      "image/png": "[encoded data removed]",
      "text/plain": [
       "<Figure size 864x576 with 1 Axes>"
      ]
     },
     "metadata": {
      "needs_background": "light"
     },
     "output_type": "display_data"
    }
   ],
   "source": [
    "#Method Visualizing the closing value of the stocks for Apple\n",
    "def plot_stk(df,column,title=None):\n",
    "    df[column].plot(kind=\"line\",color='b',figsize=(12,8))\n",
    "    plt.title(title)\n",
    "    plt.show()\n",
    "    \n",
    "plot_stk(df_wrk,'Close',title=\"APPLE Stock Closing Value\")"
   ]
  },
  {
   "cell_type": "code",
   "execution_count": 12,
   "id": "cognitive-chosen",
   "metadata": {},
   "outputs": [],
   "source": [
    "def data_scaling(data):\n",
    "    ''' This method takes series or dataframe as input and scales the data using MinMaxScaler'''\n",
    "    # Initializing the scalar instant\n",
    "    scaler = MinMaxScaler()\n",
    "    scaler.fit(data)\n",
    "    return scaler"
   ]
  },
  {
   "cell_type": "code",
   "execution_count": 13,
   "id": "developmental-joyce",
   "metadata": {},
   "outputs": [],
   "source": [
    "def train_data_prep(data, time_step,scaler = None,val_split=None):\n",
    "    '''\n",
    "    This method aims to scale the data prepare the train data with the help of another method - data_prep_tm_sr(data, time_step); \n",
    "    \n",
    "    Input:\n",
    "    data : dataframe or series-like\n",
    "    time_step: no. of obeservations to be fed or the view window\n",
    "    Scaler : instance of MinMaxScaler() which will be used for scaling data - Calculated from the module - data_scaling(data):\n",
    "    val_split : no.of observation to be kept aside for testing purpose - it can be provided as fraction or as integer\n",
    "    \n",
    "    Output:\n",
    "    x_train_data, y_train_data : training dataset pair\n",
    "    val_data_nos : no.of observation in testing data (it is calculated value when val_split is given as fraction)\n",
    "    \n",
    "    '''    \n",
    "    #Generation of the index no. upto which training set will be considered\n",
    "    if val_split:\n",
    "        if isinstance(val_split,int): #when val split is integer\n",
    "            val_data_nos=val_split\n",
    "            train_idx_lim=data.shape[0]-val_split\n",
    "            #Preparation of training:\n",
    "            if scaler:\n",
    "                data_temp=data[:train_idx_lim]\n",
    "                data_scaled= scaler.transform(data_temp) # only training data is scaled.\n",
    "            \n",
    "        \n",
    "        else:\n",
    "            train_idx_lim=int(data.shape[0]*(1-val_split)) #when val_split is fraction\n",
    "            val_data_nos=data.shape[0]-train_idx_lim\n",
    "        \n",
    "            #Preparation of training:\n",
    "            if scaler:\n",
    "                data_temp=data[0:train_idx_lim]\n",
    "                data_scaled= scaler.transform(data_temp) # only training data is scaled.\n",
    "    else:\n",
    "        data_scaled=scaler.transform(data) #whole series in scaled\n",
    "        val_data_nos =0\n",
    "        \n",
    "    x_train_data,y_train_data=data_prep_tm_sr(data_scaled, time_step)\n",
    "    \n",
    "        \n",
    "    return x_train_data,y_train_data,val_data_nos"
   ]
  },
  {
   "cell_type": "code",
   "execution_count": 14,
   "id": "double-screening",
   "metadata": {},
   "outputs": [],
   "source": [
    "def data_prep_tm_sr(data, time_step):\n",
    "    '''\n",
    "    This method aims to prepare the data, as required to be fed to a LSTM.\n",
    "    Ex. \n",
    "    X=array([[10.68],[10.71],[10.63],[10.9 ],[10.86],[11.55],[11.99],[12.04],[12.23],[12.1 ],[11.78],[11.29],[10.87],[11.1 ],[10.86],[10.6 ],[10.33],[10.29],[10.71],[10.79]])\n",
    "    y=[10.77]\n",
    "    \n",
    "    in X we are taking 20 consecutive values, and the output we are feeding for supervised learning in 10.77\n",
    "    For defining the layers of LSTM, 2 inputs are important, Time steps and no.of features, rest no.of batches or no. of observation are basically inferred.\n",
    "    Here for our example:\n",
    "    Time Step = 20\n",
    "    No.of Feature = 1 (Becuase only one feature - \"Close is considered\")\n",
    "    The problem framing in this case will be \"many to one\"\n",
    "    \n",
    "    So this method prepars the data like (many-to-one):\n",
    "    X1=values in index (0-19), y = value in 20th index\n",
    "    X2 = Values in index (1-20), y = value in 21st index\n",
    "    \n",
    "    Input:\n",
    "    data : dataframe or series-like\n",
    "    time_step: no. of obeservations to be fed or the view window\n",
    "    val_data_nos : no.of observation in testing data (it is calculated value when val_split is given as fraction)\n",
    "        \n",
    "    Output:\n",
    "    x_data,y_data : training dataset pair\n",
    "    \n",
    "    '''\n",
    "    x_data,y_data=[],[]\n",
    "    \n",
    "    for i in range(time_step,len(data)):\n",
    "            x_data.append(data[i-time_step:i,0])\n",
    "            y_data.append(data[i,0])\n",
    "            \n",
    "    x_data,y_data=np.array(x_data),np.array(y_data)\n",
    "    x_data=np.reshape(x_data,(x_data.shape[0],x_data.shape[1],1)) # Reshaping the array as (no.of observations, time_steps, no.of features)\n",
    "    \n",
    "    return x_data,y_data"
   ]
  },
  {
   "cell_type": "code",
   "execution_count": 15,
   "id": "metallic-schedule",
   "metadata": {},
   "outputs": [],
   "source": [
    "def val_data_prep(data,time_step,val_data_nos,scaler=None):\n",
    "    '''\n",
    "    This method aims to scale and prepare the validation data.\n",
    "    Input:\n",
    "    data : dataframe or series like\n",
    "    time_step: no. of obeservations to be fed or the view window\n",
    "    Scaler : instance of MinMaxScaler() which will be used for scaling data.\n",
    "    \n",
    "    '''\n",
    "    data = data[data.shape[0]-val_data_nos-time_step:]\n",
    "    \n",
    "    if scaler:\n",
    "        data_scaled = scaler.transform(data)    \n",
    "        x_val_data,_=data_prep_tm_sr(data_scaled, time_step)\n",
    "    else:\n",
    "        x_val_data,_=data_prep_tm_sr(data, time_step) #Validation data is prepared in the same way as training data, but the target data is not required in this casesince it will be predicted.\n",
    "    \n",
    "    return x_val_data"
   ]
  },
  {
   "cell_type": "code",
   "execution_count": 16,
   "id": "infrared-dublin",
   "metadata": {},
   "outputs": [],
   "source": [
    "def model_lstm(input_shape,loss,optimizer):\n",
    "    '''\n",
    "    This method prepares the LSTM model\n",
    "    Input:\n",
    "    input_shape: tuple containing time_step and no.of feature, Ex. (20,1)\n",
    "    loss: loss function to be used\n",
    "    optimizer: optimiser to be used\n",
    "    \n",
    "    Output:\n",
    "    \n",
    "    lstm model\n",
    "    '''\n",
    "    lstm_model=Sequential()\n",
    "    lstm_model.add(layers.LSTM(units=50,return_sequences=True,input_shape=input_shape))\n",
    "    lstm_model.add(layers.LSTM(units=50))\n",
    "    lstm_model.add(layers.Dense(1))\n",
    "    \n",
    "    lstm_model.compile(loss=loss,optimizer=optimizer)\n",
    "    \n",
    "    print(lstm_model.summary())\n",
    "    \n",
    "    return lstm_model"
   ]
  },
  {
   "cell_type": "code",
   "execution_count": 17,
   "id": "trying-vertex",
   "metadata": {},
   "outputs": [],
   "source": [
    "def plot_predicted_curve(data,predicted_closing_price,columns):\n",
    "    \n",
    "    '''\n",
    "    This module is to plot the full stock variation against time along with predicted values.\n",
    "    Input:\n",
    "    data: dataframe like or series - orginal \n",
    "    predicted_closing_price : predicted values received from the model\n",
    "    columns: string, basically the name of the column in the dataframe to be provided which has the corresponding actual or true value.\n",
    "    \n",
    "    Output:\n",
    "    \n",
    "    plot\n",
    "        \n",
    "    '''\n",
    "    val_data_len=len(predicted_closing_price)\n",
    "    \n",
    "    valid_data_df=data[data.shape[0]-val_data_len:]\n",
    "    valid_data_df[\"Predicted\"]=predicted_closing_price\n",
    "    \n",
    "    #loss Calculation\n",
    "    rmse_loss = rmse_loss_pred(valid_data_df) # rmse loss calculation.\n",
    "    plt.figure(figsize=(12,8))\n",
    "    plt.plot(data[columns])\n",
    "    plt.plot(valid_data_df[\"Predicted\"])\n",
    "    plt.title(\"Actual vs Prediction Curve\")\n",
    "    plt.show()\n",
    "    \n",
    "    print (\"RMSE Loss : \", rmse_loss)"
   ]
  },
  {
   "cell_type": "code",
   "execution_count": 18,
   "id": "lesser-spare",
   "metadata": {},
   "outputs": [],
   "source": [
    "def rmse_loss_pred(valid_data_df):\n",
    "    '''\n",
    "    This module calculates the rmse loss\n",
    "    Input:\n",
    "    valid_data_df: dataframe like containing the actual values under column \"Close\" and predicted values under \"Predicted\" column.\n",
    "    \n",
    "    Output:\n",
    "    \n",
    "    rmse value\n",
    "    \n",
    "    '''\n",
    "    \n",
    "    valid_data_df[\"sqd_err\"] =(valid_data_df[\"Close\"]-valid_data_df[\"Predicted\"])**2\n",
    "    rmse = np.sqrt(valid_data_df[\"sqd_err\"].mean())\n",
    "    return rmse"
   ]
  },
  {
   "cell_type": "code",
   "execution_count": 19,
   "id": "attended-telephone",
   "metadata": {},
   "outputs": [],
   "source": [
    "def execution(data,time_step,loss,optimizer,epochs,batch_size,verbose,columns,val_split):\n",
    "    '''\n",
    "    This module executes the compiles and execute all the modules.\n",
    "    '''\n",
    "    \n",
    "    scaler = data_scaling(data)\n",
    "    \n",
    "    print(\"Preparing training data.....\\n \")\n",
    "    x_train_data,y_train_data,val_data_nos = train_data_prep(data, time_step,scaler,val_split)\n",
    "    \n",
    "    print(\"Preparing validation data.....\\n \")\n",
    "    x_val_data = val_data_prep(data,time_step, val_data_nos, scaler)\n",
    "    \n",
    "    input_shape = (x_train_data.shape[1],x_train_data.shape[2])\n",
    "    print(\"Input Shape : \",input_shape,\"\\n\")\n",
    "        \n",
    "    print(\"Creating the model.....\\n \")\n",
    "    model = model_lstm(input_shape,loss,optimizer)\n",
    "    \n",
    "    callback = tf.keras.callbacks.EarlyStopping(monitor='loss', patience=3) # defining call back, to stop training of there is no significance difference in loss\n",
    "    \n",
    "    print(\"\\n Fitting the model.....\\n \")\n",
    "    history = model.fit(x_train_data,y_train_data,epochs=epochs,batch_size=batch_size,verbose=verbose)    \n",
    "           \n",
    "    print(\"Predicting the unseen data.....\\n \")\n",
    "    predicted_closing_price=model.predict(x_val_data)\n",
    "    \n",
    "    predicted_closing_price=scaler.inverse_transform(predicted_closing_price)\n",
    "    \n",
    "    print(\"Printing Actual vs Prediction Curve.....\\n \")\n",
    "    plot_predicted_curve(data,predicted_closing_price,columns)"
   ]
  },
  {
   "cell_type": "code",
   "execution_count": 23,
   "id": "pointed-composer",
   "metadata": {},
   "outputs": [],
   "source": [
    "time_step = 60\n",
    "val_split = 251\n",
    "loss = \"mean_squared_error\"\n",
    "optimizer = \"adam\"\n",
    "epochs = 5\n",
    "batch_size = 1\n",
    "verbose = 2\n",
    "columns = \"Close\""
   ]
  },
  {
   "cell_type": "code",
   "execution_count": 24,
   "id": "active-treatment",
   "metadata": {},
   "outputs": [],
   "source": [
    "# Condidering only the closing stock price for the current analysis\n",
    "df_wrk_1=df_wrk[[\"Close\"]]"
   ]
  },
  {
   "cell_type": "code",
   "execution_count": 25,
   "id": "satisfactory-order",
   "metadata": {},
   "outputs": [
    {
     "name": "stdout",
     "output_type": "stream",
     "text": [
      "Preparing training data.....\n",
      " \n",
      "Preparing validation data.....\n",
      " \n",
      "Input Shape :  (60, 1) \n",
      "\n",
      "Creating the model.....\n",
      " \n",
      "Model: \"sequential_1\"\n",
      "_________________________________________________________________\n",
      "Layer (type)                 Output Shape              Param #   \n",
      "=================================================================\n",
      "lstm_2 (LSTM)                (None, 60, 50)            10400     \n",
      "_________________________________________________________________\n",
      "lstm_3 (LSTM)                (None, 50)                20200     \n",
      "_________________________________________________________________\n",
      "dense_1 (Dense)              (None, 1)                 51        \n",
      "=================================================================\n",
      "Total params: 30,651\n",
      "Trainable params: 30,651\n",
      "Non-trainable params: 0\n",
      "_________________________________________________________________\n",
      "None\n",
      "\n",
      " Fitting the model.....\n",
      " \n",
      "Epoch 1/5\n",
      "2708/2708 - 30s - loss: 6.3013e-04\n",
      "Epoch 2/5\n",
      "2708/2708 - 34s - loss: 2.7740e-04\n",
      "Epoch 3/5\n",
      "2708/2708 - 33s - loss: 1.5369e-04\n",
      "Epoch 4/5\n",
      "2708/2708 - 36s - loss: 1.4608e-04\n",
      "Epoch 5/5\n",
      "2708/2708 - 36s - loss: 1.4536e-04\n",
      "Predicting the unseen data.....\n",
      " \n",
      "Printing Actual vs Prediction Curve.....\n",
      " \n"
     ]
    },
    {
     "data": {
      "image/png": "[encoded data removed]",
      "text/plain": [
       "<Figure size 864x576 with 1 Axes>"
      ]
     },
     "metadata": {
      "needs_background": "light"
     },
     "output_type": "display_data"
    },
    {
     "name": "stdout",
     "output_type": "stream",
     "text": [
      "RMSE Loss :  2.064804779383417\n"
     ]
    }
   ],
   "source": [
    "execution(df_wrk_1,time_step,loss,optimizer,epochs,batch_size,verbose,columns,val_split)"
   ]
  },
  {
   "cell_type": "markdown",
   "id": "vital-honey",
   "metadata": {},
   "source": [
    "#### Thoughts\n",
    "    * RMSE improved from 23.648(Monthly - SARIMA) to 2.06(LSTM) - 91.4% improvement over RMSE."
   ]
  },
  {
   "cell_type": "code",
   "execution_count": null,
   "id": "correct-trigger",
   "metadata": {},
   "outputs": [],
   "source": []
  }
 ],
 "metadata": {
  "kernelspec": {
   "display_name": "Python 3",
   "language": "python",
   "name": "python3"
  },
  "language_info": {
   "codemirror_mode": {
    "name": "ipython",
    "version": 3
   },
   "file_extension": ".py",
   "mimetype": "text/x-python",
   "name": "python",
   "nbconvert_exporter": "python",
   "pygments_lexer": "ipython3",
   "version": "3.7.9"
  }
 },
 "nbformat": 4,
 "nbformat_minor": 5
}
