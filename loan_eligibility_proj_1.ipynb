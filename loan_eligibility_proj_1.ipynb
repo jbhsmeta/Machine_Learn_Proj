{
 "cells": [
  {
   "cell_type": "markdown",
   "id": "august-mystery",
   "metadata": {},
   "source": [
    "## Loan Eligibility Project - Part 1"
   ]
  },
  {
   "cell_type": "code",
   "execution_count": 1,
   "id": "cultural-hanging",
   "metadata": {},
   "outputs": [],
   "source": [
    "import pandas as pd\n",
    "import numpy as np\n",
    "import os\n",
    "import matplotlib.pyplot as plt\n",
    "import seaborn as sns\n",
    "import statistics\n",
    "from sklearn.model_selection import train_test_split,GridSearchCV,cross_val_score\n",
    "from sklearn.preprocessing import LabelBinarizer,StandardScaler,OrdinalEncoder\n",
    "from sklearn.metrics import confusion_matrix\n",
    "from sklearn.metrics import roc_auc_score\n",
    "from sklearn.metrics import roc_curve\n",
    "from scipy.stats import boxcox\n",
    "from sklearn.linear_model import LogisticRegression,RidgeClassifier, PassiveAggressiveClassifier\n",
    "from sklearn import metrics\n",
    "from sklearn import preprocessing\n",
    "from sklearn.ensemble import RandomForestClassifier, GradientBoostingClassifier\n",
    "from imblearn.over_sampling import SMOTE\n",
    "from fancyimpute import KNN,SoftImpute\n",
    "from xgboost import plot_importance\n",
    "from matplotlib import pyplot\n",
    "from sklearn.naive_bayes import BernoulliNB\n",
    "from sklearn.neighbors import KNeighborsClassifier\n",
    "from sklearn.svm import LinearSVC\n",
    "from sklearn.tree import DecisionTreeClassifier\n",
    "from xgboost import XGBClassifier\n",
    "import joblib\n",
    "from df_summary import df_summary\n",
    "import copy\n",
    "from sklearn.impute import IterativeImputer"
   ]
  },
  {
   "cell_type": "code",
   "execution_count": 5,
   "id": "great-baltimore",
   "metadata": {
    "scrolled": true
   },
   "outputs": [
    {
     "data": {
      "text/plain": [
       "'C:\\\\Users\\\\jbhsm\\\\Project_Pro\\\\Loan Eligibility Prediction\\\\loan_eligibility_proj\\\\lib'"
      ]
     },
     "execution_count": 5,
     "metadata": {},
     "output_type": "execute_result"
    }
   ],
   "source": [
    "os.getcwd()"
   ]
  },
  {
   "cell_type": "code",
   "execution_count": 421,
   "id": "similar-status",
   "metadata": {},
   "outputs": [],
   "source": [
    "input_dir=r'C:\\\\Users\\\\jbhsm\\\\Project_Pro\\\\Loan Eligibility Prediction\\\\loan_eligibility_proj\\\\input'"
   ]
  },
  {
   "cell_type": "code",
   "execution_count": 422,
   "id": "material-conservative",
   "metadata": {},
   "outputs": [
    {
     "data": {
      "text/plain": [
       "['LoansTrainingSetV2.csv', 'test_data.csv']"
      ]
     },
     "execution_count": 422,
     "metadata": {},
     "output_type": "execute_result"
    }
   ],
   "source": [
    "os.listdir(input_dir)"
   ]
  },
  {
   "cell_type": "code",
   "execution_count": 7,
   "id": "waiting-newfoundland",
   "metadata": {},
   "outputs": [],
   "source": [
    "train_data_path = r'C:\\\\Users\\\\jbhsm\\\\Project_Pro\\\\Loan Eligibility Prediction\\\\loan_eligibility_proj\\\\input\\\\LoansTrainingSetV2.csv'\n",
    "test_data_path= r'C:\\\\Users\\\\jbhsm\\\\Project_Pro\\\\Loan Eligibility Prediction\\\\loan_eligibility_proj\\\\input\\\\test_data.csv'"
   ]
  },
  {
   "cell_type": "code",
   "execution_count": 8,
   "id": "pressed-premiere",
   "metadata": {},
   "outputs": [],
   "source": [
    "# Reading the dataframe\n",
    "data=pd.read_csv(train_data_path,low_memory=False) "
   ]
  },
  {
   "cell_type": "code",
   "execution_count": 10,
   "id": "computational-utility",
   "metadata": {
    "scrolled": false
   },
   "outputs": [
    {
     "data": {
      "text/html": [
       "<div>\n",
       "<style scoped>\n",
       "    .dataframe tbody tr th:only-of-type {\n",
       "        vertical-align: middle;\n",
       "    }\n",
       "\n",
       "    .dataframe tbody tr th {\n",
       "        vertical-align: top;\n",
       "    }\n",
       "\n",
       "    .dataframe thead th {\n",
       "        text-align: right;\n",
       "    }\n",
       "</style>\n",
       "<table border=\"1\" class=\"dataframe\">\n",
       "  <thead>\n",
       "    <tr style=\"text-align: right;\">\n",
       "      <th></th>\n",
       "      <th>Loan ID</th>\n",
       "      <th>Customer ID</th>\n",
       "      <th>Loan Status</th>\n",
       "      <th>Current Loan Amount</th>\n",
       "      <th>Term</th>\n",
       "      <th>Credit Score</th>\n",
       "      <th>Years in current job</th>\n",
       "      <th>Home Ownership</th>\n",
       "      <th>Annual Income</th>\n",
       "      <th>Purpose</th>\n",
       "      <th>Monthly Debt</th>\n",
       "      <th>Years of Credit History</th>\n",
       "      <th>Months since last delinquent</th>\n",
       "      <th>Number of Open Accounts</th>\n",
       "      <th>Number of Credit Problems</th>\n",
       "      <th>Current Credit Balance</th>\n",
       "      <th>Maximum Open Credit</th>\n",
       "      <th>Bankruptcies</th>\n",
       "      <th>Tax Liens</th>\n",
       "    </tr>\n",
       "  </thead>\n",
       "  <tbody>\n",
       "    <tr>\n",
       "      <th>0</th>\n",
       "      <td>6cf51492-02a2-423e-b93d-676f05b9ad53</td>\n",
       "      <td>7c202b37-2add-44e8-9aea-d5b119aea935</td>\n",
       "      <td>Loan Refused</td>\n",
       "      <td>12232</td>\n",
       "      <td>Short Term</td>\n",
       "      <td>7280.0</td>\n",
       "      <td>&lt; 1 year</td>\n",
       "      <td>Rent</td>\n",
       "      <td>46643.0</td>\n",
       "      <td>Debt Consolidation</td>\n",
       "      <td>777.39</td>\n",
       "      <td>18.0</td>\n",
       "      <td>10.0</td>\n",
       "      <td>12</td>\n",
       "      <td>0</td>\n",
       "      <td>6762</td>\n",
       "      <td>7946</td>\n",
       "      <td>0.0</td>\n",
       "      <td>0.0</td>\n",
       "    </tr>\n",
       "    <tr>\n",
       "      <th>1</th>\n",
       "      <td>552e7ade-4292-4354-9ff9-c48031697d72</td>\n",
       "      <td>e7217b0a-07ac-47dd-b379-577b5a35b7c6</td>\n",
       "      <td>Loan Refused</td>\n",
       "      <td>25014</td>\n",
       "      <td>Long Term</td>\n",
       "      <td>7330.0</td>\n",
       "      <td>10+ years</td>\n",
       "      <td>Home Mortgage</td>\n",
       "      <td>81099.0</td>\n",
       "      <td>Debt Consolidation</td>\n",
       "      <td>892.09</td>\n",
       "      <td>26.7</td>\n",
       "      <td>NaN</td>\n",
       "      <td>14</td>\n",
       "      <td>0</td>\n",
       "      <td>35706</td>\n",
       "      <td>77961</td>\n",
       "      <td>0.0</td>\n",
       "      <td>0.0</td>\n",
       "    </tr>\n",
       "    <tr>\n",
       "      <th>2</th>\n",
       "      <td>9b5e32b3-8d76-4801-afc8-d729d5a2e6b9</td>\n",
       "      <td>0a62fc41-16c8-40b5-92ff-9e4b763ce714</td>\n",
       "      <td>Loan Refused</td>\n",
       "      <td>16117</td>\n",
       "      <td>Short Term</td>\n",
       "      <td>7240.0</td>\n",
       "      <td>9 years</td>\n",
       "      <td>Home Mortgage</td>\n",
       "      <td>60438.0</td>\n",
       "      <td>Home Improvements</td>\n",
       "      <td>1244.02</td>\n",
       "      <td>16.7</td>\n",
       "      <td>32.0</td>\n",
       "      <td>11</td>\n",
       "      <td>1</td>\n",
       "      <td>11275</td>\n",
       "      <td>14815</td>\n",
       "      <td>1.0</td>\n",
       "      <td>0.0</td>\n",
       "    </tr>\n",
       "    <tr>\n",
       "      <th>3</th>\n",
       "      <td>5419b7c7-ac11-4be2-a8a7-b131fb6d6dbe</td>\n",
       "      <td>30f36c59-5182-4482-8bbb-5b736849ae43</td>\n",
       "      <td>Loan Refused</td>\n",
       "      <td>11716</td>\n",
       "      <td>Short Term</td>\n",
       "      <td>7400.0</td>\n",
       "      <td>3 years</td>\n",
       "      <td>Rent</td>\n",
       "      <td>34171.0</td>\n",
       "      <td>Debt Consolidation</td>\n",
       "      <td>990.94</td>\n",
       "      <td>10.0</td>\n",
       "      <td>NaN</td>\n",
       "      <td>21</td>\n",
       "      <td>0</td>\n",
       "      <td>7009</td>\n",
       "      <td>43533</td>\n",
       "      <td>0.0</td>\n",
       "      <td>0.0</td>\n",
       "    </tr>\n",
       "    <tr>\n",
       "      <th>4</th>\n",
       "      <td>1450910f-9495-4fc9-afaf-9bdf4b9821df</td>\n",
       "      <td>70c26012-bba5-42c0-8dcb-75295ada31bb</td>\n",
       "      <td>Loan Refused</td>\n",
       "      <td>9789</td>\n",
       "      <td>Long Term</td>\n",
       "      <td>6860.0</td>\n",
       "      <td>10+ years</td>\n",
       "      <td>Home Mortgage</td>\n",
       "      <td>47003.0</td>\n",
       "      <td>Home Improvements</td>\n",
       "      <td>503.71</td>\n",
       "      <td>16.7</td>\n",
       "      <td>25.0</td>\n",
       "      <td>13</td>\n",
       "      <td>1</td>\n",
       "      <td>16913</td>\n",
       "      <td>19553</td>\n",
       "      <td>1.0</td>\n",
       "      <td>0.0</td>\n",
       "    </tr>\n",
       "  </tbody>\n",
       "</table>\n",
       "</div>"
      ],
      "text/plain": [
       "                                Loan ID                           Customer ID  \\\n",
       "0  6cf51492-02a2-423e-b93d-676f05b9ad53  7c202b37-2add-44e8-9aea-d5b119aea935   \n",
       "1  552e7ade-4292-4354-9ff9-c48031697d72  e7217b0a-07ac-47dd-b379-577b5a35b7c6   \n",
       "2  9b5e32b3-8d76-4801-afc8-d729d5a2e6b9  0a62fc41-16c8-40b5-92ff-9e4b763ce714   \n",
       "3  5419b7c7-ac11-4be2-a8a7-b131fb6d6dbe  30f36c59-5182-4482-8bbb-5b736849ae43   \n",
       "4  1450910f-9495-4fc9-afaf-9bdf4b9821df  70c26012-bba5-42c0-8dcb-75295ada31bb   \n",
       "\n",
       "    Loan Status  Current Loan Amount        Term  Credit Score  \\\n",
       "0  Loan Refused                12232  Short Term        7280.0   \n",
       "1  Loan Refused                25014   Long Term        7330.0   \n",
       "2  Loan Refused                16117  Short Term        7240.0   \n",
       "3  Loan Refused                11716  Short Term        7400.0   \n",
       "4  Loan Refused                 9789   Long Term        6860.0   \n",
       "\n",
       "  Years in current job Home Ownership  Annual Income             Purpose  \\\n",
       "0             < 1 year           Rent        46643.0  Debt Consolidation   \n",
       "1            10+ years  Home Mortgage        81099.0  Debt Consolidation   \n",
       "2              9 years  Home Mortgage        60438.0   Home Improvements   \n",
       "3              3 years           Rent        34171.0  Debt Consolidation   \n",
       "4            10+ years  Home Mortgage        47003.0   Home Improvements   \n",
       "\n",
       "  Monthly Debt  Years of Credit History  Months since last delinquent  \\\n",
       "0       777.39                     18.0                          10.0   \n",
       "1       892.09                     26.7                           NaN   \n",
       "2      1244.02                     16.7                          32.0   \n",
       "3       990.94                     10.0                           NaN   \n",
       "4       503.71                     16.7                          25.0   \n",
       "\n",
       "   Number of Open Accounts  Number of Credit Problems  Current Credit Balance  \\\n",
       "0                       12                          0                    6762   \n",
       "1                       14                          0                   35706   \n",
       "2                       11                          1                   11275   \n",
       "3                       21                          0                    7009   \n",
       "4                       13                          1                   16913   \n",
       "\n",
       "  Maximum Open Credit  Bankruptcies  Tax Liens  \n",
       "0                7946           0.0        0.0  \n",
       "1               77961           0.0        0.0  \n",
       "2               14815           1.0        0.0  \n",
       "3               43533           0.0        0.0  \n",
       "4               19553           1.0        0.0  "
      ]
     },
     "execution_count": 10,
     "metadata": {},
     "output_type": "execute_result"
    }
   ],
   "source": [
    "data.head()"
   ]
  },
  {
   "cell_type": "code",
   "execution_count": 20,
   "id": "wound-clear",
   "metadata": {},
   "outputs": [
    {
     "data": {
      "text/plain": [
       "(111107, 19)"
      ]
     },
     "execution_count": 20,
     "metadata": {},
     "output_type": "execute_result"
    }
   ],
   "source": [
    "data.shape"
   ]
  },
  {
   "cell_type": "code",
   "execution_count": 11,
   "id": "fatty-convergence",
   "metadata": {},
   "outputs": [],
   "source": [
    "# Changing column names - raplciong the space with _ for ease of work\n",
    "\n",
    "def  col_name_mod(columns):\n",
    "    '''\n",
    "    columns - list of columns names in the data frame\n",
    "    \n",
    "    Returns:\n",
    "    new_col_name - list of columns names are returned will all the blanks replaced with \"_\" and all name \n",
    "    converted to lower case \n",
    "    \n",
    "    '''\n",
    "    new_col_name=[col.replace(\" \",\"_\").lower() for col in columns]\n",
    "    \n",
    "    return new_col_name\n"
   ]
  },
  {
   "cell_type": "code",
   "execution_count": 12,
   "id": "ready-driver",
   "metadata": {},
   "outputs": [],
   "source": [
    "# Replacing the columns name having blanks with \"_\" \n",
    "mod_col_name=col_name_mod(data.columns)"
   ]
  },
  {
   "cell_type": "code",
   "execution_count": 14,
   "id": "comparable-relationship",
   "metadata": {},
   "outputs": [
    {
     "name": "stdout",
     "output_type": "stream",
     "text": [
      "['loan_id', 'customer_id', 'loan_status', 'current_loan_amount', 'term', 'credit_score', 'years_in_current_job', 'home_ownership', 'annual_income', 'purpose', 'monthly_debt', 'years_of_credit_history', 'months_since_last_delinquent', 'number_of_open_accounts', 'number_of_credit_problems', 'current_credit_balance', 'maximum_open_credit', 'bankruptcies', 'tax_liens']\n"
     ]
    }
   ],
   "source": [
    "print(mod_col_name)"
   ]
  },
  {
   "cell_type": "code",
   "execution_count": 15,
   "id": "sealed-immunology",
   "metadata": {},
   "outputs": [],
   "source": [
    "data.columns = mod_col_name"
   ]
  },
  {
   "cell_type": "code",
   "execution_count": 17,
   "id": "olive-builder",
   "metadata": {},
   "outputs": [],
   "source": [
    "summary=df_summary(data,'loan_status')"
   ]
  },
  {
   "cell_type": "code",
   "execution_count": 21,
   "id": "patient-revolution",
   "metadata": {},
   "outputs": [
    {
     "name": "stdout",
     "output_type": "stream",
     "text": [
      "This is  Imbalanced dataset \n",
      "\n",
      "          index    dist\n",
      "0    Loan Given  77.343\n",
      "1  Loan Refused  22.657\n"
     ]
    }
   ],
   "source": [
    "summary.get_isimbalanced()"
   ]
  },
  {
   "cell_type": "code",
   "execution_count": 18,
   "id": "earned-cooling",
   "metadata": {
    "scrolled": false
   },
   "outputs": [
    {
     "data": {
      "text/html": [
       "<div>\n",
       "<style scoped>\n",
       "    .dataframe tbody tr th:only-of-type {\n",
       "        vertical-align: middle;\n",
       "    }\n",
       "\n",
       "    .dataframe tbody tr th {\n",
       "        vertical-align: top;\n",
       "    }\n",
       "\n",
       "    .dataframe thead th {\n",
       "        text-align: right;\n",
       "    }\n",
       "</style>\n",
       "<table border=\"1\" class=\"dataframe\">\n",
       "  <thead>\n",
       "    <tr style=\"text-align: right;\">\n",
       "      <th></th>\n",
       "      <th>Null</th>\n",
       "      <th>dtype</th>\n",
       "      <th>unique</th>\n",
       "      <th>pct_Null</th>\n",
       "      <th>Loan Given_p_NL</th>\n",
       "      <th>Loan Refused_p_NL</th>\n",
       "    </tr>\n",
       "    <tr>\n",
       "      <th>index</th>\n",
       "      <th></th>\n",
       "      <th></th>\n",
       "      <th></th>\n",
       "      <th></th>\n",
       "      <th></th>\n",
       "      <th></th>\n",
       "    </tr>\n",
       "  </thead>\n",
       "  <tbody>\n",
       "    <tr>\n",
       "      <th>loan_id</th>\n",
       "      <td>0</td>\n",
       "      <td>object</td>\n",
       "      <td>88910</td>\n",
       "      <td>0.0%</td>\n",
       "      <td>0 - 0.0%</td>\n",
       "      <td>0 - 0.0%</td>\n",
       "    </tr>\n",
       "    <tr>\n",
       "      <th>customer_id</th>\n",
       "      <td>0</td>\n",
       "      <td>object</td>\n",
       "      <td>88910</td>\n",
       "      <td>0.0%</td>\n",
       "      <td>0 - 0.0%</td>\n",
       "      <td>0 - 0.0%</td>\n",
       "    </tr>\n",
       "    <tr>\n",
       "      <th>loan_status</th>\n",
       "      <td>0</td>\n",
       "      <td>object</td>\n",
       "      <td>2</td>\n",
       "      <td>0.0%</td>\n",
       "      <td>0 - 0.0%</td>\n",
       "      <td>0 - 0.0%</td>\n",
       "    </tr>\n",
       "    <tr>\n",
       "      <th>current_loan_amount</th>\n",
       "      <td>0</td>\n",
       "      <td>int64</td>\n",
       "      <td>22541</td>\n",
       "      <td>0.0%</td>\n",
       "      <td>0 - 0.0%</td>\n",
       "      <td>0 - 0.0%</td>\n",
       "    </tr>\n",
       "    <tr>\n",
       "      <th>term</th>\n",
       "      <td>0</td>\n",
       "      <td>object</td>\n",
       "      <td>2</td>\n",
       "      <td>0.0%</td>\n",
       "      <td>0 - 0.0%</td>\n",
       "      <td>0 - 0.0%</td>\n",
       "    </tr>\n",
       "    <tr>\n",
       "      <th>credit_score</th>\n",
       "      <td>21338</td>\n",
       "      <td>float64</td>\n",
       "      <td>326</td>\n",
       "      <td>19.2%</td>\n",
       "      <td>15294 - 17.8%</td>\n",
       "      <td>6044 - 24.0%</td>\n",
       "    </tr>\n",
       "    <tr>\n",
       "      <th>years_in_current_job</th>\n",
       "      <td>4693</td>\n",
       "      <td>object</td>\n",
       "      <td>11</td>\n",
       "      <td>4.22%</td>\n",
       "      <td>3285 - 3.8%</td>\n",
       "      <td>1408 - 5.6%</td>\n",
       "    </tr>\n",
       "    <tr>\n",
       "      <th>home_ownership</th>\n",
       "      <td>0</td>\n",
       "      <td>object</td>\n",
       "      <td>4</td>\n",
       "      <td>0.0%</td>\n",
       "      <td>0 - 0.0%</td>\n",
       "      <td>0 - 0.0%</td>\n",
       "    </tr>\n",
       "    <tr>\n",
       "      <th>annual_income</th>\n",
       "      <td>21338</td>\n",
       "      <td>float64</td>\n",
       "      <td>37983</td>\n",
       "      <td>19.2%</td>\n",
       "      <td>15294 - 17.8%</td>\n",
       "      <td>6044 - 24.0%</td>\n",
       "    </tr>\n",
       "    <tr>\n",
       "      <th>purpose</th>\n",
       "      <td>0</td>\n",
       "      <td>object</td>\n",
       "      <td>16</td>\n",
       "      <td>0.0%</td>\n",
       "      <td>0 - 0.0%</td>\n",
       "      <td>0 - 0.0%</td>\n",
       "    </tr>\n",
       "    <tr>\n",
       "      <th>monthly_debt</th>\n",
       "      <td>0</td>\n",
       "      <td>object</td>\n",
       "      <td>70067</td>\n",
       "      <td>0.0%</td>\n",
       "      <td>0 - 0.0%</td>\n",
       "      <td>0 - 0.0%</td>\n",
       "    </tr>\n",
       "    <tr>\n",
       "      <th>years_of_credit_history</th>\n",
       "      <td>0</td>\n",
       "      <td>float64</td>\n",
       "      <td>508</td>\n",
       "      <td>0.0%</td>\n",
       "      <td>0 - 0.0%</td>\n",
       "      <td>0 - 0.0%</td>\n",
       "    </tr>\n",
       "    <tr>\n",
       "      <th>months_since_last_delinquent</th>\n",
       "      <td>59003</td>\n",
       "      <td>float64</td>\n",
       "      <td>116</td>\n",
       "      <td>53.1%</td>\n",
       "      <td>45399 - 52.8%</td>\n",
       "      <td>13604 - 54.0%</td>\n",
       "    </tr>\n",
       "    <tr>\n",
       "      <th>number_of_open_accounts</th>\n",
       "      <td>0</td>\n",
       "      <td>int64</td>\n",
       "      <td>52</td>\n",
       "      <td>0.0%</td>\n",
       "      <td>0 - 0.0%</td>\n",
       "      <td>0 - 0.0%</td>\n",
       "    </tr>\n",
       "    <tr>\n",
       "      <th>number_of_credit_problems</th>\n",
       "      <td>0</td>\n",
       "      <td>int64</td>\n",
       "      <td>14</td>\n",
       "      <td>0.0%</td>\n",
       "      <td>0 - 0.0%</td>\n",
       "      <td>0 - 0.0%</td>\n",
       "    </tr>\n",
       "    <tr>\n",
       "      <th>current_credit_balance</th>\n",
       "      <td>0</td>\n",
       "      <td>int64</td>\n",
       "      <td>33716</td>\n",
       "      <td>0.0%</td>\n",
       "      <td>0 - 0.0%</td>\n",
       "      <td>0 - 0.0%</td>\n",
       "    </tr>\n",
       "    <tr>\n",
       "      <th>maximum_open_credit</th>\n",
       "      <td>0</td>\n",
       "      <td>object</td>\n",
       "      <td>46625</td>\n",
       "      <td>0.0%</td>\n",
       "      <td>0 - 0.0%</td>\n",
       "      <td>0 - 0.0%</td>\n",
       "    </tr>\n",
       "    <tr>\n",
       "      <th>bankruptcies</th>\n",
       "      <td>228</td>\n",
       "      <td>float64</td>\n",
       "      <td>8</td>\n",
       "      <td>0.21%</td>\n",
       "      <td>174 - 0.2%</td>\n",
       "      <td>54 - 0.2%</td>\n",
       "    </tr>\n",
       "    <tr>\n",
       "      <th>tax_liens</th>\n",
       "      <td>11</td>\n",
       "      <td>float64</td>\n",
       "      <td>13</td>\n",
       "      <td>0.01%</td>\n",
       "      <td>11 - 0.0%</td>\n",
       "      <td>0 - 0.0%</td>\n",
       "    </tr>\n",
       "  </tbody>\n",
       "</table>\n",
       "</div>"
      ],
      "text/plain": [
       "                               Null    dtype  unique pct_Null Loan Given_p_NL  \\\n",
       "index                                                                           \n",
       "loan_id                           0   object   88910     0.0%        0 - 0.0%   \n",
       "customer_id                       0   object   88910     0.0%        0 - 0.0%   \n",
       "loan_status                       0   object       2     0.0%        0 - 0.0%   \n",
       "current_loan_amount               0    int64   22541     0.0%        0 - 0.0%   \n",
       "term                              0   object       2     0.0%        0 - 0.0%   \n",
       "credit_score                  21338  float64     326    19.2%   15294 - 17.8%   \n",
       "years_in_current_job           4693   object      11    4.22%     3285 - 3.8%   \n",
       "home_ownership                    0   object       4     0.0%        0 - 0.0%   \n",
       "annual_income                 21338  float64   37983    19.2%   15294 - 17.8%   \n",
       "purpose                           0   object      16     0.0%        0 - 0.0%   \n",
       "monthly_debt                      0   object   70067     0.0%        0 - 0.0%   \n",
       "years_of_credit_history           0  float64     508     0.0%        0 - 0.0%   \n",
       "months_since_last_delinquent  59003  float64     116    53.1%   45399 - 52.8%   \n",
       "number_of_open_accounts           0    int64      52     0.0%        0 - 0.0%   \n",
       "number_of_credit_problems         0    int64      14     0.0%        0 - 0.0%   \n",
       "current_credit_balance            0    int64   33716     0.0%        0 - 0.0%   \n",
       "maximum_open_credit               0   object   46625     0.0%        0 - 0.0%   \n",
       "bankruptcies                    228  float64       8    0.21%      174 - 0.2%   \n",
       "tax_liens                        11  float64      13    0.01%       11 - 0.0%   \n",
       "\n",
       "                             Loan Refused_p_NL  \n",
       "index                                           \n",
       "loan_id                               0 - 0.0%  \n",
       "customer_id                           0 - 0.0%  \n",
       "loan_status                           0 - 0.0%  \n",
       "current_loan_amount                   0 - 0.0%  \n",
       "term                                  0 - 0.0%  \n",
       "credit_score                      6044 - 24.0%  \n",
       "years_in_current_job               1408 - 5.6%  \n",
       "home_ownership                        0 - 0.0%  \n",
       "annual_income                     6044 - 24.0%  \n",
       "purpose                               0 - 0.0%  \n",
       "monthly_debt                          0 - 0.0%  \n",
       "years_of_credit_history               0 - 0.0%  \n",
       "months_since_last_delinquent     13604 - 54.0%  \n",
       "number_of_open_accounts               0 - 0.0%  \n",
       "number_of_credit_problems             0 - 0.0%  \n",
       "current_credit_balance                0 - 0.0%  \n",
       "maximum_open_credit                   0 - 0.0%  \n",
       "bankruptcies                         54 - 0.2%  \n",
       "tax_liens                             0 - 0.0%  "
      ]
     },
     "execution_count": 18,
     "metadata": {},
     "output_type": "execute_result"
    }
   ],
   "source": [
    "summary.get_summary()"
   ]
  },
  {
   "cell_type": "markdown",
   "id": "considered-december",
   "metadata": {},
   "source": [
    "**Thoughts**\n",
    "\n",
    "* Six features have Null values.\n",
    "* The feature months_since_last_delinquent - has 53.1% values as Null, Its contribution is significant in both the target classes.\n",
    "* No of Null values in bankruptcies and tax_liens is vbery low and its contribution to target class (Loan refused) is only 0.2 and 0%\n",
    "* for credit score and annual income - no of Null present is same and its distribution in major and minor class is similar \n",
    "* No.of unique values in loan_id is 88910 with out Nulls, but the shape of the data frame is 111107, this may be due to duplicate values, which need to be removed.\n",
    "* Categorical variable need to be addressed.\n",
    "* This an imbalanced data set - which need to be adequately treated\n"
   ]
  },
  {
   "cell_type": "markdown",
   "id": "personalized-classics",
   "metadata": {},
   "source": [
    "## Exploratory Data Analysis"
   ]
  },
  {
   "cell_type": "markdown",
   "id": "golden-blend",
   "metadata": {},
   "source": [
    "### Univariate Analysis"
   ]
  },
  {
   "cell_type": "code",
   "execution_count": 38,
   "id": "controlling-tunisia",
   "metadata": {},
   "outputs": [],
   "source": [
    "def plot_hist_boxplot(df, column):\n",
    "    \n",
    "    import seaborn as sns\n",
    "    from scipy.stats import kurtosis,skew \n",
    "    '''\n",
    "    This method to be used for features which are continuous in nature. (Ex. float, int)\n",
    "    df - dataframe\n",
    "    columns = str - name of the columns that need to be described  \n",
    "    \n",
    "    prints:\n",
    "    A distribution plot and a box plot will be printed.\n",
    "    Skewness and the kutosis will also be printed\n",
    "    \n",
    "    '''\n",
    "    \n",
    "    fig,[ax1,ax2]=plt.subplots(1,2,figsize=(12,5))\n",
    "    sns.distplot(df[df[column].notnull()][column],ax=ax1)\n",
    "    sns.boxplot(y=df[df[column].notnull()][column],ax=ax2)\n",
    "    print(\"skewness : \",skew(df[df[column].notnull()][column]))\n",
    "    print(\"kurtosis : \",kurtosis(df[df[column].notnull()][column]))\n",
    "    plt.show()"
   ]
  },
  {
   "cell_type": "code",
   "execution_count": 39,
   "id": "killing-badge",
   "metadata": {},
   "outputs": [],
   "source": [
    "def plot_count_boxplot(df,column):\n",
    "   \n",
    "    import seaborn as sns\n",
    "    from scipy.stats import kurtosis,skew \n",
    "\n",
    "    '''\n",
    "    This method to be used for features which are categorical in nature. (Ex. object)\n",
    "    df - dataframe\n",
    "    columns = str - name of the columns that need to be described  \n",
    "    \n",
    "    prints:\n",
    "    A count plot and a box plot will be printed.\n",
    "    Skewness and the kutosis will also be printed\n",
    "    '''\n",
    "    fig,[ax1,ax2]=plt.subplots(1,2,figsize=(12,6))\n",
    "    sns.countplot(df[df[column].notnull()][column],ax=ax1)\n",
    "    sns.boxplot(y=df[df[column].notnull()][column],ax=ax2)\n",
    "    print(\"skewness : \",skew(df[df[column].notnull()][column]))\n",
    "    print(\"kurtosis : \",kurtosis(df[df[column].notnull()][column]))\n",
    "    plt.show()"
   ]
  },
  {
   "cell_type": "code",
   "execution_count": 33,
   "id": "automated-charger",
   "metadata": {},
   "outputs": [],
   "source": [
    "col_name_cat=[col  for col in data.columns if data[col].dtype=='O']\n",
    "col_name_num=data.columns.difference(col_name_cat)"
   ]
  },
  {
   "cell_type": "code",
   "execution_count": 34,
   "id": "facial-interaction",
   "metadata": {},
   "outputs": [
    {
     "name": "stdout",
     "output_type": "stream",
     "text": [
      "['loan_id', 'customer_id', 'loan_status', 'term', 'years_in_current_job', 'home_ownership', 'purpose', 'monthly_debt', 'maximum_open_credit']\n"
     ]
    }
   ],
   "source": [
    "print(col_name_cat)"
   ]
  },
  {
   "cell_type": "code",
   "execution_count": 35,
   "id": "promising-mailman",
   "metadata": {},
   "outputs": [
    {
     "name": "stdout",
     "output_type": "stream",
     "text": [
      "Index(['annual_income', 'bankruptcies', 'credit_score',\n",
      "       'current_credit_balance', 'current_loan_amount',\n",
      "       'months_since_last_delinquent', 'number_of_credit_problems',\n",
      "       'number_of_open_accounts', 'tax_liens', 'years_of_credit_history'],\n",
      "      dtype='object')\n"
     ]
    }
   ],
   "source": [
    "print(col_name_num)"
   ]
  },
  {
   "cell_type": "markdown",
   "id": "absent-string",
   "metadata": {},
   "source": [
    "#### Univariate - Numeric"
   ]
  },
  {
   "cell_type": "code",
   "execution_count": 40,
   "id": "healthy-mongolia",
   "metadata": {},
   "outputs": [
    {
     "name": "stderr",
     "output_type": "stream",
     "text": [
      "c:\\users\\jbhsm\\anaconda3\\envs\\tf\\lib\\site-packages\\seaborn\\distributions.py:2557: FutureWarning: `distplot` is a deprecated function and will be removed in a future version. Please adapt your code to use either `displot` (a figure-level function with similar flexibility) or `histplot` (an axes-level function for histograms).\n",
      "  warnings.warn(msg, FutureWarning)\n"
     ]
    },
    {
     "name": "stdout",
     "output_type": "stream",
     "text": [
      "skewness :  44.74598747836201\n",
      "kurtosis :  6398.3206670975605\n"
     ]
    },
    {
     "data": {
      "image/png": "[encoded data removed]",
      "text/plain": [
       "<Figure size 864x360 with 2 Axes>"
      ]
     },
     "metadata": {
      "needs_background": "light"
     },
     "output_type": "display_data"
    }
   ],
   "source": [
    "plot_hist_boxplot(data,'annual_income')"
   ]
  },
  {
   "cell_type": "code",
   "execution_count": 42,
   "id": "straight-equation",
   "metadata": {
    "scrolled": true
   },
   "outputs": [
    {
     "data": {
      "text/plain": [
       "count    8.976900e+04\n",
       "mean     7.248600e+04\n",
       "std      5.593094e+04\n",
       "min      4.033000e+03\n",
       "25%      4.468800e+04\n",
       "50%      6.175200e+04\n",
       "75%      8.688700e+04\n",
       "max      8.713547e+06\n",
       "Name: annual_income, dtype: float64"
      ]
     },
     "execution_count": 42,
     "metadata": {},
     "output_type": "execute_result"
    }
   ],
   "source": [
    "data[\"annual_income\"].describe()"
   ]
  },
  {
   "cell_type": "code",
   "execution_count": 109,
   "id": "lasting-slope",
   "metadata": {},
   "outputs": [
    {
     "data": {
      "text/plain": [
       "0.200     40856.0\n",
       "0.750     86887.0\n",
       "0.900    120172.8\n",
       "0.950    147795.0\n",
       "0.990    241416.0\n",
       "0.999    492143.6\n",
       "Name: annual_income, dtype: float64"
      ]
     },
     "execution_count": 109,
     "metadata": {},
     "output_type": "execute_result"
    }
   ],
   "source": [
    "data['annual_income'].quantile([.2,0.75,0.90,.95,0.99,.999])"
   ]
  },
  {
   "cell_type": "markdown",
   "id": "provincial-territory",
   "metadata": {},
   "source": [
    "**Thoughts**\n",
    "\n",
    "* kurtosis is signifcantly high, which shows presence of outliers -> 6398, which is >>> 3\n",
    "* This is evident from the above desription, max values is 8.71 e+06, where at 75% the value is 8.68 e+04\n",
    "* we note that from 90% quantile value, there is a sudden jump in the figure, again there is sudden jump observed between 99% quantile and 99.9% quantile."
   ]
  },
  {
   "cell_type": "code",
   "execution_count": 111,
   "id": "color-block",
   "metadata": {},
   "outputs": [],
   "source": [
    "# Capping any values greater than 99% to 99th value\n",
    "data.loc[data['annual_income'] > 241416, 'annual_income'] = 241416"
   ]
  },
  {
   "cell_type": "code",
   "execution_count": 112,
   "id": "active-commitment",
   "metadata": {},
   "outputs": [
    {
     "name": "stderr",
     "output_type": "stream",
     "text": [
      "c:\\users\\jbhsm\\anaconda3\\envs\\tf\\lib\\site-packages\\seaborn\\distributions.py:2557: FutureWarning: `distplot` is a deprecated function and will be removed in a future version. Please adapt your code to use either `displot` (a figure-level function with similar flexibility) or `histplot` (an axes-level function for histograms).\n",
      "  warnings.warn(msg, FutureWarning)\n"
     ]
    },
    {
     "name": "stdout",
     "output_type": "stream",
     "text": [
      "skewness :  1.709952616197671\n",
      "kurtosis :  3.964910083504873\n"
     ]
    },
    {
     "data": {
      "image/png": "[encoded data removed]",
      "text/plain": [
       "<Figure size 864x360 with 2 Axes>"
      ]
     },
     "metadata": {
      "needs_background": "light"
     },
     "output_type": "display_data"
    }
   ],
   "source": [
    "plot_hist_boxplot(data,'annual_income')"
   ]
  },
  {
   "cell_type": "markdown",
   "id": "personalized-clock",
   "metadata": {},
   "source": [
    "**Thoughts**\n",
    "\n",
    "* The distribution has significantly improved, as the kurtosis is closer to 3, which signifies a normal distribution.\n",
    "* The data remains positively skewed.\n",
    "* to be noted here that, this feature contains Null values which also need to be treated."
   ]
  },
  {
   "cell_type": "code",
   "execution_count": 113,
   "id": "appreciated-plant",
   "metadata": {},
   "outputs": [
    {
     "name": "stderr",
     "output_type": "stream",
     "text": [
      "c:\\users\\jbhsm\\anaconda3\\envs\\tf\\lib\\site-packages\\seaborn\\distributions.py:2557: FutureWarning: `distplot` is a deprecated function and will be removed in a future version. Please adapt your code to use either `displot` (a figure-level function with similar flexibility) or `histplot` (an axes-level function for histograms).\n",
      "  warnings.warn(msg, FutureWarning)\n"
     ]
    },
    {
     "name": "stdout",
     "output_type": "stream",
     "text": [
      "skewness :  3.494620818066707\n",
      "kurtosis :  18.196138116147882\n"
     ]
    },
    {
     "data": {
      "image/png": "[encoded data removed]",
      "text/plain": [
       "<Figure size 864x360 with 2 Axes>"
      ]
     },
     "metadata": {
      "needs_background": "light"
     },
     "output_type": "display_data"
    }
   ],
   "source": [
    "# Bankruptcies\n",
    "plot_hist_boxplot(data,'bankruptcies')"
   ]
  },
  {
   "cell_type": "code",
   "execution_count": 114,
   "id": "electric-james",
   "metadata": {},
   "outputs": [
    {
     "data": {
      "text/plain": [
       "count    110879.00000\n",
       "mean          0.11766\n",
       "std           0.35142\n",
       "min           0.00000\n",
       "25%           0.00000\n",
       "50%           0.00000\n",
       "75%           0.00000\n",
       "max           7.00000\n",
       "Name: bankruptcies, dtype: float64"
      ]
     },
     "execution_count": 114,
     "metadata": {},
     "output_type": "execute_result"
    }
   ],
   "source": [
    "data[\"bankruptcies\"].describe()"
   ]
  },
  {
   "cell_type": "code",
   "execution_count": 115,
   "id": "stock-officer",
   "metadata": {},
   "outputs": [
    {
     "data": {
      "text/plain": [
       "0.200    0.0\n",
       "0.750    0.0\n",
       "0.900    1.0\n",
       "0.950    1.0\n",
       "0.990    1.0\n",
       "0.999    3.0\n",
       "Name: bankruptcies, dtype: float64"
      ]
     },
     "execution_count": 115,
     "metadata": {},
     "output_type": "execute_result"
    }
   ],
   "source": [
    "data['bankruptcies'].quantile([.2,0.75,0.90,.95,0.99,.999])"
   ]
  },
  {
   "cell_type": "code",
   "execution_count": 117,
   "id": "matched-syndrome",
   "metadata": {},
   "outputs": [
    {
     "data": {
      "text/plain": [
       "0.2000    0.0\n",
       "0.7500    0.0\n",
       "0.9000    1.0\n",
       "0.9500    1.0\n",
       "0.9900    1.0\n",
       "0.9990    3.0\n",
       "0.9999    4.0\n",
       "1.0000    7.0\n",
       "Name: bankruptcies, dtype: float64"
      ]
     },
     "execution_count": 117,
     "metadata": {},
     "output_type": "execute_result"
    }
   ],
   "source": [
    "data['bankruptcies'].quantile([.2,0.75,0.90,.95,0.99,.999,.9999,1])"
   ]
  },
  {
   "cell_type": "code",
   "execution_count": 120,
   "id": "jewish-level",
   "metadata": {},
   "outputs": [
    {
     "data": {
      "text/plain": [
       "0.0    98650\n",
       "1.0    11613\n",
       "2.0      468\n",
       "3.0      110\n",
       "4.0       27\n",
       "5.0        8\n",
       "6.0        2\n",
       "7.0        1\n",
       "Name: bankruptcies, dtype: int64"
      ]
     },
     "execution_count": 120,
     "metadata": {},
     "output_type": "execute_result"
    }
   ],
   "source": [
    "# We can see that maximum of the values are 0 and 1 followed by 2 and 3\n",
    "data['bankruptcies'].value_counts()"
   ]
  },
  {
   "cell_type": "code",
   "execution_count": 121,
   "id": "electronic-robertson",
   "metadata": {},
   "outputs": [
    {
     "data": {
      "text/plain": [
       "228"
      ]
     },
     "execution_count": 121,
     "metadata": {},
     "output_type": "execute_result"
    }
   ],
   "source": [
    "#This feature has Null values \n",
    "data['bankruptcies'].isnull().sum()"
   ]
  },
  {
   "cell_type": "markdown",
   "id": "substantial-exercise",
   "metadata": {},
   "source": [
    "**Thoughts**\n",
    "\n",
    "* bankruptcies - there are 228 null values, which may be imputed considering if it is correlated with other features or not etc or else using iterative/soft imputer\n",
    "* value of 7 may not be considered outlier, since 5 & 6 are also present, which gievs idea that 7 may be valid data"
   ]
  },
  {
   "cell_type": "code",
   "execution_count": 122,
   "id": "senior-turner",
   "metadata": {},
   "outputs": [
    {
     "name": "stderr",
     "output_type": "stream",
     "text": [
      "c:\\users\\jbhsm\\anaconda3\\envs\\tf\\lib\\site-packages\\seaborn\\distributions.py:2557: FutureWarning: `distplot` is a deprecated function and will be removed in a future version. Please adapt your code to use either `displot` (a figure-level function with similar flexibility) or `histplot` (an axes-level function for histograms).\n",
      "  warnings.warn(msg, FutureWarning)\n"
     ]
    },
    {
     "name": "stdout",
     "output_type": "stream",
     "text": [
      "skewness :  3.8673409659760876\n",
      "kurtosis :  13.003289885613228\n"
     ]
    },
    {
     "data": {
      "image/png": "[encoded data removed]",
      "text/plain": [
       "<Figure size 864x360 with 2 Axes>"
      ]
     },
     "metadata": {
      "needs_background": "light"
     },
     "output_type": "display_data"
    }
   ],
   "source": [
    "# Credit Score\n",
    "plot_hist_boxplot(data,'credit_score')"
   ]
  },
  {
   "cell_type": "code",
   "execution_count": 124,
   "id": "veterinary-galaxy",
   "metadata": {},
   "outputs": [
    {
     "data": {
      "text/plain": [
       "count    89769.000000\n",
       "mean      1075.795029\n",
       "std       1474.133505\n",
       "min        585.000000\n",
       "25%        705.000000\n",
       "50%        724.000000\n",
       "75%        741.000000\n",
       "max       7510.000000\n",
       "Name: credit_score, dtype: float64"
      ]
     },
     "execution_count": 124,
     "metadata": {},
     "output_type": "execute_result"
    }
   ],
   "source": [
    "data[\"credit_score\"].describe()"
   ]
  },
  {
   "cell_type": "code",
   "execution_count": 125,
   "id": "framed-tunisia",
   "metadata": {
    "scrolled": true
   },
   "outputs": [
    {
     "data": {
      "text/plain": [
       "0.200     699.0\n",
       "0.750     741.0\n",
       "0.900     748.0\n",
       "0.950    6690.0\n",
       "0.990    7380.0\n",
       "0.999    7480.0\n",
       "Name: credit_score, dtype: float64"
      ]
     },
     "execution_count": 125,
     "metadata": {},
     "output_type": "execute_result"
    }
   ],
   "source": [
    "data['credit_score'].quantile([.2,0.75,0.90,.95,0.99,.999])"
   ]
  },
  {
   "cell_type": "code",
   "execution_count": 134,
   "id": "interim-exhibition",
   "metadata": {},
   "outputs": [
    {
     "data": {
      "text/plain": [
       "0.9400     751.0\n",
       "0.9450    6270.0\n",
       "0.9500    6690.0\n",
       "0.9600    7000.0\n",
       "0.9700    7160.0\n",
       "0.9900    7380.0\n",
       "0.9990    7480.0\n",
       "0.9999    7510.0\n",
       "Name: credit_score, dtype: float64"
      ]
     },
     "execution_count": 134,
     "metadata": {},
     "output_type": "execute_result"
    }
   ],
   "source": [
    "data['credit_score'].quantile([.94,.945,.95,.96,.97,0.99,.999,.9999])"
   ]
  },
  {
   "cell_type": "markdown",
   "id": "brief-supervision",
   "metadata": {},
   "source": [
    "* We can see, a portion of value ranges from 5500 to 7500 approximately, rest values are less than 1000\n",
    "* The upper quartile is hooked at 748, where as max value is 7510, same is confirmed from the quantile data.\n",
    "* We can see that,751 at 94 percentile jumps to 6270 at 94.5 percentile, more over credit score cannot be mmore than 800"
   ]
  },
  {
   "cell_type": "code",
   "execution_count": 135,
   "id": "ready-prime",
   "metadata": {},
   "outputs": [],
   "source": [
    "# Imputation\n",
    "data[\"credit_score\"]=np.where(data[\"credit_score\"]>800, data[\"credit_score\"]/10, data[\"credit_score\"])"
   ]
  },
  {
   "cell_type": "code",
   "execution_count": 138,
   "id": "bizarre-canon",
   "metadata": {},
   "outputs": [],
   "source": [
    "# Using the mean to fill the Null\n",
    "data[\"credit_score\"].fillna(data[\"credit_score\"].mean(),inplace=True)"
   ]
  },
  {
   "cell_type": "code",
   "execution_count": 139,
   "id": "likely-measurement",
   "metadata": {},
   "outputs": [
    {
     "name": "stderr",
     "output_type": "stream",
     "text": [
      "c:\\users\\jbhsm\\anaconda3\\envs\\tf\\lib\\site-packages\\seaborn\\distributions.py:2557: FutureWarning: `distplot` is a deprecated function and will be removed in a future version. Please adapt your code to use either `displot` (a figure-level function with similar flexibility) or `histplot` (an axes-level function for histograms).\n",
      "  warnings.warn(msg, FutureWarning)\n"
     ]
    },
    {
     "name": "stdout",
     "output_type": "stream",
     "text": [
      "skewness :  -1.4882453491799483\n",
      "kurtosis :  3.2045068363441986\n"
     ]
    },
    {
     "data": {
      "image/png": "[encoded data removed]",
      "text/plain": [
       "<Figure size 864x360 with 2 Axes>"
      ]
     },
     "metadata": {
      "needs_background": "light"
     },
     "output_type": "display_data"
    }
   ],
   "source": [
    "# credit_score\n",
    "plot_hist_boxplot(data,'credit_score')"
   ]
  },
  {
   "cell_type": "markdown",
   "id": "brazilian-accuracy",
   "metadata": {},
   "source": [
    "**Thoughts**\n",
    "\n",
    "* The data is negetively skewed\n",
    "* peak is observed at 716-720, due to NA values that were filled.\n",
    "* the data need to be transformed."
   ]
  },
  {
   "cell_type": "code",
   "execution_count": 211,
   "id": "artificial-palmer",
   "metadata": {},
   "outputs": [],
   "source": [
    "def sqrt_trf(value_list):\n",
    "   \n",
    "\n",
    "    import numpy as np\n",
    "    '''\n",
    "    Input\n",
    "    value-list = list or series of values int or float\n",
    "    \n",
    "    returns\n",
    "    list of square transformed values   \n",
    "    \n",
    "    '''\n",
    "    return np.sqrt(value_list) "
   ]
  },
  {
   "cell_type": "code",
   "execution_count": 210,
   "id": "competitive-allocation",
   "metadata": {},
   "outputs": [],
   "source": [
    "def log_trf(value_list):\n",
    "    \n",
    "    import numpy as np\n",
    "    '''\n",
    "    Input\n",
    "    value-list = list or series of values int or float\n",
    "    \n",
    "    returns\n",
    "    if the list doesnot contain values < 1, return np.log transformation of the values,\n",
    "    else returns np.log1p transformation of the values\n",
    "    '''\n",
    "    \n",
    "    if np.floor(value_list).any()==0:\n",
    "        return np.log1p(value_list)\n",
    "    else:\n",
    "        return np.log(value_list)\n",
    "    "
   ]
  },
  {
   "cell_type": "code",
   "execution_count": 205,
   "id": "secure-examination",
   "metadata": {},
   "outputs": [],
   "source": [
    "def boxcox_trf(value_list):\n",
    "   \n",
    "\n",
    "    from scipy.stats import boxcox\n",
    "    '''\n",
    "    Input\n",
    "    value-list = list or series of values int or float\n",
    "    \n",
    "    returns\n",
    "    list of boxcox transformed values   \n",
    "    \n",
    "    '''\n",
    "    epsilon = 0.0001\n",
    "    value_list_updated = [val+epsilon for val in value_list if val==0]\n",
    "    bcox_trf,_ =boxcox(value_list_updated)\n",
    "    \n",
    "    return bcox_trf   "
   ]
  },
  {
   "cell_type": "code",
   "execution_count": 180,
   "id": "rubber-cyprus",
   "metadata": {},
   "outputs": [],
   "source": [
    "def transform_feat(df,feature_list):\n",
    "    \n",
    "    import pandas as pd\n",
    "    import numpy as np\n",
    "    \n",
    "    \n",
    "    trf_dict={}\n",
    "    dict_final={}\n",
    "    for col in feature_list:\n",
    "        log_trf_data=pd.Series(log_trf(df[col]))\n",
    "        bcox_trf_data=pd.Series(boxcox_trf(df[col]))\n",
    "        sqrt_trf_data=pd.Series(np.sqrt(df[col]))\n",
    "        trf_dict['skew_b4_trf']=np.round(df[col].skew(),3)\n",
    "        trf_dict['log_trf']=np.round(log_trf_data.skew(),3)\n",
    "        trf_dict['bcox_trf']=np.round(bcox_trf_data.skew(),3)\n",
    "        trf_dict['sqrt_trf']=np.round(sqrt_trf_data.skew(),3)\n",
    "        dict_final[col]=trf_dict\n",
    "        trf_dict={}\n",
    "\n",
    "    df_dict=pd.DataFrame(dict_final).transpose()\n",
    "    \n",
    "    return df_dict"
   ]
  },
  {
   "cell_type": "code",
   "execution_count": 181,
   "id": "deluxe-strength",
   "metadata": {},
   "outputs": [],
   "source": [
    "trf_val=transform_feat(data,['credit_score'])"
   ]
  },
  {
   "cell_type": "code",
   "execution_count": 182,
   "id": "mexican-crest",
   "metadata": {},
   "outputs": [
    {
     "data": {
      "text/html": [
       "<div>\n",
       "<style scoped>\n",
       "    .dataframe tbody tr th:only-of-type {\n",
       "        vertical-align: middle;\n",
       "    }\n",
       "\n",
       "    .dataframe tbody tr th {\n",
       "        vertical-align: top;\n",
       "    }\n",
       "\n",
       "    .dataframe thead th {\n",
       "        text-align: right;\n",
       "    }\n",
       "</style>\n",
       "<table border=\"1\" class=\"dataframe\">\n",
       "  <thead>\n",
       "    <tr style=\"text-align: right;\">\n",
       "      <th></th>\n",
       "      <th>bcox_trf</th>\n",
       "      <th>log_trf</th>\n",
       "      <th>skew_b4_trf</th>\n",
       "      <th>sqrt_trf</th>\n",
       "    </tr>\n",
       "  </thead>\n",
       "  <tbody>\n",
       "    <tr>\n",
       "      <th>credit_score</th>\n",
       "      <td>-0.088</td>\n",
       "      <td>-1.66</td>\n",
       "      <td>-1.488</td>\n",
       "      <td>-1.573</td>\n",
       "    </tr>\n",
       "  </tbody>\n",
       "</table>\n",
       "</div>"
      ],
      "text/plain": [
       "              bcox_trf  log_trf  skew_b4_trf  sqrt_trf\n",
       "credit_score    -0.088    -1.66       -1.488    -1.573"
      ]
     },
     "execution_count": 182,
     "metadata": {},
     "output_type": "execute_result"
    }
   ],
   "source": [
    "trf_val"
   ]
  },
  {
   "cell_type": "markdown",
   "id": "discrete-island",
   "metadata": {},
   "source": [
    "**Thoughts**\n",
    "\n",
    "* Boxcox provides lowest skew values\n",
    "* we shall do boxcox transformation on this feature"
   ]
  },
  {
   "cell_type": "code",
   "execution_count": 183,
   "id": "changing-privacy",
   "metadata": {},
   "outputs": [],
   "source": [
    "data[\"credit_score_trf\"]=boxcox_trf(data[\"credit_score\"])"
   ]
  },
  {
   "cell_type": "code",
   "execution_count": 184,
   "id": "colonial-chicken",
   "metadata": {
    "scrolled": false
   },
   "outputs": [
    {
     "name": "stderr",
     "output_type": "stream",
     "text": [
      "c:\\users\\jbhsm\\anaconda3\\envs\\tf\\lib\\site-packages\\seaborn\\distributions.py:2557: FutureWarning: `distplot` is a deprecated function and will be removed in a future version. Please adapt your code to use either `displot` (a figure-level function with similar flexibility) or `histplot` (an axes-level function for histograms).\n",
      "  warnings.warn(msg, FutureWarning)\n"
     ]
    },
    {
     "name": "stdout",
     "output_type": "stream",
     "text": [
      "skewness :  -0.0876646336606379\n",
      "kurtosis :  -0.46656133690885637\n"
     ]
    },
    {
     "data": {
      "image/png": "[encoded data removed]",
      "text/plain": [
       "<Figure size 864x360 with 2 Axes>"
      ]
     },
     "metadata": {
      "needs_background": "light"
     },
     "output_type": "display_data"
    }
   ],
   "source": [
    "# credit_score\n",
    "plot_hist_boxplot(data,'credit_score_trf')"
   ]
  },
  {
   "cell_type": "code",
   "execution_count": 396,
   "id": "metallic-purpose",
   "metadata": {},
   "outputs": [
    {
     "data": {
      "text/plain": [
       "count    1.110960e+05\n",
       "mean     6.400983e+36\n",
       "std      2.374344e+36\n",
       "min      4.002452e+35\n",
       "25%      5.133306e+36\n",
       "50%      5.879975e+36\n",
       "75%      8.279105e+36\n",
       "max      1.101817e+37\n",
       "Name: credit_score_trf, dtype: float64"
      ]
     },
     "execution_count": 396,
     "metadata": {},
     "output_type": "execute_result"
    }
   ],
   "source": [
    "data[\"credit_score_trf\"].describe()"
   ]
  },
  {
   "cell_type": "markdown",
   "id": "rubber-ranking",
   "metadata": {},
   "source": [
    "* Skewness has significantly improved and the distribution can be seen on both side of thecentral data"
   ]
  },
  {
   "cell_type": "code",
   "execution_count": 185,
   "id": "ignored-intermediate",
   "metadata": {},
   "outputs": [
    {
     "name": "stderr",
     "output_type": "stream",
     "text": [
      "c:\\users\\jbhsm\\anaconda3\\envs\\tf\\lib\\site-packages\\seaborn\\distributions.py:2557: FutureWarning: `distplot` is a deprecated function and will be removed in a future version. Please adapt your code to use either `displot` (a figure-level function with similar flexibility) or `histplot` (an axes-level function for histograms).\n",
      "  warnings.warn(msg, FutureWarning)\n"
     ]
    },
    {
     "name": "stdout",
     "output_type": "stream",
     "text": [
      "skewness :  14.184075021155504\n",
      "kurtosis :  671.5241083253418\n"
     ]
    },
    {
     "data": {
      "image/png": "[encoded data removed]",
      "text/plain": [
       "<Figure size 864x360 with 2 Axes>"
      ]
     },
     "metadata": {
      "needs_background": "light"
     },
     "output_type": "display_data"
    }
   ],
   "source": [
    "# current_credit_balance\n",
    "plot_hist_boxplot(data,'current_credit_balance')"
   ]
  },
  {
   "cell_type": "code",
   "execution_count": 186,
   "id": "excessive-application",
   "metadata": {},
   "outputs": [
    {
     "data": {
      "text/plain": [
       "count    1.111070e+05\n",
       "mean     1.548314e+04\n",
       "std      1.982115e+04\n",
       "min      0.000000e+00\n",
       "25%      5.905000e+03\n",
       "50%      1.102700e+04\n",
       "75%      1.933800e+04\n",
       "max      1.730472e+06\n",
       "Name: current_credit_balance, dtype: float64"
      ]
     },
     "execution_count": 186,
     "metadata": {},
     "output_type": "execute_result"
    }
   ],
   "source": [
    "data[\"current_credit_balance\"].describe()"
   ]
  },
  {
   "cell_type": "code",
   "execution_count": 187,
   "id": "blond-celebration",
   "metadata": {},
   "outputs": [
    {
     "data": {
      "text/plain": [
       "0.200      4994.0\n",
       "0.750     19338.0\n",
       "0.900     30979.0\n",
       "0.950     40014.7\n",
       "0.990     81594.2\n",
       "0.999    229855.0\n",
       "Name: current_credit_balance, dtype: float64"
      ]
     },
     "execution_count": 187,
     "metadata": {},
     "output_type": "execute_result"
    }
   ],
   "source": [
    "data['current_credit_balance'].quantile([.2,0.75,0.90,.95,0.99,.999])"
   ]
  },
  {
   "cell_type": "code",
   "execution_count": 198,
   "id": "canadian-stability",
   "metadata": {
    "scrolled": true
   },
   "outputs": [
    {
     "data": {
      "text/plain": [
       "0.9900    8.159420e+04\n",
       "0.9920    9.172882e+04\n",
       "0.9950    1.116805e+05\n",
       "0.9992    2.551000e+05\n",
       "0.9999    4.735171e+05\n",
       "1.0000    1.730472e+06\n",
       "Name: current_credit_balance, dtype: float64"
      ]
     },
     "execution_count": 198,
     "metadata": {},
     "output_type": "execute_result"
    }
   ],
   "source": [
    "data['current_credit_balance'].quantile([0.99,0.992,.995,0.9992,.9999,1])"
   ]
  },
  {
   "cell_type": "markdown",
   "id": "matched-honolulu",
   "metadata": {},
   "source": [
    "* The values above 99 percentile are replced with 99 percentile data"
   ]
  },
  {
   "cell_type": "code",
   "execution_count": 200,
   "id": "approved-heavy",
   "metadata": {},
   "outputs": [
    {
     "data": {
      "text/plain": [
       "81594.20000000042"
      ]
     },
     "execution_count": 200,
     "metadata": {},
     "output_type": "execute_result"
    }
   ],
   "source": [
    "current_credit_balance_99_qtl_val=data['current_credit_balance'].quantile(0.99)\n",
    "current_credit_balance_99_qtl_val"
   ]
  },
  {
   "cell_type": "code",
   "execution_count": 201,
   "id": "front-lawyer",
   "metadata": {},
   "outputs": [],
   "source": [
    "data.loc[data['current_credit_balance']>current_credit_balance_99_qtl_val,'current_credit_balance']=current_credit_balance_99_qtl_val"
   ]
  },
  {
   "cell_type": "code",
   "execution_count": 202,
   "id": "auburn-compiler",
   "metadata": {},
   "outputs": [
    {
     "name": "stderr",
     "output_type": "stream",
     "text": [
      "c:\\users\\jbhsm\\anaconda3\\envs\\tf\\lib\\site-packages\\seaborn\\distributions.py:2557: FutureWarning: `distplot` is a deprecated function and will be removed in a future version. Please adapt your code to use either `displot` (a figure-level function with similar flexibility) or `histplot` (an axes-level function for histograms).\n",
      "  warnings.warn(msg, FutureWarning)\n"
     ]
    },
    {
     "name": "stdout",
     "output_type": "stream",
     "text": [
      "skewness :  2.234046012800344\n",
      "kurtosis :  6.70832866182495\n"
     ]
    },
    {
     "data": {
      "image/png": "[encoded data removed]",
      "text/plain": [
       "<Figure size 864x360 with 2 Axes>"
      ]
     },
     "metadata": {
      "needs_background": "light"
     },
     "output_type": "display_data"
    }
   ],
   "source": [
    "# current_credit_balance\n",
    "plot_hist_boxplot(data,'current_credit_balance')"
   ]
  },
  {
   "cell_type": "code",
   "execution_count": 212,
   "id": "invalid-hormone",
   "metadata": {},
   "outputs": [
    {
     "data": {
      "text/plain": [
       "0.7636907191034155"
      ]
     },
     "execution_count": 212,
     "metadata": {},
     "output_type": "execute_result"
    }
   ],
   "source": [
    "skew(sqrt_trf(data['current_credit_balance']))"
   ]
  },
  {
   "cell_type": "code",
   "execution_count": 215,
   "id": "viral-cancellation",
   "metadata": {},
   "outputs": [
    {
     "data": {
      "text/plain": [
       "1.0633666538579236"
      ]
     },
     "execution_count": 215,
     "metadata": {},
     "output_type": "execute_result"
    }
   ],
   "source": [
    "kurtosis(sqrt_trf(data['current_credit_balance']))"
   ]
  },
  {
   "cell_type": "code",
   "execution_count": 216,
   "id": "oriental-equilibrium",
   "metadata": {},
   "outputs": [],
   "source": [
    "data[\"current_credit_balance_trf\"]=sqrt_trf(data['current_credit_balance'])"
   ]
  },
  {
   "cell_type": "code",
   "execution_count": 217,
   "id": "quiet-model",
   "metadata": {},
   "outputs": [
    {
     "name": "stderr",
     "output_type": "stream",
     "text": [
      "c:\\users\\jbhsm\\anaconda3\\envs\\tf\\lib\\site-packages\\seaborn\\distributions.py:2557: FutureWarning: `distplot` is a deprecated function and will be removed in a future version. Please adapt your code to use either `displot` (a figure-level function with similar flexibility) or `histplot` (an axes-level function for histograms).\n",
      "  warnings.warn(msg, FutureWarning)\n"
     ]
    },
    {
     "name": "stdout",
     "output_type": "stream",
     "text": [
      "skewness :  0.7636907191034155\n",
      "kurtosis :  1.0633666538579236\n"
     ]
    },
    {
     "data": {
      "image/png": "[encoded data removed]",
      "text/plain": [
       "<Figure size 864x360 with 2 Axes>"
      ]
     },
     "metadata": {
      "needs_background": "light"
     },
     "output_type": "display_data"
    }
   ],
   "source": [
    "# current_credit_balance - sqrt transformed\n",
    "\n",
    "plot_hist_boxplot(data,'current_credit_balance_trf')"
   ]
  },
  {
   "cell_type": "code",
   "execution_count": 218,
   "id": "signal-bobby",
   "metadata": {},
   "outputs": [
    {
     "name": "stderr",
     "output_type": "stream",
     "text": [
      "c:\\users\\jbhsm\\anaconda3\\envs\\tf\\lib\\site-packages\\seaborn\\distributions.py:2557: FutureWarning: `distplot` is a deprecated function and will be removed in a future version. Please adapt your code to use either `displot` (a figure-level function with similar flexibility) or `histplot` (an axes-level function for histograms).\n",
      "  warnings.warn(msg, FutureWarning)\n"
     ]
    },
    {
     "name": "stdout",
     "output_type": "stream",
     "text": [
      "skewness :  2.4190854674456514\n",
      "kurtosis :  3.8519751139356533\n"
     ]
    },
    {
     "data": {
      "image/png": "[encoded data removed]",
      "text/plain": [
       "<Figure size 864x360 with 2 Axes>"
      ]
     },
     "metadata": {
      "needs_background": "light"
     },
     "output_type": "display_data"
    }
   ],
   "source": [
    "# current_loan_amount \n",
    "\n",
    "plot_hist_boxplot(data,'current_loan_amount')"
   ]
  },
  {
   "cell_type": "code",
   "execution_count": 219,
   "id": "detailed-respondent",
   "metadata": {},
   "outputs": [
    {
     "data": {
      "text/plain": [
       "count    1.111070e+05\n",
       "mean     1.147718e+07\n",
       "std      3.185508e+07\n",
       "min      4.910000e+02\n",
       "25%      8.162000e+03\n",
       "50%      1.418300e+04\n",
       "75%      2.382200e+04\n",
       "max      1.000000e+08\n",
       "Name: current_loan_amount, dtype: float64"
      ]
     },
     "execution_count": 219,
     "metadata": {},
     "output_type": "execute_result"
    }
   ],
   "source": [
    "data[\"current_loan_amount\"].describe()"
   ]
  },
  {
   "cell_type": "code",
   "execution_count": 221,
   "id": "bright-berry",
   "metadata": {
    "scrolled": true
   },
   "outputs": [
    {
     "data": {
      "text/plain": [
       "0.200        7137.0\n",
       "0.750       23822.0\n",
       "0.890    99999999.0\n",
       "0.900    99999999.0\n",
       "0.950    99999999.0\n",
       "0.990    99999999.0\n",
       "0.999    99999999.0\n",
       "Name: current_loan_amount, dtype: float64"
      ]
     },
     "execution_count": 221,
     "metadata": {},
     "output_type": "execute_result"
    }
   ],
   "source": [
    "data['current_loan_amount'].quantile([.2,0.75,0.89,0.90,.95,0.99,.999])"
   ]
  },
  {
   "cell_type": "markdown",
   "id": "controlled-spice",
   "metadata": {},
   "source": [
    "* This shows that there is a wrong entry 90 percentile onwards"
   ]
  },
  {
   "cell_type": "code",
   "execution_count": 224,
   "id": "coupled-zealand",
   "metadata": {},
   "outputs": [],
   "source": [
    "temp=np.array(data[\"current_loan_amount\"].values.tolist())\n",
    "data[\"current_loan_amount\"] = np.where(temp > 9999998,np.nan,temp).tolist()"
   ]
  },
  {
   "cell_type": "code",
   "execution_count": 225,
   "id": "difficult-bible",
   "metadata": {},
   "outputs": [
    {
     "name": "stderr",
     "output_type": "stream",
     "text": [
      "c:\\users\\jbhsm\\anaconda3\\envs\\tf\\lib\\site-packages\\seaborn\\distributions.py:2557: FutureWarning: `distplot` is a deprecated function and will be removed in a future version. Please adapt your code to use either `displot` (a figure-level function with similar flexibility) or `histplot` (an axes-level function for histograms).\n",
      "  warnings.warn(msg, FutureWarning)\n"
     ]
    },
    {
     "name": "stdout",
     "output_type": "stream",
     "text": [
      "skewness :  0.7618430127035156\n",
      "kurtosis :  -0.11570849665708716\n"
     ]
    },
    {
     "data": {
      "image/png": "[encoded data removed]",
      "text/plain": [
       "<Figure size 864x360 with 2 Axes>"
      ]
     },
     "metadata": {
      "needs_background": "light"
     },
     "output_type": "display_data"
    }
   ],
   "source": [
    "# current_loan_amount \n",
    "\n",
    "plot_hist_boxplot(data,'current_loan_amount')"
   ]
  },
  {
   "cell_type": "code",
   "execution_count": 223,
   "id": "affecting-digest",
   "metadata": {},
   "outputs": [
    {
     "data": {
      "text/plain": [
       "14183.0"
      ]
     },
     "execution_count": 223,
     "metadata": {},
     "output_type": "execute_result"
    }
   ],
   "source": [
    "current_loan_amount_median = data['current_loan_amount'].quantile(0.5)\n",
    "current_loan_amount_median"
   ]
  },
  {
   "cell_type": "code",
   "execution_count": 228,
   "id": "personal-transition",
   "metadata": {},
   "outputs": [],
   "source": [
    "# Replacing the error value with the median value\n",
    "data[\"current_loan_amount\"].fillna(current_loan_amount_median, inplace=True) "
   ]
  },
  {
   "cell_type": "code",
   "execution_count": 229,
   "id": "ecological-maximum",
   "metadata": {},
   "outputs": [
    {
     "name": "stderr",
     "output_type": "stream",
     "text": [
      "c:\\users\\jbhsm\\anaconda3\\envs\\tf\\lib\\site-packages\\seaborn\\distributions.py:2557: FutureWarning: `distplot` is a deprecated function and will be removed in a future version. Please adapt your code to use either `displot` (a figure-level function with similar flexibility) or `histplot` (an axes-level function for histograms).\n",
      "  warnings.warn(msg, FutureWarning)\n"
     ]
    },
    {
     "name": "stdout",
     "output_type": "stream",
     "text": [
      "skewness :  0.8096276550915971\n",
      "kurtosis :  0.2577404673099233\n"
     ]
    },
    {
     "data": {
      "image/png": "[encoded data removed]",
      "text/plain": [
       "<Figure size 864x360 with 2 Axes>"
      ]
     },
     "metadata": {
      "needs_background": "light"
     },
     "output_type": "display_data"
    }
   ],
   "source": [
    "# current_loan_amount \n",
    "\n",
    "plot_hist_boxplot(data,'current_loan_amount')"
   ]
  },
  {
   "cell_type": "code",
   "execution_count": 230,
   "id": "homeless-binary",
   "metadata": {},
   "outputs": [
    {
     "name": "stderr",
     "output_type": "stream",
     "text": [
      "c:\\users\\jbhsm\\anaconda3\\envs\\tf\\lib\\site-packages\\seaborn\\distributions.py:2557: FutureWarning: `distplot` is a deprecated function and will be removed in a future version. Please adapt your code to use either `displot` (a figure-level function with similar flexibility) or `histplot` (an axes-level function for histograms).\n",
      "  warnings.warn(msg, FutureWarning)\n"
     ]
    },
    {
     "name": "stdout",
     "output_type": "stream",
     "text": [
      "skewness :  0.4354627891485026\n",
      "kurtosis :  -0.7484343414753551\n"
     ]
    },
    {
     "data": {
      "image/png": "[encoded data removed]",
      "text/plain": [
       "<Figure size 864x360 with 2 Axes>"
      ]
     },
     "metadata": {
      "needs_background": "light"
     },
     "output_type": "display_data"
    }
   ],
   "source": [
    "# months_since_last_delinquent \n",
    "\n",
    "plot_hist_boxplot(data,'months_since_last_delinquent')"
   ]
  },
  {
   "cell_type": "code",
   "execution_count": 231,
   "id": "national-blake",
   "metadata": {},
   "outputs": [
    {
     "data": {
      "text/plain": [
       "count    52104.000000\n",
       "mean        34.902272\n",
       "std         21.970696\n",
       "min          0.000000\n",
       "25%         16.000000\n",
       "50%         32.000000\n",
       "75%         51.000000\n",
       "max        176.000000\n",
       "Name: months_since_last_delinquent, dtype: float64"
      ]
     },
     "execution_count": 231,
     "metadata": {},
     "output_type": "execute_result"
    }
   ],
   "source": [
    "data[\"months_since_last_delinquent\"].describe()"
   ]
  },
  {
   "cell_type": "code",
   "execution_count": 232,
   "id": "retained-indicator",
   "metadata": {},
   "outputs": [
    {
     "data": {
      "text/plain": [
       "0.200    14.0\n",
       "0.750    51.0\n",
       "0.890    67.0\n",
       "0.900    68.0\n",
       "0.950    75.0\n",
       "0.990    81.0\n",
       "0.999    85.0\n",
       "Name: months_since_last_delinquent, dtype: float64"
      ]
     },
     "execution_count": 232,
     "metadata": {},
     "output_type": "execute_result"
    }
   ],
   "source": [
    "data[\"months_since_last_delinquent\"].quantile([.2,0.75,0.89,0.90,.95,0.99,.999])"
   ]
  },
  {
   "cell_type": "code",
   "execution_count": 242,
   "id": "statutory-florence",
   "metadata": {},
   "outputs": [
    {
     "data": {
      "text/plain": [
       "0.9900     81.0000\n",
       "0.9997    111.4764\n",
       "0.9998    125.2146\n",
       "0.9999    140.5794\n",
       "1.0000    176.0000\n",
       "Name: months_since_last_delinquent, dtype: float64"
      ]
     },
     "execution_count": 242,
     "metadata": {},
     "output_type": "execute_result"
    }
   ],
   "source": [
    "data[\"months_since_last_delinquent\"].quantile([0.99,.9997,.9998,0.9999,1])"
   ]
  },
  {
   "cell_type": "code",
   "execution_count": 237,
   "id": "prerequisite-mining",
   "metadata": {},
   "outputs": [
    {
     "data": {
      "text/plain": [
       "83370     176.0\n",
       "107595    176.0\n",
       "552       152.0\n",
       "27594     148.0\n",
       "86795     143.0\n",
       "15077     141.0\n",
       "Name: months_since_last_delinquent, dtype: float64"
      ]
     },
     "execution_count": 237,
     "metadata": {},
     "output_type": "execute_result"
    }
   ],
   "source": [
    "data[\"months_since_last_delinquent\"].nlargest(6)"
   ]
  },
  {
   "cell_type": "markdown",
   "id": "sudden-father",
   "metadata": {},
   "source": [
    "* The values falling in last 1 percentile will be replaced by value at 99 percentile"
   ]
  },
  {
   "cell_type": "code",
   "execution_count": 244,
   "id": "contrary-exception",
   "metadata": {},
   "outputs": [
    {
     "data": {
      "text/plain": [
       "81.0"
      ]
     },
     "execution_count": 244,
     "metadata": {},
     "output_type": "execute_result"
    }
   ],
   "source": [
    "months_since_last_delinquent_99_pctl = data[\"months_since_last_delinquent\"].quantile(0.99)\n",
    "months_since_last_delinquent_99_pctl"
   ]
  },
  {
   "cell_type": "code",
   "execution_count": 247,
   "id": "seventh-transportation",
   "metadata": {},
   "outputs": [
    {
     "data": {
      "text/plain": [
       "Loan Given    2\n",
       "Name: loan_status, dtype: int64"
      ]
     },
     "execution_count": 247,
     "metadata": {},
     "output_type": "execute_result"
    }
   ],
   "source": [
    "# Checking the target variable status \n",
    "# basically higher the value better it is, that means the customer have corrected himself/herself for last fail to pay\n",
    "data[data[\"months_since_last_delinquent\"]>160][\"loan_status\"].value_counts()"
   ]
  },
  {
   "cell_type": "markdown",
   "id": "agricultural-analyst",
   "metadata": {},
   "source": [
    "* This feature also has null values, which we'll treat with imputer at the last"
   ]
  },
  {
   "cell_type": "code",
   "execution_count": 248,
   "id": "suited-blogger",
   "metadata": {},
   "outputs": [
    {
     "name": "stderr",
     "output_type": "stream",
     "text": [
      "c:\\users\\jbhsm\\anaconda3\\envs\\tf\\lib\\site-packages\\seaborn\\distributions.py:2557: FutureWarning: `distplot` is a deprecated function and will be removed in a future version. Please adapt your code to use either `displot` (a figure-level function with similar flexibility) or `histplot` (an axes-level function for histograms).\n",
      "  warnings.warn(msg, FutureWarning)\n"
     ]
    },
    {
     "name": "stdout",
     "output_type": "stream",
     "text": [
      "skewness :  4.904699853856258\n",
      "kurtosis :  49.28560237650115\n"
     ]
    },
    {
     "data": {
      "image/png": "[encoded data removed]",
      "text/plain": [
       "<Figure size 864x360 with 2 Axes>"
      ]
     },
     "metadata": {
      "needs_background": "light"
     },
     "output_type": "display_data"
    }
   ],
   "source": [
    "# number_of_credit_problems \n",
    "\n",
    "plot_hist_boxplot(data,'number_of_credit_problems')"
   ]
  },
  {
   "cell_type": "code",
   "execution_count": 249,
   "id": "genuine-apollo",
   "metadata": {},
   "outputs": [
    {
     "data": {
      "text/plain": [
       "count    111107.000000\n",
       "mean          0.168027\n",
       "std           0.484212\n",
       "min           0.000000\n",
       "25%           0.000000\n",
       "50%           0.000000\n",
       "75%           0.000000\n",
       "max          15.000000\n",
       "Name: number_of_credit_problems, dtype: float64"
      ]
     },
     "execution_count": 249,
     "metadata": {},
     "output_type": "execute_result"
    }
   ],
   "source": [
    "data[\"number_of_credit_problems\"].describe()"
   ]
  },
  {
   "cell_type": "code",
   "execution_count": 250,
   "id": "expired-growing",
   "metadata": {},
   "outputs": [
    {
     "data": {
      "text/plain": [
       "0.200    0.0\n",
       "0.750    0.0\n",
       "0.890    1.0\n",
       "0.900    1.0\n",
       "0.950    1.0\n",
       "0.990    2.0\n",
       "0.999    4.0\n",
       "Name: number_of_credit_problems, dtype: float64"
      ]
     },
     "execution_count": 250,
     "metadata": {},
     "output_type": "execute_result"
    }
   ],
   "source": [
    "data[\"number_of_credit_problems\"].quantile([.2,0.75,0.89,0.90,.95,0.99,.999])"
   ]
  },
  {
   "cell_type": "code",
   "execution_count": 251,
   "id": "protecting-circumstances",
   "metadata": {},
   "outputs": [
    {
     "data": {
      "text/plain": [
       "0.9900     2.0000\n",
       "0.9990     4.0000\n",
       "0.9991     5.0000\n",
       "0.9992     5.0000\n",
       "0.9995     5.0000\n",
       "0.9999     8.8894\n",
       "1.0000    15.0000\n",
       "Name: number_of_credit_problems, dtype: float64"
      ]
     },
     "execution_count": 251,
     "metadata": {},
     "output_type": "execute_result"
    }
   ],
   "source": [
    "data[\"number_of_credit_problems\"].quantile([0.99,.999,0.9991,0.9992,0.9995,0.9999,1])"
   ]
  },
  {
   "cell_type": "code",
   "execution_count": 252,
   "id": "helpful-beverage",
   "metadata": {},
   "outputs": [
    {
     "data": {
      "text/plain": [
       "44096    15\n",
       "927      12\n",
       "50478    11\n",
       "95403    11\n",
       "20008    10\n",
       "48390    10\n",
       "48996    10\n",
       "10987     9\n",
       "23221     9\n",
       "74634     9\n",
       "Name: number_of_credit_problems, dtype: int64"
      ]
     },
     "execution_count": 252,
     "metadata": {},
     "output_type": "execute_result"
    }
   ],
   "source": [
    "data[\"number_of_credit_problems\"].nlargest(10)"
   ]
  },
  {
   "cell_type": "code",
   "execution_count": 253,
   "id": "introductory-afternoon",
   "metadata": {},
   "outputs": [
    {
     "data": {
      "text/plain": [
       "0     95642\n",
       "1     13366\n",
       "2      1444\n",
       "3       418\n",
       "4       135\n",
       "5        59\n",
       "6        19\n",
       "7         8\n",
       "9         5\n",
       "8         4\n",
       "10        3\n",
       "11        2\n",
       "12        1\n",
       "15        1\n",
       "Name: number_of_credit_problems, dtype: int64"
      ]
     },
     "execution_count": 253,
     "metadata": {},
     "output_type": "execute_result"
    }
   ],
   "source": [
    "data[\"number_of_credit_problems\"].value_counts()"
   ]
  },
  {
   "cell_type": "markdown",
   "id": "quick-disorder",
   "metadata": {},
   "source": [
    "* Mximum values are located with 0 & 1, but 15 is not abrupt, 11 and 12 is also present."
   ]
  },
  {
   "cell_type": "code",
   "execution_count": 254,
   "id": "arbitrary-patrick",
   "metadata": {},
   "outputs": [
    {
     "name": "stderr",
     "output_type": "stream",
     "text": [
      "c:\\users\\jbhsm\\anaconda3\\envs\\tf\\lib\\site-packages\\seaborn\\distributions.py:2557: FutureWarning: `distplot` is a deprecated function and will be removed in a future version. Please adapt your code to use either `displot` (a figure-level function with similar flexibility) or `histplot` (an axes-level function for histograms).\n",
      "  warnings.warn(msg, FutureWarning)\n"
     ]
    },
    {
     "name": "stdout",
     "output_type": "stream",
     "text": [
      "skewness :  1.1829930734599152\n",
      "kurtosis :  3.041274693636143\n"
     ]
    },
    {
     "data": {
      "image/png": "[encoded data removed]",
      "text/plain": [
       "<Figure size 864x360 with 2 Axes>"
      ]
     },
     "metadata": {
      "needs_background": "light"
     },
     "output_type": "display_data"
    }
   ],
   "source": [
    "# number_of_open_accounts \n",
    "\n",
    "plot_hist_boxplot(data,'number_of_open_accounts')"
   ]
  },
  {
   "cell_type": "code",
   "execution_count": 256,
   "id": "million-twelve",
   "metadata": {},
   "outputs": [
    {
     "data": {
      "text/plain": [
       "count    111107.000000\n",
       "mean         11.125105\n",
       "std           5.010267\n",
       "min           0.000000\n",
       "25%           8.000000\n",
       "50%          10.000000\n",
       "75%          14.000000\n",
       "max          76.000000\n",
       "Name: number_of_open_accounts, dtype: float64"
      ]
     },
     "execution_count": 256,
     "metadata": {},
     "output_type": "execute_result"
    }
   ],
   "source": [
    "data[\"number_of_open_accounts\"].describe()"
   ]
  },
  {
   "cell_type": "code",
   "execution_count": 257,
   "id": "white-spending",
   "metadata": {},
   "outputs": [
    {
     "data": {
      "text/plain": [
       "0.200     7.0\n",
       "0.750    14.0\n",
       "0.890    17.0\n",
       "0.900    18.0\n",
       "0.950    20.0\n",
       "0.990    27.0\n",
       "0.999    36.0\n",
       "Name: number_of_open_accounts, dtype: float64"
      ]
     },
     "execution_count": 257,
     "metadata": {},
     "output_type": "execute_result"
    }
   ],
   "source": [
    "data[\"number_of_open_accounts\"].quantile([.2,0.75,0.89,0.90,.95,0.99,.999])"
   ]
  },
  {
   "cell_type": "code",
   "execution_count": 258,
   "id": "aware-vitamin",
   "metadata": {},
   "outputs": [
    {
     "data": {
      "text/plain": [
       "0.9900    27.0\n",
       "0.9990    36.0\n",
       "0.9991    37.0\n",
       "0.9992    37.0\n",
       "0.9995    40.0\n",
       "0.9999    47.0\n",
       "1.0000    76.0\n",
       "Name: number_of_open_accounts, dtype: float64"
      ]
     },
     "execution_count": 258,
     "metadata": {},
     "output_type": "execute_result"
    }
   ],
   "source": [
    "data[\"number_of_open_accounts\"].quantile([0.99,.999,0.9991,0.9992,0.9995,0.9999,1])"
   ]
  },
  {
   "cell_type": "code",
   "execution_count": 260,
   "id": "downtown-taste",
   "metadata": {},
   "outputs": [
    {
     "data": {
      "text/plain": [
       "2251     76\n",
       "54292    76\n",
       "8600     56\n",
       "91365    56\n",
       "82187    55\n",
       "62863    52\n",
       "63805    52\n",
       "50863    48\n",
       "54937    48\n",
       "92613    48\n",
       "Name: number_of_open_accounts, dtype: int64"
      ]
     },
     "execution_count": 260,
     "metadata": {},
     "output_type": "execute_result"
    }
   ],
   "source": [
    "data[\"number_of_open_accounts\"].nlargest(10)"
   ]
  },
  {
   "cell_type": "code",
   "execution_count": 262,
   "id": "herbal-philip",
   "metadata": {},
   "outputs": [],
   "source": [
    "# Replacing the 99 percentile data for values obtained in the last 1 percentile\n",
    "data.loc[data['number_of_open_accounts'] > 36, 'number_of_open_accounts'] = 36"
   ]
  },
  {
   "cell_type": "code",
   "execution_count": 263,
   "id": "computational-england",
   "metadata": {},
   "outputs": [
    {
     "name": "stderr",
     "output_type": "stream",
     "text": [
      "c:\\users\\jbhsm\\anaconda3\\envs\\tf\\lib\\site-packages\\seaborn\\distributions.py:2557: FutureWarning: `distplot` is a deprecated function and will be removed in a future version. Please adapt your code to use either `displot` (a figure-level function with similar flexibility) or `histplot` (an axes-level function for histograms).\n",
      "  warnings.warn(msg, FutureWarning)\n"
     ]
    },
    {
     "name": "stdout",
     "output_type": "stream",
     "text": [
      "skewness :  1.0667541853691762\n",
      "kurtosis :  1.8331000120510073\n"
     ]
    },
    {
     "data": {
      "image/png": "[encoded data removed]",
      "text/plain": [
       "<Figure size 864x360 with 2 Axes>"
      ]
     },
     "metadata": {
      "needs_background": "light"
     },
     "output_type": "display_data"
    }
   ],
   "source": [
    "# number_of_open_accounts \n",
    "\n",
    "plot_hist_boxplot(data,'number_of_open_accounts')"
   ]
  },
  {
   "cell_type": "code",
   "execution_count": 264,
   "id": "conceptual-division",
   "metadata": {},
   "outputs": [
    {
     "name": "stderr",
     "output_type": "stream",
     "text": [
      "c:\\users\\jbhsm\\anaconda3\\envs\\tf\\lib\\site-packages\\seaborn\\distributions.py:2557: FutureWarning: `distplot` is a deprecated function and will be removed in a future version. Please adapt your code to use either `displot` (a figure-level function with similar flexibility) or `histplot` (an axes-level function for histograms).\n",
      "  warnings.warn(msg, FutureWarning)\n"
     ]
    },
    {
     "name": "stdout",
     "output_type": "stream",
     "text": [
      "skewness :  15.632998232488033\n",
      "kurtosis :  400.0699683076413\n"
     ]
    },
    {
     "data": {
      "image/png": "[encoded data removed]",
      "text/plain": [
       "<Figure size 864x360 with 2 Axes>"
      ]
     },
     "metadata": {
      "needs_background": "light"
     },
     "output_type": "display_data"
    }
   ],
   "source": [
    "# tax_liens -  A tax lien is a legal claim against the assets of a person or business who fails to pay taxes owed\n",
    "\n",
    "plot_hist_boxplot(data,'tax_liens')"
   ]
  },
  {
   "cell_type": "code",
   "execution_count": 265,
   "id": "mysterious-basis",
   "metadata": {},
   "outputs": [
    {
     "data": {
      "text/plain": [
       "count    111096.000000\n",
       "mean          0.029353\n",
       "std           0.260575\n",
       "min           0.000000\n",
       "25%           0.000000\n",
       "50%           0.000000\n",
       "75%           0.000000\n",
       "max          15.000000\n",
       "Name: tax_liens, dtype: float64"
      ]
     },
     "execution_count": 265,
     "metadata": {},
     "output_type": "execute_result"
    }
   ],
   "source": [
    "data[\"tax_liens\"].describe()"
   ]
  },
  {
   "cell_type": "code",
   "execution_count": 274,
   "id": "unauthorized-liver",
   "metadata": {},
   "outputs": [
    {
     "data": {
      "text/plain": [
       "0.9900     1.0\n",
       "0.9970     2.0\n",
       "0.9990     4.0\n",
       "0.9992     4.0\n",
       "0.9998     6.0\n",
       "0.9999     7.0\n",
       "1.0000    15.0\n",
       "Name: tax_liens, dtype: float64"
      ]
     },
     "execution_count": 274,
     "metadata": {},
     "output_type": "execute_result"
    }
   ],
   "source": [
    "data[\"tax_liens\"].quantile([0.99,0.997,.999,0.9992,0.9998,0.9999,1])"
   ]
  },
  {
   "cell_type": "code",
   "execution_count": 269,
   "id": "engaged-might",
   "metadata": {},
   "outputs": [
    {
     "data": {
      "text/plain": [
       "44096     15.0\n",
       "50478     11.0\n",
       "95403     11.0\n",
       "48390     10.0\n",
       "10987      9.0\n",
       "20008      9.0\n",
       "74634      9.0\n",
       "86733      9.0\n",
       "106862     9.0\n",
       "23221      8.0\n",
       "48996      8.0\n",
       "927        7.0\n",
       "9826       7.0\n",
       "40476      7.0\n",
       "56484      7.0\n",
       "Name: tax_liens, dtype: float64"
      ]
     },
     "execution_count": 269,
     "metadata": {},
     "output_type": "execute_result"
    }
   ],
   "source": [
    "data[\"tax_liens\"].nlargest(15)"
   ]
  },
  {
   "cell_type": "code",
   "execution_count": 270,
   "id": "sexual-wells",
   "metadata": {},
   "outputs": [
    {
     "data": {
      "text/plain": [
       "0.0     108964\n",
       "1.0       1485\n",
       "2.0        408\n",
       "3.0        124\n",
       "4.0         66\n",
       "5.0         19\n",
       "6.0         12\n",
       "7.0          7\n",
       "9.0          5\n",
       "8.0          2\n",
       "11.0         2\n",
       "15.0         1\n",
       "10.0         1\n",
       "Name: tax_liens, dtype: int64"
      ]
     },
     "execution_count": 270,
     "metadata": {},
     "output_type": "execute_result"
    }
   ],
   "source": [
    "data[\"tax_liens\"].value_counts()"
   ]
  },
  {
   "cell_type": "code",
   "execution_count": 280,
   "id": "successful-volume",
   "metadata": {},
   "outputs": [
    {
     "data": {
      "text/plain": [
       "Loan Given    1\n",
       "Name: loan_status, dtype: int64"
      ]
     },
     "execution_count": 280,
     "metadata": {},
     "output_type": "execute_result"
    }
   ],
   "source": [
    "data[data[\"tax_liens\"]>11][\"loan_status\"].value_counts()"
   ]
  },
  {
   "cell_type": "code",
   "execution_count": 282,
   "id": "running-workshop",
   "metadata": {},
   "outputs": [
    {
     "data": {
      "text/plain": [
       "11"
      ]
     },
     "execution_count": 282,
     "metadata": {},
     "output_type": "execute_result"
    }
   ],
   "source": [
    "data[\"tax_liens\"].isnull().sum()"
   ]
  },
  {
   "cell_type": "markdown",
   "id": "computational-crash",
   "metadata": {},
   "source": [
    "* entries where there are null values, does not fall in the minority class, hence these can be dropped"
   ]
  },
  {
   "cell_type": "code",
   "execution_count": 290,
   "id": "plain-filename",
   "metadata": {},
   "outputs": [],
   "source": [
    "drop_idx_tax_lien = data[data[\"tax_liens\"].isna()].index.to_list()"
   ]
  },
  {
   "cell_type": "code",
   "execution_count": 291,
   "id": "single-motel",
   "metadata": {},
   "outputs": [],
   "source": [
    "# Dropping the columns\n",
    "data.drop(drop_idx_tax_lien, axis=0, inplace=True)"
   ]
  },
  {
   "cell_type": "code",
   "execution_count": 292,
   "id": "exterior-fisher",
   "metadata": {},
   "outputs": [
    {
     "data": {
      "text/plain": [
       "(111096, 21)"
      ]
     },
     "execution_count": 292,
     "metadata": {},
     "output_type": "execute_result"
    }
   ],
   "source": [
    "data.shape"
   ]
  },
  {
   "cell_type": "code",
   "execution_count": 293,
   "id": "postal-taxation",
   "metadata": {},
   "outputs": [
    {
     "name": "stderr",
     "output_type": "stream",
     "text": [
      "c:\\users\\jbhsm\\anaconda3\\envs\\tf\\lib\\site-packages\\seaborn\\distributions.py:2557: FutureWarning: `distplot` is a deprecated function and will be removed in a future version. Please adapt your code to use either `displot` (a figure-level function with similar flexibility) or `histplot` (an axes-level function for histograms).\n",
      "  warnings.warn(msg, FutureWarning)\n"
     ]
    },
    {
     "name": "stdout",
     "output_type": "stream",
     "text": [
      "skewness :  1.0718126041960352\n",
      "kurtosis :  1.746714984241569\n"
     ]
    },
    {
     "data": {
      "image/png": "[encoded data removed]",
      "text/plain": [
       "<Figure size 864x360 with 2 Axes>"
      ]
     },
     "metadata": {
      "needs_background": "light"
     },
     "output_type": "display_data"
    }
   ],
   "source": [
    "# years_of_credit_history\n",
    "\n",
    "plot_hist_boxplot(data,'years_of_credit_history')"
   ]
  },
  {
   "cell_type": "code",
   "execution_count": 295,
   "id": "consolidated-enforcement",
   "metadata": {},
   "outputs": [
    {
     "data": {
      "text/plain": [
       "count    111096.000000\n",
       "mean         18.200752\n",
       "std           7.014595\n",
       "min           3.600000\n",
       "25%          13.500000\n",
       "50%          16.900000\n",
       "75%          21.700000\n",
       "max          70.500000\n",
       "Name: years_of_credit_history, dtype: float64"
      ]
     },
     "execution_count": 295,
     "metadata": {},
     "output_type": "execute_result"
    }
   ],
   "source": [
    "data[\"years_of_credit_history\"].describe()"
   ]
  },
  {
   "cell_type": "code",
   "execution_count": 297,
   "id": "restricted-glance",
   "metadata": {
    "scrolled": true
   },
   "outputs": [
    {
     "data": {
      "text/plain": [
       "0.9000    27.70000\n",
       "0.9500    31.70000\n",
       "0.9900    40.20000\n",
       "0.9990    49.50000\n",
       "0.9995    51.84525\n",
       "0.9999    57.70000\n",
       "1.0000    70.50000\n",
       "Name: years_of_credit_history, dtype: float64"
      ]
     },
     "execution_count": 297,
     "metadata": {},
     "output_type": "execute_result"
    }
   ],
   "source": [
    "data[\"years_of_credit_history\"].quantile([0.90,.95,0.99,.999,0.9995,0.9999,1])"
   ]
  },
  {
   "cell_type": "code",
   "execution_count": 298,
   "id": "grand-comparison",
   "metadata": {},
   "outputs": [
    {
     "data": {
      "text/plain": [
       "0"
      ]
     },
     "execution_count": 298,
     "metadata": {},
     "output_type": "execute_result"
    }
   ],
   "source": [
    "data[\"years_of_credit_history\"].isnull().sum()"
   ]
  },
  {
   "cell_type": "markdown",
   "id": "grave-novelty",
   "metadata": {},
   "source": [
    "* Overall looks good, no null values"
   ]
  },
  {
   "cell_type": "markdown",
   "id": "green-equilibrium",
   "metadata": {},
   "source": [
    "#### Univariate Categorical"
   ]
  },
  {
   "cell_type": "code",
   "execution_count": 308,
   "id": "pacific-batch",
   "metadata": {},
   "outputs": [
    {
     "data": {
      "text/html": [
       "<div>\n",
       "<style scoped>\n",
       "    .dataframe tbody tr th:only-of-type {\n",
       "        vertical-align: middle;\n",
       "    }\n",
       "\n",
       "    .dataframe tbody tr th {\n",
       "        vertical-align: top;\n",
       "    }\n",
       "\n",
       "    .dataframe thead th {\n",
       "        text-align: right;\n",
       "    }\n",
       "</style>\n",
       "<table border=\"1\" class=\"dataframe\">\n",
       "  <thead>\n",
       "    <tr style=\"text-align: right;\">\n",
       "      <th></th>\n",
       "      <th>index</th>\n",
       "      <th>term</th>\n",
       "    </tr>\n",
       "  </thead>\n",
       "  <tbody>\n",
       "    <tr>\n",
       "      <th>0</th>\n",
       "      <td>Short Term</td>\n",
       "      <td>80263</td>\n",
       "    </tr>\n",
       "    <tr>\n",
       "      <th>1</th>\n",
       "      <td>Long Term</td>\n",
       "      <td>30833</td>\n",
       "    </tr>\n",
       "  </tbody>\n",
       "</table>\n",
       "</div>"
      ],
      "text/plain": [
       "        index   term\n",
       "0  Short Term  80263\n",
       "1   Long Term  30833"
      ]
     },
     "execution_count": 308,
     "metadata": {},
     "output_type": "execute_result"
    }
   ],
   "source": [
    "data['term'].value_counts().reset_index()"
   ]
  },
  {
   "cell_type": "code",
   "execution_count": 311,
   "id": "floating-disney",
   "metadata": {},
   "outputs": [
    {
     "data": {
      "image/png": "[encoded data removed]",
      "text/plain": [
       "<Figure size 432x288 with 1 Axes>"
      ]
     },
     "metadata": {
      "needs_background": "light"
     },
     "output_type": "display_data"
    }
   ],
   "source": [
    "# Term\n",
    "temp_df=data['term'].value_counts().reset_index().plot(\"index\", \"term\",kind=\"bar\")"
   ]
  },
  {
   "cell_type": "code",
   "execution_count": 312,
   "id": "measured-monroe",
   "metadata": {},
   "outputs": [
    {
     "data": {
      "text/plain": [
       "0     < 1 year\n",
       "1    10+ years\n",
       "2      9 years\n",
       "3      3 years\n",
       "4    10+ years\n",
       "Name: years_in_current_job, dtype: object"
      ]
     },
     "execution_count": 312,
     "metadata": {},
     "output_type": "execute_result"
    }
   ],
   "source": [
    "# years_in_current_job\n",
    "\n",
    "data[\"years_in_current_job\"].head()"
   ]
  },
  {
   "cell_type": "code",
   "execution_count": 313,
   "id": "nasty-shakespeare",
   "metadata": {},
   "outputs": [
    {
     "data": {
      "text/plain": [
       "10+ years    34550\n",
       "2 years      10158\n",
       "3 years       9133\n",
       "< 1 year      9051\n",
       "5 years       7559\n",
       "1 year        7173\n",
       "4 years       6828\n",
       "6 years       6310\n",
       "7 years       6185\n",
       "8 years       5104\n",
       "9 years       4352\n",
       "Name: years_in_current_job, dtype: int64"
      ]
     },
     "execution_count": 313,
     "metadata": {},
     "output_type": "execute_result"
    }
   ],
   "source": [
    "data[\"years_in_current_job\"].value_counts()"
   ]
  },
  {
   "cell_type": "code",
   "execution_count": 315,
   "id": "creative-tanzania",
   "metadata": {},
   "outputs": [
    {
     "data": {
      "text/plain": [
       "<AxesSubplot:xlabel='index'>"
      ]
     },
     "execution_count": 315,
     "metadata": {},
     "output_type": "execute_result"
    },
    {
     "data": {
      "image/png": "[encoded data removed]",
      "text/plain": [
       "<Figure size 432x288 with 1 Axes>"
      ]
     },
     "metadata": {
      "needs_background": "light"
     },
     "output_type": "display_data"
    }
   ],
   "source": [
    "data[\"years_in_current_job\"].value_counts().reset_index().plot(\"index\",\"years_in_current_job\",kind=\"bar\")"
   ]
  },
  {
   "cell_type": "code",
   "execution_count": 316,
   "id": "spare-scheduling",
   "metadata": {},
   "outputs": [
    {
     "data": {
      "text/plain": [
       "0             Rent\n",
       "1    Home Mortgage\n",
       "2    Home Mortgage\n",
       "3             Rent\n",
       "4    Home Mortgage\n",
       "Name: home_ownership, dtype: object"
      ]
     },
     "execution_count": 316,
     "metadata": {},
     "output_type": "execute_result"
    }
   ],
   "source": [
    "# home_ownership\n",
    "\n",
    "data[\"home_ownership\"].head()"
   ]
  },
  {
   "cell_type": "code",
   "execution_count": 317,
   "id": "federal-winning",
   "metadata": {},
   "outputs": [
    {
     "data": {
      "text/plain": [
       "Home Mortgage    53814\n",
       "Rent             46865\n",
       "Own Home         10184\n",
       "HaveMortgage       233\n",
       "Name: home_ownership, dtype: int64"
      ]
     },
     "execution_count": 317,
     "metadata": {},
     "output_type": "execute_result"
    }
   ],
   "source": [
    "data[\"home_ownership\"].value_counts()"
   ]
  },
  {
   "cell_type": "markdown",
   "id": "geographic-quick",
   "metadata": {},
   "source": [
    "* The term \"HaveMortgage\" -is an typographical error and need to be corrected"
   ]
  },
  {
   "cell_type": "code",
   "execution_count": 318,
   "id": "simplified-equivalent",
   "metadata": {},
   "outputs": [],
   "source": [
    "data['home_ownership']=data['home_ownership'].str.replace('HaveMortgage', 'Home Mortgage', regex=True)"
   ]
  },
  {
   "cell_type": "code",
   "execution_count": 319,
   "id": "arctic-reward",
   "metadata": {},
   "outputs": [
    {
     "data": {
      "text/plain": [
       "Home Mortgage    54047\n",
       "Rent             46865\n",
       "Own Home         10184\n",
       "Name: home_ownership, dtype: int64"
      ]
     },
     "execution_count": 319,
     "metadata": {},
     "output_type": "execute_result"
    }
   ],
   "source": [
    "data[\"home_ownership\"].value_counts()"
   ]
  },
  {
   "cell_type": "code",
   "execution_count": 320,
   "id": "varying-tract",
   "metadata": {},
   "outputs": [
    {
     "data": {
      "text/plain": [
       "0    Debt Consolidation\n",
       "1    Debt Consolidation\n",
       "2     Home Improvements\n",
       "3    Debt Consolidation\n",
       "4     Home Improvements\n",
       "Name: purpose, dtype: object"
      ]
     },
     "execution_count": 320,
     "metadata": {},
     "output_type": "execute_result"
    }
   ],
   "source": [
    "# purpose\n",
    "\n",
    "data[\"purpose\"].head()"
   ]
  },
  {
   "cell_type": "code",
   "execution_count": 321,
   "id": "scientific-columbia",
   "metadata": {},
   "outputs": [
    {
     "data": {
      "text/plain": [
       "Debt Consolidation      87269\n",
       "other                    6670\n",
       "Home Improvements        6503\n",
       "Other                    3595\n",
       "Business Loan            1749\n",
       "Buy a Car                1422\n",
       "Medical Bills            1259\n",
       "Buy House                 758\n",
       "Take a Trip               622\n",
       "major_purchase            407\n",
       "small_business            318\n",
       "moving                    167\n",
       "wedding                   126\n",
       "Educational Expenses      113\n",
       "vacation                  107\n",
       "renewable_energy           11\n",
       "Name: purpose, dtype: int64"
      ]
     },
     "execution_count": 321,
     "metadata": {},
     "output_type": "execute_result"
    }
   ],
   "source": [
    "data[\"purpose\"].value_counts()"
   ]
  },
  {
   "cell_type": "markdown",
   "id": "metallic-hammer",
   "metadata": {},
   "source": [
    "* the \"Other\" and \"other\" - onlly upper and lower case, actually refer to the same category - corrected."
   ]
  },
  {
   "cell_type": "code",
   "execution_count": 322,
   "id": "interracial-premises",
   "metadata": {},
   "outputs": [],
   "source": [
    "data['purpose']=data['purpose'].str.replace('other', 'Other', regex=True)"
   ]
  },
  {
   "cell_type": "code",
   "execution_count": 323,
   "id": "enclosed-potential",
   "metadata": {},
   "outputs": [
    {
     "data": {
      "text/plain": [
       "Debt Consolidation      87269\n",
       "Other                   10265\n",
       "Home Improvements        6503\n",
       "Business Loan            1749\n",
       "Buy a Car                1422\n",
       "Medical Bills            1259\n",
       "Buy House                 758\n",
       "Take a Trip               622\n",
       "major_purchase            407\n",
       "small_business            318\n",
       "moving                    167\n",
       "wedding                   126\n",
       "Educational Expenses      113\n",
       "vacation                  107\n",
       "renewable_energy           11\n",
       "Name: purpose, dtype: int64"
      ]
     },
     "execution_count": 323,
     "metadata": {},
     "output_type": "execute_result"
    }
   ],
   "source": [
    "data[\"purpose\"].value_counts()"
   ]
  },
  {
   "cell_type": "markdown",
   "id": "palestinian-piece",
   "metadata": {},
   "source": [
    "* The term \"Other\" have been updated, and we are good to go"
   ]
  },
  {
   "cell_type": "code",
   "execution_count": 324,
   "id": "lightweight-college",
   "metadata": {},
   "outputs": [
    {
     "data": {
      "text/plain": [
       "0     777.39\n",
       "1     892.09\n",
       "2    1244.02\n",
       "3     990.94\n",
       "4     503.71\n",
       "Name: monthly_debt, dtype: object"
      ]
     },
     "execution_count": 324,
     "metadata": {},
     "output_type": "execute_result"
    }
   ],
   "source": [
    "# monthly_debt\n",
    "data[\"monthly_debt\"].head()"
   ]
  },
  {
   "cell_type": "code",
   "execution_count": 325,
   "id": "commercial-listing",
   "metadata": {},
   "outputs": [
    {
     "data": {
      "text/plain": [
       "0          81\n",
       "837        10\n",
       "807.53      9\n",
       "679.32      9\n",
       "775.08      9\n",
       "           ..\n",
       "1304.74     1\n",
       "222.65      1\n",
       "787.28      1\n",
       "120.93      1\n",
       "1468.22     1\n",
       "Name: monthly_debt, Length: 70063, dtype: int64"
      ]
     },
     "execution_count": 325,
     "metadata": {},
     "output_type": "execute_result"
    }
   ],
   "source": [
    "data[\"monthly_debt\"].value_counts()"
   ]
  },
  {
   "cell_type": "code",
   "execution_count": 327,
   "id": "twenty-angel",
   "metadata": {},
   "outputs": [],
   "source": [
    "#As we see there is a $ symbol present. Lets replace it \n",
    "data['monthly_debt']=data['monthly_debt'].str.replace('$', '', regex=True)"
   ]
  },
  {
   "cell_type": "code",
   "execution_count": 328,
   "id": "brutal-mixture",
   "metadata": {},
   "outputs": [],
   "source": [
    "data['monthly_debt']=pd.to_numeric(data['monthly_debt'] )"
   ]
  },
  {
   "cell_type": "code",
   "execution_count": 329,
   "id": "dried-census",
   "metadata": {},
   "outputs": [
    {
     "name": "stderr",
     "output_type": "stream",
     "text": [
      "c:\\users\\jbhsm\\anaconda3\\envs\\tf\\lib\\site-packages\\seaborn\\distributions.py:2557: FutureWarning: `distplot` is a deprecated function and will be removed in a future version. Please adapt your code to use either `displot` (a figure-level function with similar flexibility) or `histplot` (an axes-level function for histograms).\n",
      "  warnings.warn(msg, FutureWarning)\n"
     ]
    },
    {
     "name": "stdout",
     "output_type": "stream",
     "text": [
      "skewness :  2.2125321301988166\n",
      "kurtosis :  21.343061918755943\n"
     ]
    },
    {
     "data": {
      "image/png": "[encoded data removed]",
      "text/plain": [
       "<Figure size 864x360 with 2 Axes>"
      ]
     },
     "metadata": {
      "needs_background": "light"
     },
     "output_type": "display_data"
    }
   ],
   "source": [
    "# monthly_debt \n",
    "\n",
    "plot_hist_boxplot(data,'monthly_debt')"
   ]
  },
  {
   "cell_type": "code",
   "execution_count": 330,
   "id": "signal-trinity",
   "metadata": {},
   "outputs": [
    {
     "data": {
      "text/plain": [
       "count    111096.000000\n",
       "mean        972.022887\n",
       "std         641.640827\n",
       "min           0.000000\n",
       "25%         537.855000\n",
       "50%         852.750000\n",
       "75%        1262.747500\n",
       "max       22939.120000\n",
       "Name: monthly_debt, dtype: float64"
      ]
     },
     "execution_count": 330,
     "metadata": {},
     "output_type": "execute_result"
    }
   ],
   "source": [
    "data[\"monthly_debt\"].describe()"
   ]
  },
  {
   "cell_type": "code",
   "execution_count": 331,
   "id": "buried-moral",
   "metadata": {},
   "outputs": [
    {
     "data": {
      "text/plain": [
       "0.200     468.71000\n",
       "0.750    1262.74750\n",
       "0.890    1704.54000\n",
       "0.900    1759.13000\n",
       "0.950    2131.03500\n",
       "0.990    3094.05250\n",
       "0.999    4963.84435\n",
       "Name: monthly_debt, dtype: float64"
      ]
     },
     "execution_count": 331,
     "metadata": {},
     "output_type": "execute_result"
    }
   ],
   "source": [
    "data[\"monthly_debt\"].quantile([.2,0.75,0.89,0.90,.95,0.99,.999])"
   ]
  },
  {
   "cell_type": "code",
   "execution_count": 334,
   "id": "meaningful-uzbekistan",
   "metadata": {},
   "outputs": [
    {
     "data": {
      "text/plain": [
       "0.90000     1759.130000\n",
       "0.95000     2131.035000\n",
       "0.99000     3094.052500\n",
       "0.99900     4963.844350\n",
       "0.99990     7987.620300\n",
       "0.99995     9086.848148\n",
       "0.99999    12055.680000\n",
       "1.00000    22939.120000\n",
       "Name: monthly_debt, dtype: float64"
      ]
     },
     "execution_count": 334,
     "metadata": {},
     "output_type": "execute_result"
    }
   ],
   "source": [
    "data[\"monthly_debt\"].quantile([0.90,.95,0.99,.999,.9999,.99995,0.99999,1])"
   ]
  },
  {
   "cell_type": "code",
   "execution_count": 335,
   "id": "hidden-junction",
   "metadata": {},
   "outputs": [
    {
     "data": {
      "text/plain": [
       "79754     22939.12\n",
       "18582     12055.68\n",
       "89942     12055.68\n",
       "4012      10831.65\n",
       "88606      9119.24\n",
       "97849      9119.24\n",
       "58593      9060.85\n",
       "15551      8726.87\n",
       "84620      8707.22\n",
       "103042     8707.22\n",
       "34891      8026.96\n",
       "11248      8017.47\n",
       "54841      7744.87\n",
       "10752      7698.47\n",
       "56966      7554.03\n",
       "Name: monthly_debt, dtype: float64"
      ]
     },
     "execution_count": 335,
     "metadata": {},
     "output_type": "execute_result"
    }
   ],
   "source": [
    "data[\"monthly_debt\"].nlargest(15)"
   ]
  },
  {
   "cell_type": "code",
   "execution_count": 336,
   "id": "consistent-advisory",
   "metadata": {},
   "outputs": [
    {
     "data": {
      "text/plain": [
       "4963.844350000004"
      ]
     },
     "execution_count": 336,
     "metadata": {},
     "output_type": "execute_result"
    }
   ],
   "source": [
    "#Replacing the values 99.9 percentile above with value of 99.9 percentile\n",
    "\n",
    "monthly_debt_999_pctl=data[\"\"].quantile(.999)\n",
    "monthly_debt_999_pctl"
   ]
  },
  {
   "cell_type": "code",
   "execution_count": 337,
   "id": "continuous-accreditation",
   "metadata": {},
   "outputs": [],
   "source": [
    "data.loc[data['monthly_debt'] > monthly_debt_999_pctl, 'monthly_debt'] = monthly_debt_999_pctl"
   ]
  },
  {
   "cell_type": "code",
   "execution_count": 338,
   "id": "collected-qatar",
   "metadata": {},
   "outputs": [
    {
     "name": "stderr",
     "output_type": "stream",
     "text": [
      "c:\\users\\jbhsm\\anaconda3\\envs\\tf\\lib\\site-packages\\seaborn\\distributions.py:2557: FutureWarning: `distplot` is a deprecated function and will be removed in a future version. Please adapt your code to use either `displot` (a figure-level function with similar flexibility) or `histplot` (an axes-level function for histograms).\n",
      "  warnings.warn(msg, FutureWarning)\n"
     ]
    },
    {
     "name": "stdout",
     "output_type": "stream",
     "text": [
      "skewness :  1.5559240863506538\n",
      "kurtosis :  4.406725116147322\n"
     ]
    },
    {
     "data": {
      "image/png": "[encoded data removed]",
      "text/plain": [
       "<Figure size 864x360 with 2 Axes>"
      ]
     },
     "metadata": {
      "needs_background": "light"
     },
     "output_type": "display_data"
    }
   ],
   "source": [
    "# monthly_debt \n",
    "\n",
    "plot_hist_boxplot(data,'monthly_debt')"
   ]
  },
  {
   "cell_type": "code",
   "execution_count": 341,
   "id": "independent-daisy",
   "metadata": {},
   "outputs": [
    {
     "data": {
      "text/plain": [
       "0.3322352119379603"
      ]
     },
     "execution_count": 341,
     "metadata": {},
     "output_type": "execute_result"
    }
   ],
   "source": [
    "skew(np.sqrt(data.monthly_debt))"
   ]
  },
  {
   "cell_type": "code",
   "execution_count": 343,
   "id": "deadly-doubt",
   "metadata": {},
   "outputs": [
    {
     "data": {
      "text/plain": [
       "0.5969755081708485"
      ]
     },
     "execution_count": 343,
     "metadata": {},
     "output_type": "execute_result"
    }
   ],
   "source": [
    "kurtosis(np.sqrt(data.monthly_debt))"
   ]
  },
  {
   "cell_type": "code",
   "execution_count": 346,
   "id": "arbitrary-tournament",
   "metadata": {},
   "outputs": [],
   "source": [
    "#Carrying out square root transformation\n",
    "data[\"monthly_debt_trf\"]=sqrt_trf(data.monthly_debt)"
   ]
  },
  {
   "cell_type": "code",
   "execution_count": 347,
   "id": "delayed-following",
   "metadata": {},
   "outputs": [
    {
     "name": "stderr",
     "output_type": "stream",
     "text": [
      "c:\\users\\jbhsm\\anaconda3\\envs\\tf\\lib\\site-packages\\seaborn\\distributions.py:2557: FutureWarning: `distplot` is a deprecated function and will be removed in a future version. Please adapt your code to use either `displot` (a figure-level function with similar flexibility) or `histplot` (an axes-level function for histograms).\n",
      "  warnings.warn(msg, FutureWarning)\n"
     ]
    },
    {
     "name": "stdout",
     "output_type": "stream",
     "text": [
      "skewness :  0.3322352119379603\n",
      "kurtosis :  0.5969755081708485\n"
     ]
    },
    {
     "data": {
      "image/png": "[encoded data removed]",
      "text/plain": [
       "<Figure size 864x360 with 2 Axes>"
      ]
     },
     "metadata": {
      "needs_background": "light"
     },
     "output_type": "display_data"
    }
   ],
   "source": [
    "# monthly_debt \n",
    "\n",
    "plot_hist_boxplot(data,'monthly_debt_trf')"
   ]
  },
  {
   "cell_type": "markdown",
   "id": "satellite-livestock",
   "metadata": {},
   "source": [
    "* Their are outliers, still the shape of the curve tend to normal distribution"
   ]
  },
  {
   "cell_type": "code",
   "execution_count": 351,
   "id": "homeless-johnston",
   "metadata": {},
   "outputs": [
    {
     "data": {
      "text/plain": [
       "0     7946\n",
       "1    77961\n",
       "2    14815\n",
       "3    43533\n",
       "4    19553\n",
       "Name: maximum_open_credit, dtype: object"
      ]
     },
     "execution_count": 351,
     "metadata": {},
     "output_type": "execute_result"
    }
   ],
   "source": [
    "# maximum_open_credit\n",
    "\n",
    "data[\"maximum_open_credit\"].head()"
   ]
  },
  {
   "cell_type": "code",
   "execution_count": 354,
   "id": "pharmaceutical-explanation",
   "metadata": {},
   "outputs": [],
   "source": [
    "#\"#VALUE!\" at position 4930 to be replaced with np.nan\n",
    "data['maximum_open_credit']=data['maximum_open_credit'].replace('#VALUE!', np.nan, regex=True)"
   ]
  },
  {
   "cell_type": "code",
   "execution_count": 355,
   "id": "played-apartment",
   "metadata": {},
   "outputs": [],
   "source": [
    "data['maximum_open_credit']=pd.to_numeric(data['maximum_open_credit'])"
   ]
  },
  {
   "cell_type": "code",
   "execution_count": 356,
   "id": "similar-fifth",
   "metadata": {},
   "outputs": [
    {
     "name": "stderr",
     "output_type": "stream",
     "text": [
      "c:\\users\\jbhsm\\anaconda3\\envs\\tf\\lib\\site-packages\\seaborn\\distributions.py:2557: FutureWarning: `distplot` is a deprecated function and will be removed in a future version. Please adapt your code to use either `displot` (a figure-level function with similar flexibility) or `histplot` (an axes-level function for histograms).\n",
      "  warnings.warn(msg, FutureWarning)\n"
     ]
    },
    {
     "name": "stdout",
     "output_type": "stream",
     "text": [
      "skewness :  138.72464605952968\n",
      "kurtosis :  22425.50242204931\n"
     ]
    },
    {
     "data": {
      "image/png": "[encoded data removed]",
      "text/plain": [
       "<Figure size 864x360 with 2 Axes>"
      ]
     },
     "metadata": {
      "needs_background": "light"
     },
     "output_type": "display_data"
    }
   ],
   "source": [
    "# monthly_debt \n",
    "\n",
    "plot_hist_boxplot(data,'maximum_open_credit')"
   ]
  },
  {
   "cell_type": "code",
   "execution_count": 357,
   "id": "substantial-bracket",
   "metadata": {},
   "outputs": [
    {
     "data": {
      "text/plain": [
       "count    1.110940e+05\n",
       "mean     3.427546e+04\n",
       "std      3.624997e+05\n",
       "min      0.000000e+00\n",
       "25%      1.241700e+04\n",
       "50%      2.124250e+04\n",
       "75%      3.558300e+04\n",
       "max      6.998809e+07\n",
       "Name: maximum_open_credit, dtype: float64"
      ]
     },
     "execution_count": 357,
     "metadata": {},
     "output_type": "execute_result"
    }
   ],
   "source": [
    "data['maximum_open_credit'].describe()"
   ]
  },
  {
   "cell_type": "code",
   "execution_count": 358,
   "id": "threatened-display",
   "metadata": {},
   "outputs": [
    {
     "data": {
      "text/plain": [
       "0.200     10782.000\n",
       "0.750     35583.000\n",
       "0.890     53237.770\n",
       "0.900     55517.700\n",
       "0.950     74528.700\n",
       "0.990    164354.710\n",
       "0.999    828520.907\n",
       "Name: maximum_open_credit, dtype: float64"
      ]
     },
     "execution_count": 358,
     "metadata": {},
     "output_type": "execute_result"
    }
   ],
   "source": [
    "data[\"maximum_open_credit\"].quantile([.2,0.75,0.89,0.90,.95,0.99,.999])"
   ]
  },
  {
   "cell_type": "code",
   "execution_count": 359,
   "id": "photographic-trinity",
   "metadata": {},
   "outputs": [
    {
     "data": {
      "text/plain": [
       "0.99000    1.643547e+05\n",
       "0.99900    8.285209e+05\n",
       "0.99990    7.892653e+06\n",
       "0.99999    5.766992e+07\n",
       "1.00000    6.998809e+07\n",
       "Name: maximum_open_credit, dtype: float64"
      ]
     },
     "execution_count": 359,
     "metadata": {},
     "output_type": "execute_result"
    }
   ],
   "source": [
    "data[\"maximum_open_credit\"].quantile([0.99,.999,0.9999,0.99999,1])"
   ]
  },
  {
   "cell_type": "code",
   "execution_count": 360,
   "id": "mental-visit",
   "metadata": {},
   "outputs": [
    {
     "data": {
      "text/plain": [
       "58916    69988086.0\n",
       "18934    59305735.0\n",
       "26426    44559330.0\n",
       "74578    36284335.0\n",
       "23155    28748988.0\n",
       "79898    22242873.0\n",
       "58529    17275104.0\n",
       "45055    12068767.0\n",
       "60994    10750537.0\n",
       "42090     8740189.0\n",
       "Name: maximum_open_credit, dtype: float64"
      ]
     },
     "execution_count": 360,
     "metadata": {},
     "output_type": "execute_result"
    }
   ],
   "source": [
    "data[\"maximum_open_credit\"].nlargest(10)"
   ]
  },
  {
   "cell_type": "code",
   "execution_count": 361,
   "id": "marine-finish",
   "metadata": {
    "scrolled": true
   },
   "outputs": [
    {
     "data": {
      "text/plain": [
       "2"
      ]
     },
     "execution_count": 361,
     "metadata": {},
     "output_type": "execute_result"
    }
   ],
   "source": [
    "data['maximum_open_credit'].isnull().sum()"
   ]
  },
  {
   "cell_type": "code",
   "execution_count": 362,
   "id": "dying-participation",
   "metadata": {},
   "outputs": [
    {
     "data": {
      "text/plain": [
       "35583.0"
      ]
     },
     "execution_count": 362,
     "metadata": {},
     "output_type": "execute_result"
    }
   ],
   "source": [
    "data['maximum_open_credit'].quantile(0.75)"
   ]
  },
  {
   "cell_type": "code",
   "execution_count": 363,
   "id": "quality-hampshire",
   "metadata": {},
   "outputs": [],
   "source": [
    "data['maximum_open_credit'].fillna(data['maximum_open_credit'].quantile(0.75),inplace=True)"
   ]
  },
  {
   "cell_type": "code",
   "execution_count": 365,
   "id": "induced-interstate",
   "metadata": {},
   "outputs": [
    {
     "data": {
      "text/plain": [
       "164353.65000000014"
      ]
     },
     "execution_count": 365,
     "metadata": {},
     "output_type": "execute_result"
    }
   ],
   "source": [
    "maximum_open_credit_99_pctl=data['maximum_open_credit'].quantile(0.99)\n",
    "maximum_open_credit_99_pctl"
   ]
  },
  {
   "cell_type": "code",
   "execution_count": 367,
   "id": "substantial-chess",
   "metadata": {},
   "outputs": [],
   "source": [
    "data.loc[data['maximum_open_credit']>maximum_open_credit_99_pctl,\"maximum_open_credit\"]=maximum_open_credit_99_pctl"
   ]
  },
  {
   "cell_type": "code",
   "execution_count": 368,
   "id": "passive-criticism",
   "metadata": {},
   "outputs": [
    {
     "name": "stderr",
     "output_type": "stream",
     "text": [
      "c:\\users\\jbhsm\\anaconda3\\envs\\tf\\lib\\site-packages\\seaborn\\distributions.py:2557: FutureWarning: `distplot` is a deprecated function and will be removed in a future version. Please adapt your code to use either `displot` (a figure-level function with similar flexibility) or `histplot` (an axes-level function for histograms).\n",
      "  warnings.warn(msg, FutureWarning)\n"
     ]
    },
    {
     "name": "stdout",
     "output_type": "stream",
     "text": [
      "skewness :  2.623856575882365\n",
      "kurtosis :  9.304444174546783\n"
     ]
    },
    {
     "data": {
      "image/png": "[encoded data removed]",
      "text/plain": [
       "<Figure size 864x360 with 2 Axes>"
      ]
     },
     "metadata": {
      "needs_background": "light"
     },
     "output_type": "display_data"
    }
   ],
   "source": [
    "# monthly_debt \n",
    "\n",
    "plot_hist_boxplot(data,'maximum_open_credit')"
   ]
  },
  {
   "cell_type": "code",
   "execution_count": 370,
   "id": "thick-blind",
   "metadata": {},
   "outputs": [
    {
     "name": "stderr",
     "output_type": "stream",
     "text": [
      "c:\\users\\jbhsm\\anaconda3\\envs\\tf\\lib\\site-packages\\seaborn\\distributions.py:2557: FutureWarning: `distplot` is a deprecated function and will be removed in a future version. Please adapt your code to use either `displot` (a figure-level function with similar flexibility) or `histplot` (an axes-level function for histograms).\n",
      "  warnings.warn(msg, FutureWarning)\n"
     ]
    },
    {
     "data": {
      "text/plain": [
       "<AxesSubplot:xlabel='maximum_open_credit', ylabel='Density'>"
      ]
     },
     "execution_count": 370,
     "metadata": {},
     "output_type": "execute_result"
    },
    {
     "data": {
      "image/png": "[encoded data removed]",
      "text/plain": [
       "<Figure size 432x288 with 1 Axes>"
      ]
     },
     "metadata": {
      "needs_background": "light"
     },
     "output_type": "display_data"
    }
   ],
   "source": [
    "sns.distplot(np.sqrt(data['maximum_open_credit']))"
   ]
  },
  {
   "cell_type": "code",
   "execution_count": 371,
   "id": "pending-praise",
   "metadata": {},
   "outputs": [],
   "source": [
    "# Carrying out squareroot transformation of the data\n",
    "data['maximum_open_credit_trf']=np.sqrt(data['maximum_open_credit'])"
   ]
  },
  {
   "cell_type": "code",
   "execution_count": 373,
   "id": "double-easter",
   "metadata": {
    "scrolled": false
   },
   "outputs": [
    {
     "name": "stderr",
     "output_type": "stream",
     "text": [
      "c:\\users\\jbhsm\\anaconda3\\envs\\tf\\lib\\site-packages\\seaborn\\distributions.py:2557: FutureWarning: `distplot` is a deprecated function and will be removed in a future version. Please adapt your code to use either `displot` (a figure-level function with similar flexibility) or `histplot` (an axes-level function for histograms).\n",
      "  warnings.warn(msg, FutureWarning)\n"
     ]
    },
    {
     "name": "stdout",
     "output_type": "stream",
     "text": [
      "skewness :  1.0399005535529182\n",
      "kurtosis :  2.048448048342226\n"
     ]
    },
    {
     "data": {
      "image/png": "[encoded data removed]",
      "text/plain": [
       "<Figure size 864x360 with 2 Axes>"
      ]
     },
     "metadata": {
      "needs_background": "light"
     },
     "output_type": "display_data"
    }
   ],
   "source": [
    "# monthly_debt \n",
    "\n",
    "plot_hist_boxplot(data,'maximum_open_credit_trf')"
   ]
  },
  {
   "cell_type": "markdown",
   "id": "metropolitan-madness",
   "metadata": {},
   "source": [
    "* Now the curve looks better"
   ]
  },
  {
   "cell_type": "code",
   "execution_count": 374,
   "id": "olympic-concept",
   "metadata": {},
   "outputs": [
    {
     "data": {
      "text/plain": [
       "Index(['loan_id', 'customer_id', 'loan_status', 'current_loan_amount', 'term',\n",
       "       'credit_score', 'years_in_current_job', 'home_ownership',\n",
       "       'annual_income', 'purpose', 'monthly_debt', 'years_of_credit_history',\n",
       "       'months_since_last_delinquent', 'number_of_open_accounts',\n",
       "       'number_of_credit_problems', 'current_credit_balance',\n",
       "       'maximum_open_credit', 'bankruptcies', 'tax_liens', 'credit_score_trf',\n",
       "       'current_credit_balance_trf', 'monthly_debt_trf',\n",
       "       'maximum_open_credit_trf'],\n",
       "      dtype='object')"
      ]
     },
     "execution_count": 374,
     "metadata": {},
     "output_type": "execute_result"
    }
   ],
   "source": [
    "data.columns"
   ]
  },
  {
   "cell_type": "code",
   "execution_count": 377,
   "id": "minus-setting",
   "metadata": {},
   "outputs": [],
   "source": [
    "columns_to_exclude=['loan_id', 'customer_id', 'credit_score',\n",
    "       'current_credit_balance', 'monthly_debt',\n",
    "       'maximum_open_credit']"
   ]
  },
  {
   "cell_type": "code",
   "execution_count": 378,
   "id": "indonesian-combine",
   "metadata": {},
   "outputs": [],
   "source": [
    "updated_columns=data.columns.difference(columns_to_exclude)"
   ]
  },
  {
   "cell_type": "code",
   "execution_count": 379,
   "id": "productive-monitoring",
   "metadata": {},
   "outputs": [],
   "source": [
    "df_wrk = copy.deepcopy(data[updated_columns])"
   ]
  },
  {
   "cell_type": "code",
   "execution_count": 380,
   "id": "brazilian-league",
   "metadata": {},
   "outputs": [],
   "source": [
    "# Updating numeric and categorical columns\n",
    "col_name_cat=[col  for col in df_wrk.columns if data[col].dtype=='O']\n",
    "col_name_num=df_wrk.columns.difference(col_name_cat)"
   ]
  },
  {
   "cell_type": "code",
   "execution_count": 381,
   "id": "suspected-premium",
   "metadata": {},
   "outputs": [
    {
     "data": {
      "text/plain": [
       "['home_ownership', 'loan_status', 'purpose', 'term', 'years_in_current_job']"
      ]
     },
     "execution_count": 381,
     "metadata": {},
     "output_type": "execute_result"
    }
   ],
   "source": [
    "col_name_cat"
   ]
  },
  {
   "cell_type": "code",
   "execution_count": 382,
   "id": "approved-conversation",
   "metadata": {},
   "outputs": [
    {
     "data": {
      "text/plain": [
       "Index(['annual_income', 'bankruptcies', 'credit_score_trf',\n",
       "       'current_credit_balance_trf', 'current_loan_amount',\n",
       "       'maximum_open_credit_trf', 'monthly_debt_trf',\n",
       "       'months_since_last_delinquent', 'number_of_credit_problems',\n",
       "       'number_of_open_accounts', 'tax_liens', 'years_of_credit_history'],\n",
       "      dtype='object')"
      ]
     },
     "execution_count": 382,
     "metadata": {},
     "output_type": "execute_result"
    }
   ],
   "source": [
    "col_name_num"
   ]
  },
  {
   "cell_type": "code",
   "execution_count": 383,
   "id": "fluid-chile",
   "metadata": {},
   "outputs": [
    {
     "data": {
      "text/html": [
       "<div>\n",
       "<style scoped>\n",
       "    .dataframe tbody tr th:only-of-type {\n",
       "        vertical-align: middle;\n",
       "    }\n",
       "\n",
       "    .dataframe tbody tr th {\n",
       "        vertical-align: top;\n",
       "    }\n",
       "\n",
       "    .dataframe thead th {\n",
       "        text-align: right;\n",
       "    }\n",
       "</style>\n",
       "<table border=\"1\" class=\"dataframe\">\n",
       "  <thead>\n",
       "    <tr style=\"text-align: right;\">\n",
       "      <th></th>\n",
       "      <th>Null</th>\n",
       "      <th>dtype</th>\n",
       "      <th>unique</th>\n",
       "      <th>pct_Null</th>\n",
       "      <th>Loan Given_p_NL</th>\n",
       "      <th>Loan Refused_p_NL</th>\n",
       "    </tr>\n",
       "    <tr>\n",
       "      <th>index</th>\n",
       "      <th></th>\n",
       "      <th></th>\n",
       "      <th></th>\n",
       "      <th></th>\n",
       "      <th></th>\n",
       "      <th></th>\n",
       "    </tr>\n",
       "  </thead>\n",
       "  <tbody>\n",
       "    <tr>\n",
       "      <th>annual_income</th>\n",
       "      <td>21334</td>\n",
       "      <td>float64</td>\n",
       "      <td>37288</td>\n",
       "      <td>19.2%</td>\n",
       "      <td>15290 - 17.8%</td>\n",
       "      <td>6044 - 24.0%</td>\n",
       "    </tr>\n",
       "    <tr>\n",
       "      <th>bankruptcies</th>\n",
       "      <td>217</td>\n",
       "      <td>float64</td>\n",
       "      <td>8</td>\n",
       "      <td>0.2%</td>\n",
       "      <td>163 - 0.2%</td>\n",
       "      <td>54 - 0.2%</td>\n",
       "    </tr>\n",
       "    <tr>\n",
       "      <th>credit_score_trf</th>\n",
       "      <td>0</td>\n",
       "      <td>float64</td>\n",
       "      <td>168</td>\n",
       "      <td>0.0%</td>\n",
       "      <td>0 - 0.0%</td>\n",
       "      <td>0 - 0.0%</td>\n",
       "    </tr>\n",
       "    <tr>\n",
       "      <th>current_credit_balance_trf</th>\n",
       "      <td>0</td>\n",
       "      <td>float64</td>\n",
       "      <td>32845</td>\n",
       "      <td>0.0%</td>\n",
       "      <td>0 - 0.0%</td>\n",
       "      <td>0 - 0.0%</td>\n",
       "    </tr>\n",
       "    <tr>\n",
       "      <th>current_loan_amount</th>\n",
       "      <td>0</td>\n",
       "      <td>float64</td>\n",
       "      <td>22539</td>\n",
       "      <td>0.0%</td>\n",
       "      <td>0 - 0.0%</td>\n",
       "      <td>0 - 0.0%</td>\n",
       "    </tr>\n",
       "    <tr>\n",
       "      <th>home_ownership</th>\n",
       "      <td>0</td>\n",
       "      <td>object</td>\n",
       "      <td>3</td>\n",
       "      <td>0.0%</td>\n",
       "      <td>0 - 0.0%</td>\n",
       "      <td>0 - 0.0%</td>\n",
       "    </tr>\n",
       "    <tr>\n",
       "      <th>loan_status</th>\n",
       "      <td>0</td>\n",
       "      <td>object</td>\n",
       "      <td>2</td>\n",
       "      <td>0.0%</td>\n",
       "      <td>0 - 0.0%</td>\n",
       "      <td>0 - 0.0%</td>\n",
       "    </tr>\n",
       "    <tr>\n",
       "      <th>maximum_open_credit_trf</th>\n",
       "      <td>0</td>\n",
       "      <td>float64</td>\n",
       "      <td>45682</td>\n",
       "      <td>0.0%</td>\n",
       "      <td>0 - 0.0%</td>\n",
       "      <td>0 - 0.0%</td>\n",
       "    </tr>\n",
       "    <tr>\n",
       "      <th>monthly_debt_trf</th>\n",
       "      <td>0</td>\n",
       "      <td>float64</td>\n",
       "      <td>69977</td>\n",
       "      <td>0.0%</td>\n",
       "      <td>0 - 0.0%</td>\n",
       "      <td>0 - 0.0%</td>\n",
       "    </tr>\n",
       "    <tr>\n",
       "      <th>months_since_last_delinquent</th>\n",
       "      <td>59002</td>\n",
       "      <td>float64</td>\n",
       "      <td>116</td>\n",
       "      <td>53.11%</td>\n",
       "      <td>45398 - 52.8%</td>\n",
       "      <td>13604 - 54.0%</td>\n",
       "    </tr>\n",
       "    <tr>\n",
       "      <th>number_of_credit_problems</th>\n",
       "      <td>0</td>\n",
       "      <td>int64</td>\n",
       "      <td>14</td>\n",
       "      <td>0.0%</td>\n",
       "      <td>0 - 0.0%</td>\n",
       "      <td>0 - 0.0%</td>\n",
       "    </tr>\n",
       "    <tr>\n",
       "      <th>number_of_open_accounts</th>\n",
       "      <td>0</td>\n",
       "      <td>int64</td>\n",
       "      <td>37</td>\n",
       "      <td>0.0%</td>\n",
       "      <td>0 - 0.0%</td>\n",
       "      <td>0 - 0.0%</td>\n",
       "    </tr>\n",
       "    <tr>\n",
       "      <th>purpose</th>\n",
       "      <td>0</td>\n",
       "      <td>object</td>\n",
       "      <td>15</td>\n",
       "      <td>0.0%</td>\n",
       "      <td>0 - 0.0%</td>\n",
       "      <td>0 - 0.0%</td>\n",
       "    </tr>\n",
       "    <tr>\n",
       "      <th>tax_liens</th>\n",
       "      <td>0</td>\n",
       "      <td>float64</td>\n",
       "      <td>13</td>\n",
       "      <td>0.0%</td>\n",
       "      <td>0 - 0.0%</td>\n",
       "      <td>0 - 0.0%</td>\n",
       "    </tr>\n",
       "    <tr>\n",
       "      <th>term</th>\n",
       "      <td>0</td>\n",
       "      <td>object</td>\n",
       "      <td>2</td>\n",
       "      <td>0.0%</td>\n",
       "      <td>0 - 0.0%</td>\n",
       "      <td>0 - 0.0%</td>\n",
       "    </tr>\n",
       "    <tr>\n",
       "      <th>years_in_current_job</th>\n",
       "      <td>4693</td>\n",
       "      <td>object</td>\n",
       "      <td>11</td>\n",
       "      <td>4.22%</td>\n",
       "      <td>3285 - 3.8%</td>\n",
       "      <td>1408 - 5.6%</td>\n",
       "    </tr>\n",
       "    <tr>\n",
       "      <th>years_of_credit_history</th>\n",
       "      <td>0</td>\n",
       "      <td>float64</td>\n",
       "      <td>508</td>\n",
       "      <td>0.0%</td>\n",
       "      <td>0 - 0.0%</td>\n",
       "      <td>0 - 0.0%</td>\n",
       "    </tr>\n",
       "  </tbody>\n",
       "</table>\n",
       "</div>"
      ],
      "text/plain": [
       "                               Null    dtype  unique pct_Null Loan Given_p_NL  \\\n",
       "index                                                                           \n",
       "annual_income                 21334  float64   37288    19.2%   15290 - 17.8%   \n",
       "bankruptcies                    217  float64       8     0.2%      163 - 0.2%   \n",
       "credit_score_trf                  0  float64     168     0.0%        0 - 0.0%   \n",
       "current_credit_balance_trf        0  float64   32845     0.0%        0 - 0.0%   \n",
       "current_loan_amount               0  float64   22539     0.0%        0 - 0.0%   \n",
       "home_ownership                    0   object       3     0.0%        0 - 0.0%   \n",
       "loan_status                       0   object       2     0.0%        0 - 0.0%   \n",
       "maximum_open_credit_trf           0  float64   45682     0.0%        0 - 0.0%   \n",
       "monthly_debt_trf                  0  float64   69977     0.0%        0 - 0.0%   \n",
       "months_since_last_delinquent  59002  float64     116   53.11%   45398 - 52.8%   \n",
       "number_of_credit_problems         0    int64      14     0.0%        0 - 0.0%   \n",
       "number_of_open_accounts           0    int64      37     0.0%        0 - 0.0%   \n",
       "purpose                           0   object      15     0.0%        0 - 0.0%   \n",
       "tax_liens                         0  float64      13     0.0%        0 - 0.0%   \n",
       "term                              0   object       2     0.0%        0 - 0.0%   \n",
       "years_in_current_job           4693   object      11    4.22%     3285 - 3.8%   \n",
       "years_of_credit_history           0  float64     508     0.0%        0 - 0.0%   \n",
       "\n",
       "                             Loan Refused_p_NL  \n",
       "index                                           \n",
       "annual_income                     6044 - 24.0%  \n",
       "bankruptcies                         54 - 0.2%  \n",
       "credit_score_trf                      0 - 0.0%  \n",
       "current_credit_balance_trf            0 - 0.0%  \n",
       "current_loan_amount                   0 - 0.0%  \n",
       "home_ownership                        0 - 0.0%  \n",
       "loan_status                           0 - 0.0%  \n",
       "maximum_open_credit_trf               0 - 0.0%  \n",
       "monthly_debt_trf                      0 - 0.0%  \n",
       "months_since_last_delinquent     13604 - 54.0%  \n",
       "number_of_credit_problems             0 - 0.0%  \n",
       "number_of_open_accounts               0 - 0.0%  \n",
       "purpose                               0 - 0.0%  \n",
       "tax_liens                             0 - 0.0%  \n",
       "term                                  0 - 0.0%  \n",
       "years_in_current_job               1408 - 5.6%  \n",
       "years_of_credit_history               0 - 0.0%  "
      ]
     },
     "execution_count": 383,
     "metadata": {},
     "output_type": "execute_result"
    }
   ],
   "source": [
    "summary=df_summary(df_wrk,\"loan_status\")\n",
    "summary.get_summary()"
   ]
  },
  {
   "cell_type": "code",
   "execution_count": 384,
   "id": "durable-berry",
   "metadata": {},
   "outputs": [],
   "source": [
    "# Factorizing the categorical data\n",
    "for c in col_name_cat:\n",
    "    df_wrk[c] = pd.factorize(df_wrk[c])[0]\n"
   ]
  },
  {
   "cell_type": "code",
   "execution_count": 389,
   "id": "romantic-token",
   "metadata": {},
   "outputs": [
    {
     "data": {
      "text/html": [
       "<div>\n",
       "<style scoped>\n",
       "    .dataframe tbody tr th:only-of-type {\n",
       "        vertical-align: middle;\n",
       "    }\n",
       "\n",
       "    .dataframe tbody tr th {\n",
       "        vertical-align: top;\n",
       "    }\n",
       "\n",
       "    .dataframe thead th {\n",
       "        text-align: right;\n",
       "    }\n",
       "</style>\n",
       "<table border=\"1\" class=\"dataframe\">\n",
       "  <thead>\n",
       "    <tr style=\"text-align: right;\">\n",
       "      <th></th>\n",
       "      <th>home_ownership</th>\n",
       "      <th>loan_status</th>\n",
       "      <th>purpose</th>\n",
       "      <th>term</th>\n",
       "      <th>years_in_current_job</th>\n",
       "    </tr>\n",
       "  </thead>\n",
       "  <tbody>\n",
       "    <tr>\n",
       "      <th>0</th>\n",
       "      <td>0</td>\n",
       "      <td>0</td>\n",
       "      <td>0</td>\n",
       "      <td>0</td>\n",
       "      <td>0</td>\n",
       "    </tr>\n",
       "    <tr>\n",
       "      <th>1</th>\n",
       "      <td>1</td>\n",
       "      <td>0</td>\n",
       "      <td>0</td>\n",
       "      <td>1</td>\n",
       "      <td>1</td>\n",
       "    </tr>\n",
       "    <tr>\n",
       "      <th>2</th>\n",
       "      <td>1</td>\n",
       "      <td>0</td>\n",
       "      <td>1</td>\n",
       "      <td>0</td>\n",
       "      <td>2</td>\n",
       "    </tr>\n",
       "    <tr>\n",
       "      <th>3</th>\n",
       "      <td>0</td>\n",
       "      <td>0</td>\n",
       "      <td>0</td>\n",
       "      <td>0</td>\n",
       "      <td>3</td>\n",
       "    </tr>\n",
       "    <tr>\n",
       "      <th>4</th>\n",
       "      <td>1</td>\n",
       "      <td>0</td>\n",
       "      <td>1</td>\n",
       "      <td>1</td>\n",
       "      <td>1</td>\n",
       "    </tr>\n",
       "  </tbody>\n",
       "</table>\n",
       "</div>"
      ],
      "text/plain": [
       "   home_ownership loan_status  purpose  term  years_in_current_job\n",
       "0               0           0        0     0                     0\n",
       "1               1           0        0     1                     1\n",
       "2               1           0        1     0                     2\n",
       "3               0           0        0     0                     3\n",
       "4               1           0        1     1                     1"
      ]
     },
     "execution_count": 389,
     "metadata": {},
     "output_type": "execute_result"
    }
   ],
   "source": [
    "\n",
    "df_wrk[col_name_cat].head()"
   ]
  },
  {
   "cell_type": "code",
   "execution_count": 387,
   "id": "unavailable-edward",
   "metadata": {},
   "outputs": [
    {
     "data": {
      "text/plain": [
       "1    54047\n",
       "0    46865\n",
       "2    10184\n",
       "Name: home_ownership, dtype: int64"
      ]
     },
     "execution_count": 387,
     "metadata": {},
     "output_type": "execute_result"
    }
   ],
   "source": [
    "df_wrk['home_ownership'].value_counts()"
   ]
  },
  {
   "cell_type": "code",
   "execution_count": 390,
   "id": "advised-chemical",
   "metadata": {},
   "outputs": [
    {
     "data": {
      "text/html": [
       "<div>\n",
       "<style scoped>\n",
       "    .dataframe tbody tr th:only-of-type {\n",
       "        vertical-align: middle;\n",
       "    }\n",
       "\n",
       "    .dataframe tbody tr th {\n",
       "        vertical-align: top;\n",
       "    }\n",
       "\n",
       "    .dataframe thead th {\n",
       "        text-align: right;\n",
       "    }\n",
       "</style>\n",
       "<table border=\"1\" class=\"dataframe\">\n",
       "  <thead>\n",
       "    <tr style=\"text-align: right;\">\n",
       "      <th></th>\n",
       "      <th>Null</th>\n",
       "      <th>dtype</th>\n",
       "      <th>unique</th>\n",
       "      <th>pct_Null</th>\n",
       "      <th>1_p_NL</th>\n",
       "      <th>0_p_NL</th>\n",
       "    </tr>\n",
       "    <tr>\n",
       "      <th>index</th>\n",
       "      <th></th>\n",
       "      <th></th>\n",
       "      <th></th>\n",
       "      <th></th>\n",
       "      <th></th>\n",
       "      <th></th>\n",
       "    </tr>\n",
       "  </thead>\n",
       "  <tbody>\n",
       "    <tr>\n",
       "      <th>annual_income</th>\n",
       "      <td>21334</td>\n",
       "      <td>float64</td>\n",
       "      <td>37288</td>\n",
       "      <td>19.2%</td>\n",
       "      <td>15290 - 17.8%</td>\n",
       "      <td>6044 - 24.0%</td>\n",
       "    </tr>\n",
       "    <tr>\n",
       "      <th>bankruptcies</th>\n",
       "      <td>217</td>\n",
       "      <td>float64</td>\n",
       "      <td>8</td>\n",
       "      <td>0.2%</td>\n",
       "      <td>163 - 0.2%</td>\n",
       "      <td>54 - 0.2%</td>\n",
       "    </tr>\n",
       "    <tr>\n",
       "      <th>credit_score_trf</th>\n",
       "      <td>0</td>\n",
       "      <td>float64</td>\n",
       "      <td>168</td>\n",
       "      <td>0.0%</td>\n",
       "      <td>0 - 0.0%</td>\n",
       "      <td>0 - 0.0%</td>\n",
       "    </tr>\n",
       "    <tr>\n",
       "      <th>current_credit_balance_trf</th>\n",
       "      <td>0</td>\n",
       "      <td>float64</td>\n",
       "      <td>32845</td>\n",
       "      <td>0.0%</td>\n",
       "      <td>0 - 0.0%</td>\n",
       "      <td>0 - 0.0%</td>\n",
       "    </tr>\n",
       "    <tr>\n",
       "      <th>current_loan_amount</th>\n",
       "      <td>0</td>\n",
       "      <td>float64</td>\n",
       "      <td>22539</td>\n",
       "      <td>0.0%</td>\n",
       "      <td>0 - 0.0%</td>\n",
       "      <td>0 - 0.0%</td>\n",
       "    </tr>\n",
       "    <tr>\n",
       "      <th>home_ownership</th>\n",
       "      <td>0</td>\n",
       "      <td>int64</td>\n",
       "      <td>3</td>\n",
       "      <td>0.0%</td>\n",
       "      <td>0 - 0.0%</td>\n",
       "      <td>0 - 0.0%</td>\n",
       "    </tr>\n",
       "    <tr>\n",
       "      <th>loan_status</th>\n",
       "      <td>0</td>\n",
       "      <td>object</td>\n",
       "      <td>2</td>\n",
       "      <td>0.0%</td>\n",
       "      <td>0 - 0.0%</td>\n",
       "      <td>0 - 0.0%</td>\n",
       "    </tr>\n",
       "    <tr>\n",
       "      <th>maximum_open_credit_trf</th>\n",
       "      <td>0</td>\n",
       "      <td>float64</td>\n",
       "      <td>45682</td>\n",
       "      <td>0.0%</td>\n",
       "      <td>0 - 0.0%</td>\n",
       "      <td>0 - 0.0%</td>\n",
       "    </tr>\n",
       "    <tr>\n",
       "      <th>monthly_debt_trf</th>\n",
       "      <td>0</td>\n",
       "      <td>float64</td>\n",
       "      <td>69977</td>\n",
       "      <td>0.0%</td>\n",
       "      <td>0 - 0.0%</td>\n",
       "      <td>0 - 0.0%</td>\n",
       "    </tr>\n",
       "    <tr>\n",
       "      <th>months_since_last_delinquent</th>\n",
       "      <td>59002</td>\n",
       "      <td>float64</td>\n",
       "      <td>116</td>\n",
       "      <td>53.11%</td>\n",
       "      <td>45398 - 52.8%</td>\n",
       "      <td>13604 - 54.0%</td>\n",
       "    </tr>\n",
       "    <tr>\n",
       "      <th>number_of_credit_problems</th>\n",
       "      <td>0</td>\n",
       "      <td>int64</td>\n",
       "      <td>14</td>\n",
       "      <td>0.0%</td>\n",
       "      <td>0 - 0.0%</td>\n",
       "      <td>0 - 0.0%</td>\n",
       "    </tr>\n",
       "    <tr>\n",
       "      <th>number_of_open_accounts</th>\n",
       "      <td>0</td>\n",
       "      <td>int64</td>\n",
       "      <td>37</td>\n",
       "      <td>0.0%</td>\n",
       "      <td>0 - 0.0%</td>\n",
       "      <td>0 - 0.0%</td>\n",
       "    </tr>\n",
       "    <tr>\n",
       "      <th>purpose</th>\n",
       "      <td>0</td>\n",
       "      <td>int64</td>\n",
       "      <td>15</td>\n",
       "      <td>0.0%</td>\n",
       "      <td>0 - 0.0%</td>\n",
       "      <td>0 - 0.0%</td>\n",
       "    </tr>\n",
       "    <tr>\n",
       "      <th>tax_liens</th>\n",
       "      <td>0</td>\n",
       "      <td>float64</td>\n",
       "      <td>13</td>\n",
       "      <td>0.0%</td>\n",
       "      <td>0 - 0.0%</td>\n",
       "      <td>0 - 0.0%</td>\n",
       "    </tr>\n",
       "    <tr>\n",
       "      <th>term</th>\n",
       "      <td>0</td>\n",
       "      <td>int64</td>\n",
       "      <td>2</td>\n",
       "      <td>0.0%</td>\n",
       "      <td>0 - 0.0%</td>\n",
       "      <td>0 - 0.0%</td>\n",
       "    </tr>\n",
       "    <tr>\n",
       "      <th>years_in_current_job</th>\n",
       "      <td>0</td>\n",
       "      <td>int64</td>\n",
       "      <td>12</td>\n",
       "      <td>0.0%</td>\n",
       "      <td>0 - 0.0%</td>\n",
       "      <td>0 - 0.0%</td>\n",
       "    </tr>\n",
       "    <tr>\n",
       "      <th>years_of_credit_history</th>\n",
       "      <td>0</td>\n",
       "      <td>float64</td>\n",
       "      <td>508</td>\n",
       "      <td>0.0%</td>\n",
       "      <td>0 - 0.0%</td>\n",
       "      <td>0 - 0.0%</td>\n",
       "    </tr>\n",
       "  </tbody>\n",
       "</table>\n",
       "</div>"
      ],
      "text/plain": [
       "                               Null    dtype  unique pct_Null         1_p_NL  \\\n",
       "index                                                                          \n",
       "annual_income                 21334  float64   37288    19.2%  15290 - 17.8%   \n",
       "bankruptcies                    217  float64       8     0.2%     163 - 0.2%   \n",
       "credit_score_trf                  0  float64     168     0.0%       0 - 0.0%   \n",
       "current_credit_balance_trf        0  float64   32845     0.0%       0 - 0.0%   \n",
       "current_loan_amount               0  float64   22539     0.0%       0 - 0.0%   \n",
       "home_ownership                    0    int64       3     0.0%       0 - 0.0%   \n",
       "loan_status                       0   object       2     0.0%       0 - 0.0%   \n",
       "maximum_open_credit_trf           0  float64   45682     0.0%       0 - 0.0%   \n",
       "monthly_debt_trf                  0  float64   69977     0.0%       0 - 0.0%   \n",
       "months_since_last_delinquent  59002  float64     116   53.11%  45398 - 52.8%   \n",
       "number_of_credit_problems         0    int64      14     0.0%       0 - 0.0%   \n",
       "number_of_open_accounts           0    int64      37     0.0%       0 - 0.0%   \n",
       "purpose                           0    int64      15     0.0%       0 - 0.0%   \n",
       "tax_liens                         0  float64      13     0.0%       0 - 0.0%   \n",
       "term                              0    int64       2     0.0%       0 - 0.0%   \n",
       "years_in_current_job              0    int64      12     0.0%       0 - 0.0%   \n",
       "years_of_credit_history           0  float64     508     0.0%       0 - 0.0%   \n",
       "\n",
       "                                     0_p_NL  \n",
       "index                                        \n",
       "annual_income                  6044 - 24.0%  \n",
       "bankruptcies                      54 - 0.2%  \n",
       "credit_score_trf                   0 - 0.0%  \n",
       "current_credit_balance_trf         0 - 0.0%  \n",
       "current_loan_amount                0 - 0.0%  \n",
       "home_ownership                     0 - 0.0%  \n",
       "loan_status                        0 - 0.0%  \n",
       "maximum_open_credit_trf            0 - 0.0%  \n",
       "monthly_debt_trf                   0 - 0.0%  \n",
       "months_since_last_delinquent  13604 - 54.0%  \n",
       "number_of_credit_problems          0 - 0.0%  \n",
       "number_of_open_accounts            0 - 0.0%  \n",
       "purpose                            0 - 0.0%  \n",
       "tax_liens                          0 - 0.0%  \n",
       "term                               0 - 0.0%  \n",
       "years_in_current_job               0 - 0.0%  \n",
       "years_of_credit_history            0 - 0.0%  "
      ]
     },
     "execution_count": 390,
     "metadata": {},
     "output_type": "execute_result"
    }
   ],
   "source": [
    "summary=df_summary(df_wrk,\"loan_status\")\n",
    "summary.get_summary()"
   ]
  },
  {
   "cell_type": "markdown",
   "id": "known-picnic",
   "metadata": {},
   "source": [
    "**Thoughts**\n",
    "* All the features have ben converted to numeric features.\n",
    "* We have to get the dummies of all these features and add this on to the main dataframe\n",
    "* This will be followed by soft imputing."
   ]
  },
  {
   "cell_type": "code",
   "execution_count": 392,
   "id": "engaged-sudan",
   "metadata": {},
   "outputs": [
    {
     "data": {
      "text/html": [
       "<div>\n",
       "<style scoped>\n",
       "    .dataframe tbody tr th:only-of-type {\n",
       "        vertical-align: middle;\n",
       "    }\n",
       "\n",
       "    .dataframe tbody tr th {\n",
       "        vertical-align: top;\n",
       "    }\n",
       "\n",
       "    .dataframe thead th {\n",
       "        text-align: right;\n",
       "    }\n",
       "</style>\n",
       "<table border=\"1\" class=\"dataframe\">\n",
       "  <thead>\n",
       "    <tr style=\"text-align: right;\">\n",
       "      <th></th>\n",
       "      <th>annual_income</th>\n",
       "      <th>bankruptcies</th>\n",
       "      <th>credit_score_trf</th>\n",
       "      <th>current_credit_balance_trf</th>\n",
       "      <th>current_loan_amount</th>\n",
       "      <th>home_ownership</th>\n",
       "      <th>loan_status</th>\n",
       "      <th>maximum_open_credit_trf</th>\n",
       "      <th>monthly_debt_trf</th>\n",
       "      <th>months_since_last_delinquent</th>\n",
       "      <th>number_of_credit_problems</th>\n",
       "      <th>number_of_open_accounts</th>\n",
       "      <th>purpose</th>\n",
       "      <th>tax_liens</th>\n",
       "      <th>term</th>\n",
       "      <th>years_in_current_job</th>\n",
       "      <th>years_of_credit_history</th>\n",
       "    </tr>\n",
       "  </thead>\n",
       "  <tbody>\n",
       "    <tr>\n",
       "      <th>0</th>\n",
       "      <td>46643.0</td>\n",
       "      <td>0.0</td>\n",
       "      <td>7.291656e+36</td>\n",
       "      <td>82.231381</td>\n",
       "      <td>12232.0</td>\n",
       "      <td>0</td>\n",
       "      <td>0</td>\n",
       "      <td>89.140339</td>\n",
       "      <td>27.881714</td>\n",
       "      <td>10.0</td>\n",
       "      <td>0</td>\n",
       "      <td>12</td>\n",
       "      <td>0</td>\n",
       "      <td>0.0</td>\n",
       "      <td>0</td>\n",
       "      <td>0</td>\n",
       "      <td>18.0</td>\n",
       "    </tr>\n",
       "    <tr>\n",
       "      <th>1</th>\n",
       "      <td>81099.0</td>\n",
       "      <td>0.0</td>\n",
       "      <td>7.985056e+36</td>\n",
       "      <td>188.960313</td>\n",
       "      <td>25014.0</td>\n",
       "      <td>1</td>\n",
       "      <td>0</td>\n",
       "      <td>279.214971</td>\n",
       "      <td>29.867876</td>\n",
       "      <td>NaN</td>\n",
       "      <td>0</td>\n",
       "      <td>14</td>\n",
       "      <td>0</td>\n",
       "      <td>0.0</td>\n",
       "      <td>1</td>\n",
       "      <td>1</td>\n",
       "      <td>26.7</td>\n",
       "    </tr>\n",
       "    <tr>\n",
       "      <th>2</th>\n",
       "      <td>60438.0</td>\n",
       "      <td>1.0</td>\n",
       "      <td>6.777494e+36</td>\n",
       "      <td>106.183803</td>\n",
       "      <td>16117.0</td>\n",
       "      <td>1</td>\n",
       "      <td>0</td>\n",
       "      <td>121.716885</td>\n",
       "      <td>35.270668</td>\n",
       "      <td>32.0</td>\n",
       "      <td>1</td>\n",
       "      <td>11</td>\n",
       "      <td>1</td>\n",
       "      <td>0.0</td>\n",
       "      <td>0</td>\n",
       "      <td>2</td>\n",
       "      <td>16.7</td>\n",
       "    </tr>\n",
       "    <tr>\n",
       "      <th>3</th>\n",
       "      <td>34171.0</td>\n",
       "      <td>0.0</td>\n",
       "      <td>9.058593e+36</td>\n",
       "      <td>83.719771</td>\n",
       "      <td>11716.0</td>\n",
       "      <td>0</td>\n",
       "      <td>0</td>\n",
       "      <td>208.645633</td>\n",
       "      <td>31.479199</td>\n",
       "      <td>NaN</td>\n",
       "      <td>0</td>\n",
       "      <td>21</td>\n",
       "      <td>0</td>\n",
       "      <td>0.0</td>\n",
       "      <td>0</td>\n",
       "      <td>3</td>\n",
       "      <td>10.0</td>\n",
       "    </tr>\n",
       "    <tr>\n",
       "      <th>4</th>\n",
       "      <td>47003.0</td>\n",
       "      <td>1.0</td>\n",
       "      <td>3.313723e+36</td>\n",
       "      <td>130.049990</td>\n",
       "      <td>9789.0</td>\n",
       "      <td>1</td>\n",
       "      <td>0</td>\n",
       "      <td>139.832042</td>\n",
       "      <td>22.443485</td>\n",
       "      <td>25.0</td>\n",
       "      <td>1</td>\n",
       "      <td>13</td>\n",
       "      <td>1</td>\n",
       "      <td>0.0</td>\n",
       "      <td>1</td>\n",
       "      <td>1</td>\n",
       "      <td>16.7</td>\n",
       "    </tr>\n",
       "  </tbody>\n",
       "</table>\n",
       "</div>"
      ],
      "text/plain": [
       "   annual_income  bankruptcies  credit_score_trf  current_credit_balance_trf  \\\n",
       "0        46643.0           0.0      7.291656e+36                   82.231381   \n",
       "1        81099.0           0.0      7.985056e+36                  188.960313   \n",
       "2        60438.0           1.0      6.777494e+36                  106.183803   \n",
       "3        34171.0           0.0      9.058593e+36                   83.719771   \n",
       "4        47003.0           1.0      3.313723e+36                  130.049990   \n",
       "\n",
       "   current_loan_amount  home_ownership loan_status  maximum_open_credit_trf  \\\n",
       "0              12232.0               0           0                89.140339   \n",
       "1              25014.0               1           0               279.214971   \n",
       "2              16117.0               1           0               121.716885   \n",
       "3              11716.0               0           0               208.645633   \n",
       "4               9789.0               1           0               139.832042   \n",
       "\n",
       "   monthly_debt_trf  months_since_last_delinquent  number_of_credit_problems  \\\n",
       "0         27.881714                          10.0                          0   \n",
       "1         29.867876                           NaN                          0   \n",
       "2         35.270668                          32.0                          1   \n",
       "3         31.479199                           NaN                          0   \n",
       "4         22.443485                          25.0                          1   \n",
       "\n",
       "   number_of_open_accounts  purpose  tax_liens  term  years_in_current_job  \\\n",
       "0                       12        0        0.0     0                     0   \n",
       "1                       14        0        0.0     1                     1   \n",
       "2                       11        1        0.0     0                     2   \n",
       "3                       21        0        0.0     0                     3   \n",
       "4                       13        1        0.0     1                     1   \n",
       "\n",
       "   years_of_credit_history  \n",
       "0                     18.0  \n",
       "1                     26.7  \n",
       "2                     16.7  \n",
       "3                     10.0  \n",
       "4                     16.7  "
      ]
     },
     "execution_count": 392,
     "metadata": {},
     "output_type": "execute_result"
    }
   ],
   "source": [
    "df_wrk.head()"
   ]
  },
  {
   "cell_type": "code",
   "execution_count": 395,
   "id": "musical-sherman",
   "metadata": {},
   "outputs": [
    {
     "data": {
      "text/html": [
       "<div>\n",
       "<style scoped>\n",
       "    .dataframe tbody tr th:only-of-type {\n",
       "        vertical-align: middle;\n",
       "    }\n",
       "\n",
       "    .dataframe tbody tr th {\n",
       "        vertical-align: top;\n",
       "    }\n",
       "\n",
       "    .dataframe thead th {\n",
       "        text-align: right;\n",
       "    }\n",
       "</style>\n",
       "<table border=\"1\" class=\"dataframe\">\n",
       "  <thead>\n",
       "    <tr style=\"text-align: right;\">\n",
       "      <th></th>\n",
       "      <th>Null</th>\n",
       "      <th>dtype</th>\n",
       "      <th>unique</th>\n",
       "      <th>pct_Null</th>\n",
       "      <th>1_p_NL</th>\n",
       "      <th>0_p_NL</th>\n",
       "    </tr>\n",
       "    <tr>\n",
       "      <th>index</th>\n",
       "      <th></th>\n",
       "      <th></th>\n",
       "      <th></th>\n",
       "      <th></th>\n",
       "      <th></th>\n",
       "      <th></th>\n",
       "    </tr>\n",
       "  </thead>\n",
       "  <tbody>\n",
       "    <tr>\n",
       "      <th>annual_income</th>\n",
       "      <td>21334</td>\n",
       "      <td>float64</td>\n",
       "      <td>37288</td>\n",
       "      <td>19.2%</td>\n",
       "      <td>15290 - 17.8%</td>\n",
       "      <td>6044 - 24.0%</td>\n",
       "    </tr>\n",
       "    <tr>\n",
       "      <th>bankruptcies</th>\n",
       "      <td>217</td>\n",
       "      <td>float64</td>\n",
       "      <td>8</td>\n",
       "      <td>0.2%</td>\n",
       "      <td>163 - 0.2%</td>\n",
       "      <td>54 - 0.2%</td>\n",
       "    </tr>\n",
       "    <tr>\n",
       "      <th>credit_score_trf</th>\n",
       "      <td>0</td>\n",
       "      <td>float64</td>\n",
       "      <td>168</td>\n",
       "      <td>0.0%</td>\n",
       "      <td>0 - 0.0%</td>\n",
       "      <td>0 - 0.0%</td>\n",
       "    </tr>\n",
       "    <tr>\n",
       "      <th>current_credit_balance_trf</th>\n",
       "      <td>0</td>\n",
       "      <td>float64</td>\n",
       "      <td>32845</td>\n",
       "      <td>0.0%</td>\n",
       "      <td>0 - 0.0%</td>\n",
       "      <td>0 - 0.0%</td>\n",
       "    </tr>\n",
       "    <tr>\n",
       "      <th>current_loan_amount</th>\n",
       "      <td>0</td>\n",
       "      <td>float64</td>\n",
       "      <td>22539</td>\n",
       "      <td>0.0%</td>\n",
       "      <td>0 - 0.0%</td>\n",
       "      <td>0 - 0.0%</td>\n",
       "    </tr>\n",
       "    <tr>\n",
       "      <th>home_ownership</th>\n",
       "      <td>0</td>\n",
       "      <td>int64</td>\n",
       "      <td>3</td>\n",
       "      <td>0.0%</td>\n",
       "      <td>0 - 0.0%</td>\n",
       "      <td>0 - 0.0%</td>\n",
       "    </tr>\n",
       "    <tr>\n",
       "      <th>loan_status</th>\n",
       "      <td>0</td>\n",
       "      <td>object</td>\n",
       "      <td>2</td>\n",
       "      <td>0.0%</td>\n",
       "      <td>0 - 0.0%</td>\n",
       "      <td>0 - 0.0%</td>\n",
       "    </tr>\n",
       "    <tr>\n",
       "      <th>maximum_open_credit_trf</th>\n",
       "      <td>0</td>\n",
       "      <td>float64</td>\n",
       "      <td>45682</td>\n",
       "      <td>0.0%</td>\n",
       "      <td>0 - 0.0%</td>\n",
       "      <td>0 - 0.0%</td>\n",
       "    </tr>\n",
       "    <tr>\n",
       "      <th>monthly_debt_trf</th>\n",
       "      <td>0</td>\n",
       "      <td>float64</td>\n",
       "      <td>69977</td>\n",
       "      <td>0.0%</td>\n",
       "      <td>0 - 0.0%</td>\n",
       "      <td>0 - 0.0%</td>\n",
       "    </tr>\n",
       "    <tr>\n",
       "      <th>months_since_last_delinquent</th>\n",
       "      <td>59002</td>\n",
       "      <td>float64</td>\n",
       "      <td>116</td>\n",
       "      <td>53.11%</td>\n",
       "      <td>45398 - 52.8%</td>\n",
       "      <td>13604 - 54.0%</td>\n",
       "    </tr>\n",
       "    <tr>\n",
       "      <th>number_of_credit_problems</th>\n",
       "      <td>0</td>\n",
       "      <td>int64</td>\n",
       "      <td>14</td>\n",
       "      <td>0.0%</td>\n",
       "      <td>0 - 0.0%</td>\n",
       "      <td>0 - 0.0%</td>\n",
       "    </tr>\n",
       "    <tr>\n",
       "      <th>number_of_open_accounts</th>\n",
       "      <td>0</td>\n",
       "      <td>int64</td>\n",
       "      <td>37</td>\n",
       "      <td>0.0%</td>\n",
       "      <td>0 - 0.0%</td>\n",
       "      <td>0 - 0.0%</td>\n",
       "    </tr>\n",
       "    <tr>\n",
       "      <th>purpose</th>\n",
       "      <td>0</td>\n",
       "      <td>int64</td>\n",
       "      <td>15</td>\n",
       "      <td>0.0%</td>\n",
       "      <td>0 - 0.0%</td>\n",
       "      <td>0 - 0.0%</td>\n",
       "    </tr>\n",
       "    <tr>\n",
       "      <th>tax_liens</th>\n",
       "      <td>0</td>\n",
       "      <td>float64</td>\n",
       "      <td>13</td>\n",
       "      <td>0.0%</td>\n",
       "      <td>0 - 0.0%</td>\n",
       "      <td>0 - 0.0%</td>\n",
       "    </tr>\n",
       "    <tr>\n",
       "      <th>term</th>\n",
       "      <td>0</td>\n",
       "      <td>int64</td>\n",
       "      <td>2</td>\n",
       "      <td>0.0%</td>\n",
       "      <td>0 - 0.0%</td>\n",
       "      <td>0 - 0.0%</td>\n",
       "    </tr>\n",
       "    <tr>\n",
       "      <th>years_in_current_job</th>\n",
       "      <td>0</td>\n",
       "      <td>int64</td>\n",
       "      <td>12</td>\n",
       "      <td>0.0%</td>\n",
       "      <td>0 - 0.0%</td>\n",
       "      <td>0 - 0.0%</td>\n",
       "    </tr>\n",
       "    <tr>\n",
       "      <th>years_of_credit_history</th>\n",
       "      <td>0</td>\n",
       "      <td>float64</td>\n",
       "      <td>508</td>\n",
       "      <td>0.0%</td>\n",
       "      <td>0 - 0.0%</td>\n",
       "      <td>0 - 0.0%</td>\n",
       "    </tr>\n",
       "  </tbody>\n",
       "</table>\n",
       "</div>"
      ],
      "text/plain": [
       "                               Null    dtype  unique pct_Null         1_p_NL  \\\n",
       "index                                                                          \n",
       "annual_income                 21334  float64   37288    19.2%  15290 - 17.8%   \n",
       "bankruptcies                    217  float64       8     0.2%     163 - 0.2%   \n",
       "credit_score_trf                  0  float64     168     0.0%       0 - 0.0%   \n",
       "current_credit_balance_trf        0  float64   32845     0.0%       0 - 0.0%   \n",
       "current_loan_amount               0  float64   22539     0.0%       0 - 0.0%   \n",
       "home_ownership                    0    int64       3     0.0%       0 - 0.0%   \n",
       "loan_status                       0   object       2     0.0%       0 - 0.0%   \n",
       "maximum_open_credit_trf           0  float64   45682     0.0%       0 - 0.0%   \n",
       "monthly_debt_trf                  0  float64   69977     0.0%       0 - 0.0%   \n",
       "months_since_last_delinquent  59002  float64     116   53.11%  45398 - 52.8%   \n",
       "number_of_credit_problems         0    int64      14     0.0%       0 - 0.0%   \n",
       "number_of_open_accounts           0    int64      37     0.0%       0 - 0.0%   \n",
       "purpose                           0    int64      15     0.0%       0 - 0.0%   \n",
       "tax_liens                         0  float64      13     0.0%       0 - 0.0%   \n",
       "term                              0    int64       2     0.0%       0 - 0.0%   \n",
       "years_in_current_job              0    int64      12     0.0%       0 - 0.0%   \n",
       "years_of_credit_history           0  float64     508     0.0%       0 - 0.0%   \n",
       "\n",
       "                                     0_p_NL  \n",
       "index                                        \n",
       "annual_income                  6044 - 24.0%  \n",
       "bankruptcies                      54 - 0.2%  \n",
       "credit_score_trf                   0 - 0.0%  \n",
       "current_credit_balance_trf         0 - 0.0%  \n",
       "current_loan_amount                0 - 0.0%  \n",
       "home_ownership                     0 - 0.0%  \n",
       "loan_status                        0 - 0.0%  \n",
       "maximum_open_credit_trf            0 - 0.0%  \n",
       "monthly_debt_trf                   0 - 0.0%  \n",
       "months_since_last_delinquent  13604 - 54.0%  \n",
       "number_of_credit_problems          0 - 0.0%  \n",
       "number_of_open_accounts            0 - 0.0%  \n",
       "purpose                            0 - 0.0%  \n",
       "tax_liens                          0 - 0.0%  \n",
       "term                               0 - 0.0%  \n",
       "years_in_current_job               0 - 0.0%  \n",
       "years_of_credit_history            0 - 0.0%  "
      ]
     },
     "execution_count": 395,
     "metadata": {},
     "output_type": "execute_result"
    }
   ],
   "source": [
    "summary=df_summary(df_wrk,\"loan_status\")\n",
    "summary.get_summary()"
   ]
  },
  {
   "cell_type": "code",
   "execution_count": 397,
   "id": "textile-compilation",
   "metadata": {},
   "outputs": [
    {
     "name": "stderr",
     "output_type": "stream",
     "text": [
      "c:\\users\\jbhsm\\anaconda3\\envs\\tf\\lib\\site-packages\\sklearn\\preprocessing\\_data.py:194: UserWarning: Numerical issues were encountered when centering the data and might not be solved. Dataset may contain too large values. You may need to prescale your features.\n",
      "  warnings.warn(\"Numerical issues were encountered \"\n"
     ]
    }
   ],
   "source": [
    "# Only df_wrk is being scaled - due very high value e^37, this impacty the imputing algorithim, and stopped it from fuunctioning\n",
    "df_wrk[\"credit_score_trf\"]=preprocessing.scale(df_wrk[\"credit_score_trf\"])"
   ]
  },
  {
   "cell_type": "code",
   "execution_count": 398,
   "id": "frequent-aquatic",
   "metadata": {},
   "outputs": [
    {
     "data": {
      "text/plain": [
       "count    1.110960e+05\n",
       "mean    -4.502611e-17\n",
       "std      1.000005e+00\n",
       "min     -2.527336e+00\n",
       "25%     -5.339089e-01\n",
       "50%     -2.194337e-01\n",
       "75%      7.910102e-01\n",
       "max      1.944626e+00\n",
       "Name: credit_score_trf, dtype: float64"
      ]
     },
     "execution_count": 398,
     "metadata": {},
     "output_type": "execute_result"
    }
   ],
   "source": [
    "df_wrk[\"credit_score_trf\"].describe()"
   ]
  },
  {
   "cell_type": "code",
   "execution_count": 399,
   "id": "dental-labor",
   "metadata": {},
   "outputs": [
    {
     "data": {
      "text/html": [
       "<div>\n",
       "<style scoped>\n",
       "    .dataframe tbody tr th:only-of-type {\n",
       "        vertical-align: middle;\n",
       "    }\n",
       "\n",
       "    .dataframe tbody tr th {\n",
       "        vertical-align: top;\n",
       "    }\n",
       "\n",
       "    .dataframe thead th {\n",
       "        text-align: right;\n",
       "    }\n",
       "</style>\n",
       "<table border=\"1\" class=\"dataframe\">\n",
       "  <thead>\n",
       "    <tr style=\"text-align: right;\">\n",
       "      <th></th>\n",
       "      <th>annual_income</th>\n",
       "      <th>bankruptcies</th>\n",
       "      <th>credit_score_trf</th>\n",
       "      <th>current_credit_balance_trf</th>\n",
       "      <th>current_loan_amount</th>\n",
       "      <th>home_ownership</th>\n",
       "      <th>loan_status</th>\n",
       "      <th>maximum_open_credit_trf</th>\n",
       "      <th>monthly_debt_trf</th>\n",
       "      <th>months_since_last_delinquent</th>\n",
       "      <th>number_of_credit_problems</th>\n",
       "      <th>number_of_open_accounts</th>\n",
       "      <th>purpose</th>\n",
       "      <th>tax_liens</th>\n",
       "      <th>term</th>\n",
       "      <th>years_in_current_job</th>\n",
       "      <th>years_of_credit_history</th>\n",
       "    </tr>\n",
       "  </thead>\n",
       "  <tbody>\n",
       "    <tr>\n",
       "      <th>0</th>\n",
       "      <td>46643.0</td>\n",
       "      <td>0.0</td>\n",
       "      <td>0.375125</td>\n",
       "      <td>82.231381</td>\n",
       "      <td>12232.0</td>\n",
       "      <td>0</td>\n",
       "      <td>0</td>\n",
       "      <td>89.140339</td>\n",
       "      <td>27.881714</td>\n",
       "      <td>10.0</td>\n",
       "      <td>0</td>\n",
       "      <td>12</td>\n",
       "      <td>0</td>\n",
       "      <td>0.0</td>\n",
       "      <td>0</td>\n",
       "      <td>0</td>\n",
       "      <td>18.0</td>\n",
       "    </tr>\n",
       "    <tr>\n",
       "      <th>1</th>\n",
       "      <td>81099.0</td>\n",
       "      <td>0.0</td>\n",
       "      <td>0.667165</td>\n",
       "      <td>188.960313</td>\n",
       "      <td>25014.0</td>\n",
       "      <td>1</td>\n",
       "      <td>0</td>\n",
       "      <td>279.214971</td>\n",
       "      <td>29.867876</td>\n",
       "      <td>NaN</td>\n",
       "      <td>0</td>\n",
       "      <td>14</td>\n",
       "      <td>0</td>\n",
       "      <td>0.0</td>\n",
       "      <td>1</td>\n",
       "      <td>1</td>\n",
       "      <td>26.7</td>\n",
       "    </tr>\n",
       "    <tr>\n",
       "      <th>2</th>\n",
       "      <td>60438.0</td>\n",
       "      <td>1.0</td>\n",
       "      <td>0.158575</td>\n",
       "      <td>106.183803</td>\n",
       "      <td>16117.0</td>\n",
       "      <td>1</td>\n",
       "      <td>0</td>\n",
       "      <td>121.716885</td>\n",
       "      <td>35.270668</td>\n",
       "      <td>32.0</td>\n",
       "      <td>1</td>\n",
       "      <td>11</td>\n",
       "      <td>1</td>\n",
       "      <td>0.0</td>\n",
       "      <td>0</td>\n",
       "      <td>2</td>\n",
       "      <td>16.7</td>\n",
       "    </tr>\n",
       "    <tr>\n",
       "      <th>3</th>\n",
       "      <td>34171.0</td>\n",
       "      <td>0.0</td>\n",
       "      <td>1.119308</td>\n",
       "      <td>83.719771</td>\n",
       "      <td>11716.0</td>\n",
       "      <td>0</td>\n",
       "      <td>0</td>\n",
       "      <td>208.645633</td>\n",
       "      <td>31.479199</td>\n",
       "      <td>NaN</td>\n",
       "      <td>0</td>\n",
       "      <td>21</td>\n",
       "      <td>0</td>\n",
       "      <td>0.0</td>\n",
       "      <td>0</td>\n",
       "      <td>3</td>\n",
       "      <td>10.0</td>\n",
       "    </tr>\n",
       "    <tr>\n",
       "      <th>4</th>\n",
       "      <td>47003.0</td>\n",
       "      <td>1.0</td>\n",
       "      <td>-1.300264</td>\n",
       "      <td>130.049990</td>\n",
       "      <td>9789.0</td>\n",
       "      <td>1</td>\n",
       "      <td>0</td>\n",
       "      <td>139.832042</td>\n",
       "      <td>22.443485</td>\n",
       "      <td>25.0</td>\n",
       "      <td>1</td>\n",
       "      <td>13</td>\n",
       "      <td>1</td>\n",
       "      <td>0.0</td>\n",
       "      <td>1</td>\n",
       "      <td>1</td>\n",
       "      <td>16.7</td>\n",
       "    </tr>\n",
       "  </tbody>\n",
       "</table>\n",
       "</div>"
      ],
      "text/plain": [
       "   annual_income  bankruptcies  credit_score_trf  current_credit_balance_trf  \\\n",
       "0        46643.0           0.0          0.375125                   82.231381   \n",
       "1        81099.0           0.0          0.667165                  188.960313   \n",
       "2        60438.0           1.0          0.158575                  106.183803   \n",
       "3        34171.0           0.0          1.119308                   83.719771   \n",
       "4        47003.0           1.0         -1.300264                  130.049990   \n",
       "\n",
       "   current_loan_amount  home_ownership loan_status  maximum_open_credit_trf  \\\n",
       "0              12232.0               0           0                89.140339   \n",
       "1              25014.0               1           0               279.214971   \n",
       "2              16117.0               1           0               121.716885   \n",
       "3              11716.0               0           0               208.645633   \n",
       "4               9789.0               1           0               139.832042   \n",
       "\n",
       "   monthly_debt_trf  months_since_last_delinquent  number_of_credit_problems  \\\n",
       "0         27.881714                          10.0                          0   \n",
       "1         29.867876                           NaN                          0   \n",
       "2         35.270668                          32.0                          1   \n",
       "3         31.479199                           NaN                          0   \n",
       "4         22.443485                          25.0                          1   \n",
       "\n",
       "   number_of_open_accounts  purpose  tax_liens  term  years_in_current_job  \\\n",
       "0                       12        0        0.0     0                     0   \n",
       "1                       14        0        0.0     1                     1   \n",
       "2                       11        1        0.0     0                     2   \n",
       "3                       21        0        0.0     0                     3   \n",
       "4                       13        1        0.0     1                     1   \n",
       "\n",
       "   years_of_credit_history  \n",
       "0                     18.0  \n",
       "1                     26.7  \n",
       "2                     16.7  \n",
       "3                     10.0  \n",
       "4                     16.7  "
      ]
     },
     "execution_count": 399,
     "metadata": {},
     "output_type": "execute_result"
    }
   ],
   "source": [
    "df_wrk.head()"
   ]
  },
  {
   "cell_type": "code",
   "execution_count": 400,
   "id": "green-fortune",
   "metadata": {
    "scrolled": true
   },
   "outputs": [
    {
     "name": "stdout",
     "output_type": "stream",
     "text": [
      "[SoftImpute] Max Singular Value of X_init = 24785657.485198\n",
      "[SoftImpute] Iter 1: observed MAE=157.306681 rank=2\n",
      "[SoftImpute] Iter 2: observed MAE=157.270140 rank=2\n",
      "[SoftImpute] Iter 3: observed MAE=157.283472 rank=2\n",
      "[SoftImpute] Iter 4: observed MAE=157.309000 rank=2\n",
      "[SoftImpute] Iter 5: observed MAE=157.337050 rank=2\n",
      "[SoftImpute] Iter 6: observed MAE=157.365212 rank=2\n",
      "[SoftImpute] Iter 7: observed MAE=157.392843 rank=2\n",
      "[SoftImpute] Iter 8: observed MAE=157.419765 rank=2\n",
      "[SoftImpute] Iter 9: observed MAE=157.445908 rank=2\n",
      "[SoftImpute] Iter 10: observed MAE=157.471260 rank=2\n",
      "[SoftImpute] Iter 11: observed MAE=157.495817 rank=2\n",
      "[SoftImpute] Iter 12: observed MAE=157.519600 rank=2\n",
      "[SoftImpute] Iter 13: observed MAE=157.542773 rank=2\n",
      "[SoftImpute] Iter 14: observed MAE=157.565409 rank=2\n",
      "[SoftImpute] Iter 15: observed MAE=157.587354 rank=2\n",
      "[SoftImpute] Iter 16: observed MAE=157.608624 rank=2\n",
      "[SoftImpute] Iter 17: observed MAE=157.629245 rank=2\n",
      "[SoftImpute] Iter 18: observed MAE=157.649332 rank=2\n",
      "[SoftImpute] Iter 19: observed MAE=157.668812 rank=2\n",
      "[SoftImpute] Iter 20: observed MAE=157.687692 rank=2\n",
      "[SoftImpute] Iter 21: observed MAE=157.705984 rank=2\n",
      "[SoftImpute] Iter 22: observed MAE=157.723704 rank=2\n",
      "[SoftImpute] Iter 23: observed MAE=157.740888 rank=2\n",
      "[SoftImpute] Iter 24: observed MAE=157.757547 rank=2\n",
      "[SoftImpute] Iter 25: observed MAE=157.773682 rank=2\n",
      "[SoftImpute] Iter 26: observed MAE=157.789310 rank=2\n",
      "[SoftImpute] Iter 27: observed MAE=157.804454 rank=2\n",
      "[SoftImpute] Iter 28: observed MAE=157.819127 rank=2\n",
      "[SoftImpute] Iter 29: observed MAE=157.833333 rank=2\n",
      "[SoftImpute] Iter 30: observed MAE=157.847092 rank=2\n",
      "[SoftImpute] Iter 31: observed MAE=157.860465 rank=2\n",
      "[SoftImpute] Iter 32: observed MAE=157.873496 rank=2\n",
      "[SoftImpute] Iter 33: observed MAE=157.886129 rank=2\n",
      "[SoftImpute] Iter 34: observed MAE=157.898368 rank=2\n",
      "[SoftImpute] Iter 35: observed MAE=157.910226 rank=2\n",
      "[SoftImpute] Iter 36: observed MAE=157.921727 rank=2\n",
      "[SoftImpute] Iter 37: observed MAE=157.932872 rank=2\n",
      "[SoftImpute] Iter 38: observed MAE=157.943680 rank=2\n",
      "[SoftImpute] Iter 39: observed MAE=157.954157 rank=2\n",
      "[SoftImpute] Iter 40: observed MAE=157.964317 rank=2\n",
      "[SoftImpute] Iter 41: observed MAE=157.974178 rank=2\n",
      "[SoftImpute] Iter 42: observed MAE=157.983739 rank=2\n",
      "[SoftImpute] Iter 43: observed MAE=157.993008 rank=2\n",
      "[SoftImpute] Iter 44: observed MAE=158.001994 rank=2\n",
      "[SoftImpute] Iter 45: observed MAE=158.010719 rank=2\n",
      "[SoftImpute] Iter 46: observed MAE=158.019205 rank=2\n",
      "[SoftImpute] Iter 47: observed MAE=158.027448 rank=2\n",
      "[SoftImpute] Iter 48: observed MAE=158.035441 rank=2\n",
      "[SoftImpute] Iter 49: observed MAE=158.043192 rank=2\n",
      "[SoftImpute] Iter 50: observed MAE=158.050705 rank=2\n",
      "[SoftImpute] Iter 51: observed MAE=158.057987 rank=2\n",
      "[SoftImpute] Iter 52: observed MAE=158.065052 rank=2\n",
      "[SoftImpute] Iter 53: observed MAE=158.071911 rank=2\n",
      "[SoftImpute] Iter 54: observed MAE=158.078567 rank=2\n",
      "[SoftImpute] Iter 55: observed MAE=158.085023 rank=2\n",
      "[SoftImpute] Iter 56: observed MAE=158.091285 rank=2\n",
      "[SoftImpute] Iter 57: observed MAE=158.097363 rank=2\n",
      "[SoftImpute] Iter 58: observed MAE=158.103273 rank=2\n",
      "[SoftImpute] Iter 59: observed MAE=158.109037 rank=2\n",
      "[SoftImpute] Iter 60: observed MAE=158.114715 rank=2\n",
      "[SoftImpute] Iter 61: observed MAE=158.120359 rank=2\n",
      "[SoftImpute] Iter 62: observed MAE=158.125918 rank=2\n",
      "[SoftImpute] Iter 63: observed MAE=158.131326 rank=2\n",
      "[SoftImpute] Iter 64: observed MAE=158.136576 rank=2\n",
      "[SoftImpute] Iter 65: observed MAE=158.141676 rank=2\n",
      "[SoftImpute] Iter 66: observed MAE=158.146629 rank=2\n",
      "[SoftImpute] Iter 67: observed MAE=158.151439 rank=2\n",
      "[SoftImpute] Iter 68: observed MAE=158.156111 rank=2\n",
      "[SoftImpute] Iter 69: observed MAE=158.160647 rank=2\n",
      "[SoftImpute] Iter 70: observed MAE=158.165054 rank=2\n",
      "[SoftImpute] Iter 71: observed MAE=158.169337 rank=2\n",
      "[SoftImpute] Iter 72: observed MAE=158.173500 rank=2\n",
      "[SoftImpute] Iter 73: observed MAE=158.177547 rank=2\n",
      "[SoftImpute] Iter 74: observed MAE=158.181484 rank=2\n",
      "[SoftImpute] Iter 75: observed MAE=158.185313 rank=2\n",
      "[SoftImpute] Iter 76: observed MAE=158.189037 rank=2\n",
      "[SoftImpute] Iter 77: observed MAE=158.192658 rank=2\n",
      "[SoftImpute] Iter 78: observed MAE=158.196180 rank=2\n",
      "[SoftImpute] Iter 79: observed MAE=158.199607 rank=2\n",
      "[SoftImpute] Iter 80: observed MAE=158.202941 rank=2\n",
      "[SoftImpute] Iter 81: observed MAE=158.206183 rank=2\n",
      "[SoftImpute] Iter 82: observed MAE=158.209335 rank=2\n",
      "[SoftImpute] Iter 83: observed MAE=158.212399 rank=2\n",
      "[SoftImpute] Iter 84: observed MAE=158.215378 rank=2\n",
      "[SoftImpute] Iter 85: observed MAE=158.218276 rank=2\n",
      "[SoftImpute] Iter 86: observed MAE=158.221094 rank=2\n",
      "[SoftImpute] Iter 87: observed MAE=158.223837 rank=2\n",
      "[SoftImpute] Iter 88: observed MAE=158.226506 rank=2\n",
      "[SoftImpute] Iter 89: observed MAE=158.229102 rank=2\n",
      "[SoftImpute] Iter 90: observed MAE=158.231628 rank=2\n",
      "[SoftImpute] Iter 91: observed MAE=158.234087 rank=2\n",
      "[SoftImpute] Iter 92: observed MAE=158.236479 rank=2\n",
      "[SoftImpute] Iter 93: observed MAE=158.238810 rank=2\n",
      "[SoftImpute] Iter 94: observed MAE=158.241079 rank=2\n",
      "[SoftImpute] Iter 95: observed MAE=158.243289 rank=2\n",
      "[SoftImpute] Iter 96: observed MAE=158.245440 rank=2\n",
      "[SoftImpute] Iter 97: observed MAE=158.247535 rank=2\n",
      "[SoftImpute] Iter 98: observed MAE=158.249575 rank=2\n",
      "[SoftImpute] Iter 99: observed MAE=158.251563 rank=2\n",
      "[SoftImpute] Iter 100: observed MAE=158.253500 rank=2\n",
      "[SoftImpute] Stopped after iteration 100 for lambda=495713.149704\n"
     ]
    }
   ],
   "source": [
    "#Imputing missing data with soft impute\n",
    "updated_data_sft_impt=pd.DataFrame(data=SoftImpute().fit_transform(df_wrk.drop(\"loan_status\",axis=1)), columns=df_wrk.drop(\"loan_status\",axis=1).columns, index=df_wrk.index)"
   ]
  },
  {
   "cell_type": "code",
   "execution_count": 401,
   "id": "tracked-transparency",
   "metadata": {
    "scrolled": true
   },
   "outputs": [
    {
     "data": {
      "text/html": [
       "<div>\n",
       "<style scoped>\n",
       "    .dataframe tbody tr th:only-of-type {\n",
       "        vertical-align: middle;\n",
       "    }\n",
       "\n",
       "    .dataframe tbody tr th {\n",
       "        vertical-align: top;\n",
       "    }\n",
       "\n",
       "    .dataframe thead th {\n",
       "        text-align: right;\n",
       "    }\n",
       "</style>\n",
       "<table border=\"1\" class=\"dataframe\">\n",
       "  <thead>\n",
       "    <tr style=\"text-align: right;\">\n",
       "      <th></th>\n",
       "      <th>annual_income</th>\n",
       "      <th>bankruptcies</th>\n",
       "      <th>credit_score_trf</th>\n",
       "      <th>current_credit_balance_trf</th>\n",
       "      <th>current_loan_amount</th>\n",
       "      <th>home_ownership</th>\n",
       "      <th>maximum_open_credit_trf</th>\n",
       "      <th>monthly_debt_trf</th>\n",
       "      <th>months_since_last_delinquent</th>\n",
       "      <th>number_of_credit_problems</th>\n",
       "      <th>number_of_open_accounts</th>\n",
       "      <th>purpose</th>\n",
       "      <th>tax_liens</th>\n",
       "      <th>term</th>\n",
       "      <th>years_in_current_job</th>\n",
       "      <th>years_of_credit_history</th>\n",
       "    </tr>\n",
       "  </thead>\n",
       "  <tbody>\n",
       "    <tr>\n",
       "      <th>0</th>\n",
       "      <td>46643.0</td>\n",
       "      <td>0.0</td>\n",
       "      <td>0.375125</td>\n",
       "      <td>82.231381</td>\n",
       "      <td>12232.0</td>\n",
       "      <td>0.0</td>\n",
       "      <td>89.140339</td>\n",
       "      <td>27.881714</td>\n",
       "      <td>10.000000</td>\n",
       "      <td>0.0</td>\n",
       "      <td>12.0</td>\n",
       "      <td>0.0</td>\n",
       "      <td>0.0</td>\n",
       "      <td>0.0</td>\n",
       "      <td>0.0</td>\n",
       "      <td>18.0</td>\n",
       "    </tr>\n",
       "    <tr>\n",
       "      <th>1</th>\n",
       "      <td>81099.0</td>\n",
       "      <td>0.0</td>\n",
       "      <td>0.667165</td>\n",
       "      <td>188.960313</td>\n",
       "      <td>25014.0</td>\n",
       "      <td>1.0</td>\n",
       "      <td>279.214971</td>\n",
       "      <td>29.867876</td>\n",
       "      <td>39.024730</td>\n",
       "      <td>0.0</td>\n",
       "      <td>14.0</td>\n",
       "      <td>0.0</td>\n",
       "      <td>0.0</td>\n",
       "      <td>1.0</td>\n",
       "      <td>1.0</td>\n",
       "      <td>26.7</td>\n",
       "    </tr>\n",
       "    <tr>\n",
       "      <th>2</th>\n",
       "      <td>60438.0</td>\n",
       "      <td>1.0</td>\n",
       "      <td>0.158575</td>\n",
       "      <td>106.183803</td>\n",
       "      <td>16117.0</td>\n",
       "      <td>1.0</td>\n",
       "      <td>121.716885</td>\n",
       "      <td>35.270668</td>\n",
       "      <td>32.000000</td>\n",
       "      <td>1.0</td>\n",
       "      <td>11.0</td>\n",
       "      <td>1.0</td>\n",
       "      <td>0.0</td>\n",
       "      <td>0.0</td>\n",
       "      <td>2.0</td>\n",
       "      <td>16.7</td>\n",
       "    </tr>\n",
       "    <tr>\n",
       "      <th>3</th>\n",
       "      <td>34171.0</td>\n",
       "      <td>0.0</td>\n",
       "      <td>1.119308</td>\n",
       "      <td>83.719771</td>\n",
       "      <td>11716.0</td>\n",
       "      <td>0.0</td>\n",
       "      <td>208.645633</td>\n",
       "      <td>31.479199</td>\n",
       "      <td>17.575415</td>\n",
       "      <td>0.0</td>\n",
       "      <td>21.0</td>\n",
       "      <td>0.0</td>\n",
       "      <td>0.0</td>\n",
       "      <td>0.0</td>\n",
       "      <td>3.0</td>\n",
       "      <td>10.0</td>\n",
       "    </tr>\n",
       "    <tr>\n",
       "      <th>4</th>\n",
       "      <td>47003.0</td>\n",
       "      <td>1.0</td>\n",
       "      <td>-1.300264</td>\n",
       "      <td>130.049990</td>\n",
       "      <td>9789.0</td>\n",
       "      <td>1.0</td>\n",
       "      <td>139.832042</td>\n",
       "      <td>22.443485</td>\n",
       "      <td>25.000000</td>\n",
       "      <td>1.0</td>\n",
       "      <td>13.0</td>\n",
       "      <td>1.0</td>\n",
       "      <td>0.0</td>\n",
       "      <td>1.0</td>\n",
       "      <td>1.0</td>\n",
       "      <td>16.7</td>\n",
       "    </tr>\n",
       "  </tbody>\n",
       "</table>\n",
       "</div>"
      ],
      "text/plain": [
       "   annual_income  bankruptcies  credit_score_trf  current_credit_balance_trf  \\\n",
       "0        46643.0           0.0          0.375125                   82.231381   \n",
       "1        81099.0           0.0          0.667165                  188.960313   \n",
       "2        60438.0           1.0          0.158575                  106.183803   \n",
       "3        34171.0           0.0          1.119308                   83.719771   \n",
       "4        47003.0           1.0         -1.300264                  130.049990   \n",
       "\n",
       "   current_loan_amount  home_ownership  maximum_open_credit_trf  \\\n",
       "0              12232.0             0.0                89.140339   \n",
       "1              25014.0             1.0               279.214971   \n",
       "2              16117.0             1.0               121.716885   \n",
       "3              11716.0             0.0               208.645633   \n",
       "4               9789.0             1.0               139.832042   \n",
       "\n",
       "   monthly_debt_trf  months_since_last_delinquent  number_of_credit_problems  \\\n",
       "0         27.881714                     10.000000                        0.0   \n",
       "1         29.867876                     39.024730                        0.0   \n",
       "2         35.270668                     32.000000                        1.0   \n",
       "3         31.479199                     17.575415                        0.0   \n",
       "4         22.443485                     25.000000                        1.0   \n",
       "\n",
       "   number_of_open_accounts  purpose  tax_liens  term  years_in_current_job  \\\n",
       "0                     12.0      0.0        0.0   0.0                   0.0   \n",
       "1                     14.0      0.0        0.0   1.0                   1.0   \n",
       "2                     11.0      1.0        0.0   0.0                   2.0   \n",
       "3                     21.0      0.0        0.0   0.0                   3.0   \n",
       "4                     13.0      1.0        0.0   1.0                   1.0   \n",
       "\n",
       "   years_of_credit_history  \n",
       "0                     18.0  \n",
       "1                     26.7  \n",
       "2                     16.7  \n",
       "3                     10.0  \n",
       "4                     16.7  "
      ]
     },
     "execution_count": 401,
     "metadata": {},
     "output_type": "execute_result"
    }
   ],
   "source": [
    "updated_data_sft_impt.head()"
   ]
  },
  {
   "cell_type": "code",
   "execution_count": 402,
   "id": "advisory-funds",
   "metadata": {},
   "outputs": [],
   "source": [
    "data_concat=pd.concat([updated_data_sft_impt,df_wrk.loan_status], axis=1)"
   ]
  },
  {
   "cell_type": "code",
   "execution_count": 403,
   "id": "unknown-alpha",
   "metadata": {},
   "outputs": [
    {
     "data": {
      "text/html": [
       "<div>\n",
       "<style scoped>\n",
       "    .dataframe tbody tr th:only-of-type {\n",
       "        vertical-align: middle;\n",
       "    }\n",
       "\n",
       "    .dataframe tbody tr th {\n",
       "        vertical-align: top;\n",
       "    }\n",
       "\n",
       "    .dataframe thead th {\n",
       "        text-align: right;\n",
       "    }\n",
       "</style>\n",
       "<table border=\"1\" class=\"dataframe\">\n",
       "  <thead>\n",
       "    <tr style=\"text-align: right;\">\n",
       "      <th></th>\n",
       "      <th>annual_income</th>\n",
       "      <th>bankruptcies</th>\n",
       "      <th>credit_score_trf</th>\n",
       "      <th>current_credit_balance_trf</th>\n",
       "      <th>current_loan_amount</th>\n",
       "      <th>home_ownership</th>\n",
       "      <th>maximum_open_credit_trf</th>\n",
       "      <th>monthly_debt_trf</th>\n",
       "      <th>months_since_last_delinquent</th>\n",
       "      <th>number_of_credit_problems</th>\n",
       "      <th>number_of_open_accounts</th>\n",
       "      <th>purpose</th>\n",
       "      <th>tax_liens</th>\n",
       "      <th>term</th>\n",
       "      <th>years_in_current_job</th>\n",
       "      <th>years_of_credit_history</th>\n",
       "      <th>loan_status</th>\n",
       "    </tr>\n",
       "  </thead>\n",
       "  <tbody>\n",
       "    <tr>\n",
       "      <th>0</th>\n",
       "      <td>46643.0</td>\n",
       "      <td>0.0</td>\n",
       "      <td>0.375125</td>\n",
       "      <td>82.231381</td>\n",
       "      <td>12232.0</td>\n",
       "      <td>0.0</td>\n",
       "      <td>89.140339</td>\n",
       "      <td>27.881714</td>\n",
       "      <td>10.000000</td>\n",
       "      <td>0.0</td>\n",
       "      <td>12.0</td>\n",
       "      <td>0.0</td>\n",
       "      <td>0.0</td>\n",
       "      <td>0.0</td>\n",
       "      <td>0.0</td>\n",
       "      <td>18.0</td>\n",
       "      <td>0</td>\n",
       "    </tr>\n",
       "    <tr>\n",
       "      <th>1</th>\n",
       "      <td>81099.0</td>\n",
       "      <td>0.0</td>\n",
       "      <td>0.667165</td>\n",
       "      <td>188.960313</td>\n",
       "      <td>25014.0</td>\n",
       "      <td>1.0</td>\n",
       "      <td>279.214971</td>\n",
       "      <td>29.867876</td>\n",
       "      <td>39.024730</td>\n",
       "      <td>0.0</td>\n",
       "      <td>14.0</td>\n",
       "      <td>0.0</td>\n",
       "      <td>0.0</td>\n",
       "      <td>1.0</td>\n",
       "      <td>1.0</td>\n",
       "      <td>26.7</td>\n",
       "      <td>0</td>\n",
       "    </tr>\n",
       "    <tr>\n",
       "      <th>2</th>\n",
       "      <td>60438.0</td>\n",
       "      <td>1.0</td>\n",
       "      <td>0.158575</td>\n",
       "      <td>106.183803</td>\n",
       "      <td>16117.0</td>\n",
       "      <td>1.0</td>\n",
       "      <td>121.716885</td>\n",
       "      <td>35.270668</td>\n",
       "      <td>32.000000</td>\n",
       "      <td>1.0</td>\n",
       "      <td>11.0</td>\n",
       "      <td>1.0</td>\n",
       "      <td>0.0</td>\n",
       "      <td>0.0</td>\n",
       "      <td>2.0</td>\n",
       "      <td>16.7</td>\n",
       "      <td>0</td>\n",
       "    </tr>\n",
       "    <tr>\n",
       "      <th>3</th>\n",
       "      <td>34171.0</td>\n",
       "      <td>0.0</td>\n",
       "      <td>1.119308</td>\n",
       "      <td>83.719771</td>\n",
       "      <td>11716.0</td>\n",
       "      <td>0.0</td>\n",
       "      <td>208.645633</td>\n",
       "      <td>31.479199</td>\n",
       "      <td>17.575415</td>\n",
       "      <td>0.0</td>\n",
       "      <td>21.0</td>\n",
       "      <td>0.0</td>\n",
       "      <td>0.0</td>\n",
       "      <td>0.0</td>\n",
       "      <td>3.0</td>\n",
       "      <td>10.0</td>\n",
       "      <td>0</td>\n",
       "    </tr>\n",
       "    <tr>\n",
       "      <th>4</th>\n",
       "      <td>47003.0</td>\n",
       "      <td>1.0</td>\n",
       "      <td>-1.300264</td>\n",
       "      <td>130.049990</td>\n",
       "      <td>9789.0</td>\n",
       "      <td>1.0</td>\n",
       "      <td>139.832042</td>\n",
       "      <td>22.443485</td>\n",
       "      <td>25.000000</td>\n",
       "      <td>1.0</td>\n",
       "      <td>13.0</td>\n",
       "      <td>1.0</td>\n",
       "      <td>0.0</td>\n",
       "      <td>1.0</td>\n",
       "      <td>1.0</td>\n",
       "      <td>16.7</td>\n",
       "      <td>0</td>\n",
       "    </tr>\n",
       "  </tbody>\n",
       "</table>\n",
       "</div>"
      ],
      "text/plain": [
       "   annual_income  bankruptcies  credit_score_trf  current_credit_balance_trf  \\\n",
       "0        46643.0           0.0          0.375125                   82.231381   \n",
       "1        81099.0           0.0          0.667165                  188.960313   \n",
       "2        60438.0           1.0          0.158575                  106.183803   \n",
       "3        34171.0           0.0          1.119308                   83.719771   \n",
       "4        47003.0           1.0         -1.300264                  130.049990   \n",
       "\n",
       "   current_loan_amount  home_ownership  maximum_open_credit_trf  \\\n",
       "0              12232.0             0.0                89.140339   \n",
       "1              25014.0             1.0               279.214971   \n",
       "2              16117.0             1.0               121.716885   \n",
       "3              11716.0             0.0               208.645633   \n",
       "4               9789.0             1.0               139.832042   \n",
       "\n",
       "   monthly_debt_trf  months_since_last_delinquent  number_of_credit_problems  \\\n",
       "0         27.881714                     10.000000                        0.0   \n",
       "1         29.867876                     39.024730                        0.0   \n",
       "2         35.270668                     32.000000                        1.0   \n",
       "3         31.479199                     17.575415                        0.0   \n",
       "4         22.443485                     25.000000                        1.0   \n",
       "\n",
       "   number_of_open_accounts  purpose  tax_liens  term  years_in_current_job  \\\n",
       "0                     12.0      0.0        0.0   0.0                   0.0   \n",
       "1                     14.0      0.0        0.0   1.0                   1.0   \n",
       "2                     11.0      1.0        0.0   0.0                   2.0   \n",
       "3                     21.0      0.0        0.0   0.0                   3.0   \n",
       "4                     13.0      1.0        0.0   1.0                   1.0   \n",
       "\n",
       "   years_of_credit_history loan_status  \n",
       "0                     18.0           0  \n",
       "1                     26.7           0  \n",
       "2                     16.7           0  \n",
       "3                     10.0           0  \n",
       "4                     16.7           0  "
      ]
     },
     "execution_count": 403,
     "metadata": {},
     "output_type": "execute_result"
    }
   ],
   "source": [
    "data_concat.head()"
   ]
  },
  {
   "cell_type": "code",
   "execution_count": 404,
   "id": "pretty-reproduction",
   "metadata": {
    "scrolled": false
   },
   "outputs": [
    {
     "data": {
      "text/html": [
       "<div>\n",
       "<style scoped>\n",
       "    .dataframe tbody tr th:only-of-type {\n",
       "        vertical-align: middle;\n",
       "    }\n",
       "\n",
       "    .dataframe tbody tr th {\n",
       "        vertical-align: top;\n",
       "    }\n",
       "\n",
       "    .dataframe thead th {\n",
       "        text-align: right;\n",
       "    }\n",
       "</style>\n",
       "<table border=\"1\" class=\"dataframe\">\n",
       "  <thead>\n",
       "    <tr style=\"text-align: right;\">\n",
       "      <th></th>\n",
       "      <th>Null</th>\n",
       "      <th>dtype</th>\n",
       "      <th>unique</th>\n",
       "      <th>pct_Null</th>\n",
       "      <th>1_p_NL</th>\n",
       "      <th>0_p_NL</th>\n",
       "    </tr>\n",
       "    <tr>\n",
       "      <th>index</th>\n",
       "      <th></th>\n",
       "      <th></th>\n",
       "      <th></th>\n",
       "      <th></th>\n",
       "      <th></th>\n",
       "      <th></th>\n",
       "    </tr>\n",
       "  </thead>\n",
       "  <tbody>\n",
       "    <tr>\n",
       "      <th>annual_income</th>\n",
       "      <td>0</td>\n",
       "      <td>float64</td>\n",
       "      <td>58622</td>\n",
       "      <td>0.0%</td>\n",
       "      <td>0 - 0.0%</td>\n",
       "      <td>0 - 0.0%</td>\n",
       "    </tr>\n",
       "    <tr>\n",
       "      <th>bankruptcies</th>\n",
       "      <td>0</td>\n",
       "      <td>float64</td>\n",
       "      <td>208</td>\n",
       "      <td>0.0%</td>\n",
       "      <td>0 - 0.0%</td>\n",
       "      <td>0 - 0.0%</td>\n",
       "    </tr>\n",
       "    <tr>\n",
       "      <th>credit_score_trf</th>\n",
       "      <td>0</td>\n",
       "      <td>float64</td>\n",
       "      <td>168</td>\n",
       "      <td>0.0%</td>\n",
       "      <td>0 - 0.0%</td>\n",
       "      <td>0 - 0.0%</td>\n",
       "    </tr>\n",
       "    <tr>\n",
       "      <th>current_credit_balance_trf</th>\n",
       "      <td>0</td>\n",
       "      <td>float64</td>\n",
       "      <td>32845</td>\n",
       "      <td>0.0%</td>\n",
       "      <td>0 - 0.0%</td>\n",
       "      <td>0 - 0.0%</td>\n",
       "    </tr>\n",
       "    <tr>\n",
       "      <th>current_loan_amount</th>\n",
       "      <td>0</td>\n",
       "      <td>float64</td>\n",
       "      <td>22539</td>\n",
       "      <td>0.0%</td>\n",
       "      <td>0 - 0.0%</td>\n",
       "      <td>0 - 0.0%</td>\n",
       "    </tr>\n",
       "    <tr>\n",
       "      <th>home_ownership</th>\n",
       "      <td>0</td>\n",
       "      <td>float64</td>\n",
       "      <td>3</td>\n",
       "      <td>0.0%</td>\n",
       "      <td>0 - 0.0%</td>\n",
       "      <td>0 - 0.0%</td>\n",
       "    </tr>\n",
       "    <tr>\n",
       "      <th>maximum_open_credit_trf</th>\n",
       "      <td>0</td>\n",
       "      <td>float64</td>\n",
       "      <td>45682</td>\n",
       "      <td>0.0%</td>\n",
       "      <td>0 - 0.0%</td>\n",
       "      <td>0 - 0.0%</td>\n",
       "    </tr>\n",
       "    <tr>\n",
       "      <th>monthly_debt_trf</th>\n",
       "      <td>0</td>\n",
       "      <td>float64</td>\n",
       "      <td>69977</td>\n",
       "      <td>0.0%</td>\n",
       "      <td>0 - 0.0%</td>\n",
       "      <td>0 - 0.0%</td>\n",
       "    </tr>\n",
       "    <tr>\n",
       "      <th>months_since_last_delinquent</th>\n",
       "      <td>0</td>\n",
       "      <td>float64</td>\n",
       "      <td>53219</td>\n",
       "      <td>0.0%</td>\n",
       "      <td>0 - 0.0%</td>\n",
       "      <td>0 - 0.0%</td>\n",
       "    </tr>\n",
       "    <tr>\n",
       "      <th>number_of_credit_problems</th>\n",
       "      <td>0</td>\n",
       "      <td>float64</td>\n",
       "      <td>14</td>\n",
       "      <td>0.0%</td>\n",
       "      <td>0 - 0.0%</td>\n",
       "      <td>0 - 0.0%</td>\n",
       "    </tr>\n",
       "    <tr>\n",
       "      <th>number_of_open_accounts</th>\n",
       "      <td>0</td>\n",
       "      <td>float64</td>\n",
       "      <td>37</td>\n",
       "      <td>0.0%</td>\n",
       "      <td>0 - 0.0%</td>\n",
       "      <td>0 - 0.0%</td>\n",
       "    </tr>\n",
       "    <tr>\n",
       "      <th>purpose</th>\n",
       "      <td>0</td>\n",
       "      <td>float64</td>\n",
       "      <td>15</td>\n",
       "      <td>0.0%</td>\n",
       "      <td>0 - 0.0%</td>\n",
       "      <td>0 - 0.0%</td>\n",
       "    </tr>\n",
       "    <tr>\n",
       "      <th>tax_liens</th>\n",
       "      <td>0</td>\n",
       "      <td>float64</td>\n",
       "      <td>13</td>\n",
       "      <td>0.0%</td>\n",
       "      <td>0 - 0.0%</td>\n",
       "      <td>0 - 0.0%</td>\n",
       "    </tr>\n",
       "    <tr>\n",
       "      <th>term</th>\n",
       "      <td>0</td>\n",
       "      <td>float64</td>\n",
       "      <td>2</td>\n",
       "      <td>0.0%</td>\n",
       "      <td>0 - 0.0%</td>\n",
       "      <td>0 - 0.0%</td>\n",
       "    </tr>\n",
       "    <tr>\n",
       "      <th>years_in_current_job</th>\n",
       "      <td>0</td>\n",
       "      <td>float64</td>\n",
       "      <td>12</td>\n",
       "      <td>0.0%</td>\n",
       "      <td>0 - 0.0%</td>\n",
       "      <td>0 - 0.0%</td>\n",
       "    </tr>\n",
       "    <tr>\n",
       "      <th>years_of_credit_history</th>\n",
       "      <td>0</td>\n",
       "      <td>float64</td>\n",
       "      <td>508</td>\n",
       "      <td>0.0%</td>\n",
       "      <td>0 - 0.0%</td>\n",
       "      <td>0 - 0.0%</td>\n",
       "    </tr>\n",
       "    <tr>\n",
       "      <th>loan_status</th>\n",
       "      <td>0</td>\n",
       "      <td>object</td>\n",
       "      <td>2</td>\n",
       "      <td>0.0%</td>\n",
       "      <td>0 - 0.0%</td>\n",
       "      <td>0 - 0.0%</td>\n",
       "    </tr>\n",
       "  </tbody>\n",
       "</table>\n",
       "</div>"
      ],
      "text/plain": [
       "                              Null    dtype  unique pct_Null    1_p_NL  \\\n",
       "index                                                                    \n",
       "annual_income                    0  float64   58622     0.0%  0 - 0.0%   \n",
       "bankruptcies                     0  float64     208     0.0%  0 - 0.0%   \n",
       "credit_score_trf                 0  float64     168     0.0%  0 - 0.0%   \n",
       "current_credit_balance_trf       0  float64   32845     0.0%  0 - 0.0%   \n",
       "current_loan_amount              0  float64   22539     0.0%  0 - 0.0%   \n",
       "home_ownership                   0  float64       3     0.0%  0 - 0.0%   \n",
       "maximum_open_credit_trf          0  float64   45682     0.0%  0 - 0.0%   \n",
       "monthly_debt_trf                 0  float64   69977     0.0%  0 - 0.0%   \n",
       "months_since_last_delinquent     0  float64   53219     0.0%  0 - 0.0%   \n",
       "number_of_credit_problems        0  float64      14     0.0%  0 - 0.0%   \n",
       "number_of_open_accounts          0  float64      37     0.0%  0 - 0.0%   \n",
       "purpose                          0  float64      15     0.0%  0 - 0.0%   \n",
       "tax_liens                        0  float64      13     0.0%  0 - 0.0%   \n",
       "term                             0  float64       2     0.0%  0 - 0.0%   \n",
       "years_in_current_job             0  float64      12     0.0%  0 - 0.0%   \n",
       "years_of_credit_history          0  float64     508     0.0%  0 - 0.0%   \n",
       "loan_status                      0   object       2     0.0%  0 - 0.0%   \n",
       "\n",
       "                                0_p_NL  \n",
       "index                                   \n",
       "annual_income                 0 - 0.0%  \n",
       "bankruptcies                  0 - 0.0%  \n",
       "credit_score_trf              0 - 0.0%  \n",
       "current_credit_balance_trf    0 - 0.0%  \n",
       "current_loan_amount           0 - 0.0%  \n",
       "home_ownership                0 - 0.0%  \n",
       "maximum_open_credit_trf       0 - 0.0%  \n",
       "monthly_debt_trf              0 - 0.0%  \n",
       "months_since_last_delinquent  0 - 0.0%  \n",
       "number_of_credit_problems     0 - 0.0%  \n",
       "number_of_open_accounts       0 - 0.0%  \n",
       "purpose                       0 - 0.0%  \n",
       "tax_liens                     0 - 0.0%  \n",
       "term                          0 - 0.0%  \n",
       "years_in_current_job          0 - 0.0%  \n",
       "years_of_credit_history       0 - 0.0%  \n",
       "loan_status                   0 - 0.0%  "
      ]
     },
     "execution_count": 404,
     "metadata": {},
     "output_type": "execute_result"
    }
   ],
   "source": [
    "summary=df_summary(data_concat,\"loan_status\")\n",
    "summary.get_summary()"
   ]
  },
  {
   "cell_type": "markdown",
   "id": "japanese-bridge",
   "metadata": {},
   "source": [
    "* No Null Values"
   ]
  },
  {
   "cell_type": "code",
   "execution_count": 412,
   "id": "immune-convert",
   "metadata": {},
   "outputs": [],
   "source": [
    "ann_inc_na_lst=df_wrk[df_wrk.annual_income.isna()].index.to_list()\n",
    "bankrupt_na_lst=df_wrk[df_wrk.bankruptcies.isna()].index.to_list()\n",
    "months_since_last_delinquent_na_lst=df_wrk[df_wrk.months_since_last_delinquent.isna()].index.to_list()"
   ]
  },
  {
   "cell_type": "code",
   "execution_count": 414,
   "id": "assured-williams",
   "metadata": {
    "scrolled": true
   },
   "outputs": [
    {
     "data": {
      "text/plain": [
       "array([31002.54973419, 22020.95308702, 33252.50846354, ...,\n",
       "        9238.75550651,  7840.2944262 ,  9244.85693439])"
      ]
     },
     "execution_count": 414,
     "metadata": {},
     "output_type": "execute_result"
    }
   ],
   "source": [
    "data_concat.loc[ann_inc_na_lst].annual_income.values"
   ]
  },
  {
   "cell_type": "code",
   "execution_count": 415,
   "id": "postal-marina",
   "metadata": {},
   "outputs": [
    {
     "data": {
      "text/plain": [
       "array([31002.54973419, 22020.95308702, 33252.50846354, ...,\n",
       "        9238.75550651,  7840.2944262 ,  9244.85693439])"
      ]
     },
     "execution_count": 415,
     "metadata": {},
     "output_type": "execute_result"
    }
   ],
   "source": [
    "updated_data_sft_impt.loc[ann_inc_na_lst].annual_income.values"
   ]
  },
  {
   "cell_type": "code",
   "execution_count": 410,
   "id": "laughing-peeing",
   "metadata": {},
   "outputs": [],
   "source": [
    "#Imputing missing data with soft impute\n",
    "updated_data_iter_impt=pd.DataFrame(data=IterativeImputer(random_state=0).fit_transform(df_wrk.drop(\"loan_status\",axis=1)), columns=df_wrk.drop(\"loan_status\",axis=1).columns, index=df_wrk.index)"
   ]
  },
  {
   "cell_type": "code",
   "execution_count": 411,
   "id": "gorgeous-debate",
   "metadata": {},
   "outputs": [
    {
     "data": {
      "text/plain": [
       "annual_income                   0\n",
       "bankruptcies                    0\n",
       "credit_score_trf                0\n",
       "current_credit_balance_trf      0\n",
       "current_loan_amount             0\n",
       "home_ownership                  0\n",
       "maximum_open_credit_trf         0\n",
       "monthly_debt_trf                0\n",
       "months_since_last_delinquent    0\n",
       "number_of_credit_problems       0\n",
       "number_of_open_accounts         0\n",
       "purpose                         0\n",
       "tax_liens                       0\n",
       "term                            0\n",
       "years_in_current_job            0\n",
       "years_of_credit_history         0\n",
       "dtype: int64"
      ]
     },
     "execution_count": 411,
     "metadata": {},
     "output_type": "execute_result"
    }
   ],
   "source": [
    "updated_data_iter_impt.isnull().sum()"
   ]
  },
  {
   "cell_type": "code",
   "execution_count": 416,
   "id": "celtic-board",
   "metadata": {},
   "outputs": [
    {
     "data": {
      "text/html": [
       "<div>\n",
       "<style scoped>\n",
       "    .dataframe tbody tr th:only-of-type {\n",
       "        vertical-align: middle;\n",
       "    }\n",
       "\n",
       "    .dataframe tbody tr th {\n",
       "        vertical-align: top;\n",
       "    }\n",
       "\n",
       "    .dataframe thead th {\n",
       "        text-align: right;\n",
       "    }\n",
       "</style>\n",
       "<table border=\"1\" class=\"dataframe\">\n",
       "  <thead>\n",
       "    <tr style=\"text-align: right;\">\n",
       "      <th></th>\n",
       "      <th>ann_inc_sft_imp</th>\n",
       "      <th>ann_inc_iter_imp</th>\n",
       "    </tr>\n",
       "  </thead>\n",
       "  <tbody>\n",
       "    <tr>\n",
       "      <th>0</th>\n",
       "      <td>31002.549734</td>\n",
       "      <td>111846.379839</td>\n",
       "    </tr>\n",
       "    <tr>\n",
       "      <th>1</th>\n",
       "      <td>22020.953087</td>\n",
       "      <td>38154.999924</td>\n",
       "    </tr>\n",
       "    <tr>\n",
       "      <th>2</th>\n",
       "      <td>33252.508464</td>\n",
       "      <td>106389.710454</td>\n",
       "    </tr>\n",
       "    <tr>\n",
       "      <th>3</th>\n",
       "      <td>7548.222490</td>\n",
       "      <td>45176.693993</td>\n",
       "    </tr>\n",
       "    <tr>\n",
       "      <th>4</th>\n",
       "      <td>10242.228873</td>\n",
       "      <td>69400.560979</td>\n",
       "    </tr>\n",
       "    <tr>\n",
       "      <th>...</th>\n",
       "      <td>...</td>\n",
       "      <td>...</td>\n",
       "    </tr>\n",
       "    <tr>\n",
       "      <th>21329</th>\n",
       "      <td>12761.752984</td>\n",
       "      <td>43486.034055</td>\n",
       "    </tr>\n",
       "    <tr>\n",
       "      <th>21330</th>\n",
       "      <td>2439.082156</td>\n",
       "      <td>45909.210648</td>\n",
       "    </tr>\n",
       "    <tr>\n",
       "      <th>21331</th>\n",
       "      <td>9238.755507</td>\n",
       "      <td>65831.503495</td>\n",
       "    </tr>\n",
       "    <tr>\n",
       "      <th>21332</th>\n",
       "      <td>7840.294426</td>\n",
       "      <td>59536.672824</td>\n",
       "    </tr>\n",
       "    <tr>\n",
       "      <th>21333</th>\n",
       "      <td>9244.856934</td>\n",
       "      <td>37611.406135</td>\n",
       "    </tr>\n",
       "  </tbody>\n",
       "</table>\n",
       "<p>21334 rows × 2 columns</p>\n",
       "</div>"
      ],
      "text/plain": [
       "       ann_inc_sft_imp  ann_inc_iter_imp\n",
       "0         31002.549734     111846.379839\n",
       "1         22020.953087      38154.999924\n",
       "2         33252.508464     106389.710454\n",
       "3          7548.222490      45176.693993\n",
       "4         10242.228873      69400.560979\n",
       "...                ...               ...\n",
       "21329     12761.752984      43486.034055\n",
       "21330      2439.082156      45909.210648\n",
       "21331      9238.755507      65831.503495\n",
       "21332      7840.294426      59536.672824\n",
       "21333      9244.856934      37611.406135\n",
       "\n",
       "[21334 rows x 2 columns]"
      ]
     },
     "execution_count": 416,
     "metadata": {},
     "output_type": "execute_result"
    }
   ],
   "source": [
    "ann_inc_dict={}\n",
    "#Annual Income\n",
    "ann_inc_dict[\"ann_inc_sft_imp\"]=updated_data_sft_impt.loc[ann_inc_na_lst].annual_income.values\n",
    "ann_inc_dict[\"ann_inc_iter_imp\"]=updated_data_iter_impt.loc[ann_inc_na_lst].annual_income.values\n",
    "\n",
    "\n",
    "pd.DataFrame(ann_inc_dict)"
   ]
  },
  {
   "cell_type": "code",
   "execution_count": 418,
   "id": "adjacent-notebook",
   "metadata": {},
   "outputs": [
    {
     "data": {
      "text/html": [
       "<div>\n",
       "<style scoped>\n",
       "    .dataframe tbody tr th:only-of-type {\n",
       "        vertical-align: middle;\n",
       "    }\n",
       "\n",
       "    .dataframe tbody tr th {\n",
       "        vertical-align: top;\n",
       "    }\n",
       "\n",
       "    .dataframe thead th {\n",
       "        text-align: right;\n",
       "    }\n",
       "</style>\n",
       "<table border=\"1\" class=\"dataframe\">\n",
       "  <thead>\n",
       "    <tr style=\"text-align: right;\">\n",
       "      <th></th>\n",
       "      <th>bankrupt_sft_imp</th>\n",
       "      <th>bankrupt_iter_imp</th>\n",
       "    </tr>\n",
       "  </thead>\n",
       "  <tbody>\n",
       "    <tr>\n",
       "      <th>0</th>\n",
       "      <td>0.050148</td>\n",
       "      <td>0.029798</td>\n",
       "    </tr>\n",
       "    <tr>\n",
       "      <th>1</th>\n",
       "      <td>0.084828</td>\n",
       "      <td>-0.016195</td>\n",
       "    </tr>\n",
       "    <tr>\n",
       "      <th>2</th>\n",
       "      <td>0.096196</td>\n",
       "      <td>0.782774</td>\n",
       "    </tr>\n",
       "    <tr>\n",
       "      <th>3</th>\n",
       "      <td>0.018812</td>\n",
       "      <td>-0.014073</td>\n",
       "    </tr>\n",
       "    <tr>\n",
       "      <th>4</th>\n",
       "      <td>0.089018</td>\n",
       "      <td>-0.007148</td>\n",
       "    </tr>\n",
       "    <tr>\n",
       "      <th>...</th>\n",
       "      <td>...</td>\n",
       "      <td>...</td>\n",
       "    </tr>\n",
       "    <tr>\n",
       "      <th>212</th>\n",
       "      <td>0.112081</td>\n",
       "      <td>0.002973</td>\n",
       "    </tr>\n",
       "    <tr>\n",
       "      <th>213</th>\n",
       "      <td>0.058724</td>\n",
       "      <td>0.020322</td>\n",
       "    </tr>\n",
       "    <tr>\n",
       "      <th>214</th>\n",
       "      <td>0.077289</td>\n",
       "      <td>-0.015192</td>\n",
       "    </tr>\n",
       "    <tr>\n",
       "      <th>215</th>\n",
       "      <td>0.049113</td>\n",
       "      <td>0.011540</td>\n",
       "    </tr>\n",
       "    <tr>\n",
       "      <th>216</th>\n",
       "      <td>0.186979</td>\n",
       "      <td>-0.015448</td>\n",
       "    </tr>\n",
       "  </tbody>\n",
       "</table>\n",
       "<p>217 rows × 2 columns</p>\n",
       "</div>"
      ],
      "text/plain": [
       "     bankrupt_sft_imp  bankrupt_iter_imp\n",
       "0            0.050148           0.029798\n",
       "1            0.084828          -0.016195\n",
       "2            0.096196           0.782774\n",
       "3            0.018812          -0.014073\n",
       "4            0.089018          -0.007148\n",
       "..                ...                ...\n",
       "212          0.112081           0.002973\n",
       "213          0.058724           0.020322\n",
       "214          0.077289          -0.015192\n",
       "215          0.049113           0.011540\n",
       "216          0.186979          -0.015448\n",
       "\n",
       "[217 rows x 2 columns]"
      ]
     },
     "execution_count": 418,
     "metadata": {},
     "output_type": "execute_result"
    }
   ],
   "source": [
    "bankrupt_dict={}\n",
    "#Bankruptcies\n",
    "bankrupt_dict[\"bankrupt_sft_imp\"]=updated_data_sft_impt.loc[bankrupt_na_lst].bankruptcies.values\n",
    "bankrupt_dict[\"bankrupt_iter_imp\"]=updated_data_iter_impt.loc[bankrupt_na_lst].bankruptcies.values\n",
    "\n",
    "pd.DataFrame(bankrupt_dict)"
   ]
  },
  {
   "cell_type": "code",
   "execution_count": 420,
   "id": "fifty-opera",
   "metadata": {},
   "outputs": [
    {
     "data": {
      "text/html": [
       "<div>\n",
       "<style scoped>\n",
       "    .dataframe tbody tr th:only-of-type {\n",
       "        vertical-align: middle;\n",
       "    }\n",
       "\n",
       "    .dataframe tbody tr th {\n",
       "        vertical-align: top;\n",
       "    }\n",
       "\n",
       "    .dataframe thead th {\n",
       "        text-align: right;\n",
       "    }\n",
       "</style>\n",
       "<table border=\"1\" class=\"dataframe\">\n",
       "  <thead>\n",
       "    <tr style=\"text-align: right;\">\n",
       "      <th></th>\n",
       "      <th>delinquent_sft_imp</th>\n",
       "      <th>delinquent_iter_imp</th>\n",
       "    </tr>\n",
       "  </thead>\n",
       "  <tbody>\n",
       "    <tr>\n",
       "      <th>0</th>\n",
       "      <td>39.024730</td>\n",
       "      <td>35.739051</td>\n",
       "    </tr>\n",
       "    <tr>\n",
       "      <th>1</th>\n",
       "      <td>17.575415</td>\n",
       "      <td>36.365035</td>\n",
       "    </tr>\n",
       "    <tr>\n",
       "      <th>2</th>\n",
       "      <td>24.459081</td>\n",
       "      <td>36.803738</td>\n",
       "    </tr>\n",
       "    <tr>\n",
       "      <th>3</th>\n",
       "      <td>38.600929</td>\n",
       "      <td>35.826697</td>\n",
       "    </tr>\n",
       "    <tr>\n",
       "      <th>4</th>\n",
       "      <td>26.104886</td>\n",
       "      <td>36.390276</td>\n",
       "    </tr>\n",
       "    <tr>\n",
       "      <th>...</th>\n",
       "      <td>...</td>\n",
       "      <td>...</td>\n",
       "    </tr>\n",
       "    <tr>\n",
       "      <th>58997</th>\n",
       "      <td>37.097486</td>\n",
       "      <td>36.619555</td>\n",
       "    </tr>\n",
       "    <tr>\n",
       "      <th>58998</th>\n",
       "      <td>8.176173</td>\n",
       "      <td>34.200067</td>\n",
       "    </tr>\n",
       "    <tr>\n",
       "      <th>58999</th>\n",
       "      <td>60.056312</td>\n",
       "      <td>23.880885</td>\n",
       "    </tr>\n",
       "    <tr>\n",
       "      <th>59000</th>\n",
       "      <td>28.368763</td>\n",
       "      <td>36.229487</td>\n",
       "    </tr>\n",
       "    <tr>\n",
       "      <th>59001</th>\n",
       "      <td>22.365372</td>\n",
       "      <td>35.066038</td>\n",
       "    </tr>\n",
       "  </tbody>\n",
       "</table>\n",
       "<p>59002 rows × 2 columns</p>\n",
       "</div>"
      ],
      "text/plain": [
       "       delinquent_sft_imp  delinquent_iter_imp\n",
       "0               39.024730            35.739051\n",
       "1               17.575415            36.365035\n",
       "2               24.459081            36.803738\n",
       "3               38.600929            35.826697\n",
       "4               26.104886            36.390276\n",
       "...                   ...                  ...\n",
       "58997           37.097486            36.619555\n",
       "58998            8.176173            34.200067\n",
       "58999           60.056312            23.880885\n",
       "59000           28.368763            36.229487\n",
       "59001           22.365372            35.066038\n",
       "\n",
       "[59002 rows x 2 columns]"
      ]
     },
     "execution_count": 420,
     "metadata": {},
     "output_type": "execute_result"
    }
   ],
   "source": [
    "delinquent_dict={}\n",
    "# months_since_last_delinquent\n",
    "delinquent_dict[\"delinquent_sft_imp\"]=updated_data_sft_impt.loc[months_since_last_delinquent_na_lst].months_since_last_delinquent.values\n",
    "delinquent_dict[\"delinquent_iter_imp\"]=updated_data_iter_impt.loc[months_since_last_delinquent_na_lst].months_since_last_delinquent.values\n",
    "\n",
    "pd.DataFrame(delinquent_dict)"
   ]
  },
  {
   "cell_type": "markdown",
   "id": "interested-limit",
   "metadata": {},
   "source": [
    "**Thoughts**\n",
    "\n",
    "* Soft Impute and Interative Impute values as seen above are significantly different.\n",
    "* These need to be tried with the modelling to understand which is good."
   ]
  },
  {
   "cell_type": "markdown",
   "id": "electoral-element",
   "metadata": {},
   "source": [
    "**Saving the Softimputed file**"
   ]
  },
  {
   "cell_type": "code",
   "execution_count": 425,
   "id": "sunrise-evanescence",
   "metadata": {},
   "outputs": [
    {
     "data": {
      "text/plain": [
       "'C:\\\\\\\\Users\\\\\\\\jbhsm\\\\\\\\Project_Pro\\\\\\\\Loan Eligibility Prediction\\\\\\\\loan_eligibility_proj\\\\\\\\input'"
      ]
     },
     "execution_count": 425,
     "metadata": {},
     "output_type": "execute_result"
    }
   ],
   "source": [
    "input_dir"
   ]
  },
  {
   "cell_type": "code",
   "execution_count": 424,
   "id": "wooden-indianapolis",
   "metadata": {},
   "outputs": [
    {
     "data": {
      "text/plain": [
       "'C:\\\\\\\\Users\\\\\\\\jbhsm\\\\\\\\Project_Pro\\\\\\\\Loan Eligibility Prediction\\\\\\\\loan_eligibility_proj\\\\\\\\input\\\\updated_data_sft_impt.csv'"
      ]
     },
     "execution_count": 424,
     "metadata": {},
     "output_type": "execute_result"
    }
   ],
   "source": [
    "sft_imp_path = os.path.join(input_dir,\"updated_data_sft_impt.csv\")\n",
    "sft_imp_path"
   ]
  },
  {
   "cell_type": "code",
   "execution_count": 429,
   "id": "packed-exploration",
   "metadata": {},
   "outputs": [],
   "source": [
    "df_concat=pd.concat([updated_data_sft_impt,df_wrk.loan_status], axis=1)"
   ]
  },
  {
   "cell_type": "code",
   "execution_count": 430,
   "id": "functioning-irrigation",
   "metadata": {},
   "outputs": [],
   "source": [
    "df_concat.to_csv(sft_imp_path)"
   ]
  },
  {
   "cell_type": "markdown",
   "id": "external-survival",
   "metadata": {},
   "source": [
    "**Saving the Iterative Imputed File**"
   ]
  },
  {
   "cell_type": "code",
   "execution_count": 427,
   "id": "hawaiian-defeat",
   "metadata": {},
   "outputs": [
    {
     "data": {
      "text/plain": [
       "'C:\\\\\\\\Users\\\\\\\\jbhsm\\\\\\\\Project_Pro\\\\\\\\Loan Eligibility Prediction\\\\\\\\loan_eligibility_proj\\\\\\\\input\\\\updated_data_iter_impt.csv'"
      ]
     },
     "execution_count": 427,
     "metadata": {},
     "output_type": "execute_result"
    }
   ],
   "source": [
    "iter_imp_path = os.path.join(input_dir,\"updated_data_iter_impt.csv\")\n",
    "iter_imp_path"
   ]
  },
  {
   "cell_type": "code",
   "execution_count": 431,
   "id": "celtic-equipment",
   "metadata": {},
   "outputs": [],
   "source": [
    "df_concat=pd.concat([updated_data_iter_impt,df_wrk.loan_status], axis=1)"
   ]
  },
  {
   "cell_type": "code",
   "execution_count": 432,
   "id": "heard-flood",
   "metadata": {},
   "outputs": [],
   "source": [
    "df_concat.to_csv(iter_imp_path)"
   ]
  },
  {
   "cell_type": "code",
   "execution_count": null,
   "id": "stable-amber",
   "metadata": {},
   "outputs": [],
   "source": []
  },
  {
   "cell_type": "code",
   "execution_count": null,
   "id": "balanced-variation",
   "metadata": {},
   "outputs": [],
   "source": []
  }
 ],
 "metadata": {
  "kernelspec": {
   "display_name": "Python 3",
   "language": "python",
   "name": "python3"
  },
  "language_info": {
   "codemirror_mode": {
    "name": "ipython",
    "version": 3
   },
   "file_extension": ".py",
   "mimetype": "text/x-python",
   "name": "python",
   "nbconvert_exporter": "python",
   "pygments_lexer": "ipython3",
   "version": "3.7.9"
  }
 },
 "nbformat": 4,
 "nbformat_minor": 5
}
