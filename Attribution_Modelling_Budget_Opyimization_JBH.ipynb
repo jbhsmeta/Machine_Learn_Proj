{
 "cells": [
  {
   "cell_type": "markdown",
   "id": "specified-immunology",
   "metadata": {},
   "source": [
    "## Attribution Modelling and Budget Optimization"
   ]
  },
  {
   "cell_type": "code",
   "execution_count": 1,
   "id": "surprising-drilling",
   "metadata": {},
   "outputs": [],
   "source": [
    "import pandas as pd\n",
    "import itertools\n",
    "from collections import defaultdict\n",
    "from itertools import permutations,combinations\n",
    "import numpy as np\n",
    "from collections import Counter\n",
    "import matplotlib.pyplot as plt\n",
    "from pandas.plotting import scatter_matrix\n",
    "%matplotlib inline\n",
    "import seaborn as sns\n",
    "from gekko import GEKKO\n",
    "from pandas_profiling import ProfileReport\n",
    "from PIL import Image\n",
    "import requests\n",
    "import os"
   ]
  },
  {
   "cell_type": "code",
   "execution_count": 2,
   "id": "split-spell",
   "metadata": {},
   "outputs": [
    {
     "data": {
      "text/plain": [
       "'C:\\\\Users\\\\jbhsm\\\\Project_Pro\\\\Attribution Modelling and Budget Optimization\\\\lib'"
      ]
     },
     "execution_count": 2,
     "metadata": {},
     "output_type": "execute_result"
    }
   ],
   "source": [
    "os.getcwd()"
   ]
  },
  {
   "cell_type": "code",
   "execution_count": 3,
   "id": "brilliant-exclusion",
   "metadata": {},
   "outputs": [
    {
     "data": {
      "text/plain": [
       "['attribution_data.csv', 'data.zip']"
      ]
     },
     "execution_count": 3,
     "metadata": {},
     "output_type": "execute_result"
    }
   ],
   "source": [
    "os.listdir('C:\\\\Users\\\\jbhsm\\\\Project_Pro\\\\Attribution Modelling and Budget Optimization\\\\input')"
   ]
  },
  {
   "cell_type": "code",
   "execution_count": 4,
   "id": "intellectual-liberty",
   "metadata": {},
   "outputs": [],
   "source": [
    "data_path='C:\\\\Users\\\\jbhsm\\\\Project_Pro\\\\Attribution Modelling and Budget Optimization\\\\input\\\\attribution_data.csv'"
   ]
  },
  {
   "cell_type": "code",
   "execution_count": 5,
   "id": "excess-charter",
   "metadata": {},
   "outputs": [
    {
     "data": {
      "text/html": [
       "<div>\n",
       "<style scoped>\n",
       "    .dataframe tbody tr th:only-of-type {\n",
       "        vertical-align: middle;\n",
       "    }\n",
       "\n",
       "    .dataframe tbody tr th {\n",
       "        vertical-align: top;\n",
       "    }\n",
       "\n",
       "    .dataframe thead th {\n",
       "        text-align: right;\n",
       "    }\n",
       "</style>\n",
       "<table border=\"1\" class=\"dataframe\">\n",
       "  <thead>\n",
       "    <tr style=\"text-align: right;\">\n",
       "      <th></th>\n",
       "      <th>cookie</th>\n",
       "      <th>time</th>\n",
       "      <th>interaction</th>\n",
       "      <th>conversion</th>\n",
       "      <th>conversion_value</th>\n",
       "      <th>channel</th>\n",
       "    </tr>\n",
       "  </thead>\n",
       "  <tbody>\n",
       "    <tr>\n",
       "      <th>0</th>\n",
       "      <td>00000FkCnDfDDf0iC97iC703B</td>\n",
       "      <td>2018-07-03T13:02:11Z</td>\n",
       "      <td>impression</td>\n",
       "      <td>0</td>\n",
       "      <td>0.0</td>\n",
       "      <td>Instagram</td>\n",
       "    </tr>\n",
       "    <tr>\n",
       "      <th>1</th>\n",
       "      <td>00000FkCnDfDDf0iC97iC703B</td>\n",
       "      <td>2018-07-17T19:15:07Z</td>\n",
       "      <td>impression</td>\n",
       "      <td>0</td>\n",
       "      <td>0.0</td>\n",
       "      <td>Online Display</td>\n",
       "    </tr>\n",
       "    <tr>\n",
       "      <th>2</th>\n",
       "      <td>00000FkCnDfDDf0iC97iC703B</td>\n",
       "      <td>2018-07-24T15:51:46Z</td>\n",
       "      <td>impression</td>\n",
       "      <td>0</td>\n",
       "      <td>0.0</td>\n",
       "      <td>Online Display</td>\n",
       "    </tr>\n",
       "    <tr>\n",
       "      <th>3</th>\n",
       "      <td>00000FkCnDfDDf0iC97iC703B</td>\n",
       "      <td>2018-07-29T07:44:51Z</td>\n",
       "      <td>impression</td>\n",
       "      <td>0</td>\n",
       "      <td>0.0</td>\n",
       "      <td>Online Display</td>\n",
       "    </tr>\n",
       "    <tr>\n",
       "      <th>4</th>\n",
       "      <td>0000nACkD9nFkBBDECD3ki00E</td>\n",
       "      <td>2018-07-03T09:44:57Z</td>\n",
       "      <td>impression</td>\n",
       "      <td>0</td>\n",
       "      <td>0.0</td>\n",
       "      <td>Paid Search</td>\n",
       "    </tr>\n",
       "  </tbody>\n",
       "</table>\n",
       "</div>"
      ],
      "text/plain": [
       "                      cookie                  time interaction  conversion  \\\n",
       "0  00000FkCnDfDDf0iC97iC703B  2018-07-03T13:02:11Z  impression           0   \n",
       "1  00000FkCnDfDDf0iC97iC703B  2018-07-17T19:15:07Z  impression           0   \n",
       "2  00000FkCnDfDDf0iC97iC703B  2018-07-24T15:51:46Z  impression           0   \n",
       "3  00000FkCnDfDDf0iC97iC703B  2018-07-29T07:44:51Z  impression           0   \n",
       "4  0000nACkD9nFkBBDECD3ki00E  2018-07-03T09:44:57Z  impression           0   \n",
       "\n",
       "   conversion_value         channel  \n",
       "0               0.0       Instagram  \n",
       "1               0.0  Online Display  \n",
       "2               0.0  Online Display  \n",
       "3               0.0  Online Display  \n",
       "4               0.0     Paid Search  "
      ]
     },
     "execution_count": 5,
     "metadata": {},
     "output_type": "execute_result"
    }
   ],
   "source": [
    "# Reading the data frame \n",
    "data=pd.read_csv(data_path)\n",
    "data.head()"
   ]
  },
  {
   "cell_type": "code",
   "execution_count": 6,
   "id": "thermal-invasion",
   "metadata": {},
   "outputs": [
    {
     "data": {
      "text/plain": [
       "(586737, 6)"
      ]
     },
     "execution_count": 6,
     "metadata": {},
     "output_type": "execute_result"
    }
   ],
   "source": [
    "data.shape"
   ]
  },
  {
   "cell_type": "code",
   "execution_count": 8,
   "id": "encouraging-syndicate",
   "metadata": {},
   "outputs": [],
   "source": [
    "#Creating exploratory data analysis report using pandas profiling python module\n",
    "\n",
    "profile = ProfileReport(data, title='Attribution Data Report', explorative=True) "
   ]
  },
  {
   "cell_type": "code",
   "execution_count": 9,
   "id": "insured-interval",
   "metadata": {},
   "outputs": [
    {
     "data": {
      "application/vnd.jupyter.widget-view+json": {
       "model_id": "fca0b15255ea4e91a1b249c6340ca716",
       "version_major": 2,
       "version_minor": 0
      },
      "text/plain": [
       "Summarize dataset:   0%|          | 0/5 [00:00<?, ?it/s]"
      ]
     },
     "metadata": {},
     "output_type": "display_data"
    },
    {
     "data": {
      "application/vnd.jupyter.widget-view+json": {
       "model_id": "dea0405a60a04626af69c33700dcade6",
       "version_major": 2,
       "version_minor": 0
      },
      "text/plain": [
       "Generate report structure:   0%|          | 0/1 [00:00<?, ?it/s]"
      ]
     },
     "metadata": {},
     "output_type": "display_data"
    },
    {
     "data": {
      "application/vnd.jupyter.widget-view+json": {
       "model_id": "",
       "version_major": 2,
       "version_minor": 0
      },
      "text/plain": [
       "Render widgets:   0%|          | 0/1 [00:00<?, ?it/s]"
      ]
     },
     "metadata": {},
     "output_type": "display_data"
    },
    {
     "data": {
      "application/vnd.jupyter.widget-view+json": {
       "model_id": "25479c5603364a2e8e10f59c21d43a4c",
       "version_major": 2,
       "version_minor": 0
      },
      "text/plain": [
       "VBox(children=(Tab(children=(Tab(children=(GridBox(children=(VBox(children=(GridspecLayout(children=(HTML(valu…"
      ]
     },
     "metadata": {},
     "output_type": "display_data"
    }
   ],
   "source": [
    "#Displaying the report\n",
    "\n",
    "profile.to_widgets()"
   ]
  },
  {
   "cell_type": "code",
   "execution_count": 10,
   "id": "equipped-carroll",
   "metadata": {},
   "outputs": [
    {
     "data": {
      "application/vnd.jupyter.widget-view+json": {
       "model_id": "1b3378e06d964badb2dcb0ac7161bc1d",
       "version_major": 2,
       "version_minor": 0
      },
      "text/plain": [
       "Render HTML:   0%|          | 0/1 [00:00<?, ?it/s]"
      ]
     },
     "metadata": {},
     "output_type": "display_data"
    },
    {
     "data": {
      "application/vnd.jupyter.widget-view+json": {
       "model_id": "7bed6f5b00e94746bc3dede32c6be429",
       "version_major": 2,
       "version_minor": 0
      },
      "text/plain": [
       "Export report to file:   0%|          | 0/1 [00:00<?, ?it/s]"
      ]
     },
     "metadata": {},
     "output_type": "display_data"
    }
   ],
   "source": [
    "profile.to_file(\"Report.html\") "
   ]
  },
  {
   "cell_type": "markdown",
   "id": "fluid-netherlands",
   "metadata": {},
   "source": [
    "## Single Touch Attribution Models\n",
    "\n",
    "* Single-touch attribution models assign 100% of conversion credit to one marketing channel disregarding any number of channels visited by an user.\n",
    "* Type of Model include:\n",
    "    * Last Touch Attribution Model\n",
    "    * First Touch Attribution Model\n",
    "    * Last Non Direct Model"
   ]
  },
  {
   "cell_type": "markdown",
   "id": "cooperative-annotation",
   "metadata": {},
   "source": [
    "#### 1.Last-Touch Attribution Model\n",
    "\n",
    "*   Last-touch attribution assigns 100% of the credit to the last marketing touchpoint.\n",
    "\n",
    "*   The argument behind this approach is that the last touch is all that matters because it resulted in the actual conversion, but in reality it doesn’t tell the whole story. Your customers are likely engaging with your brand across multiple touchpoints on various channels before they convert."
   ]
  },
  {
   "cell_type": "code",
   "execution_count": 35,
   "id": "progressive-powder",
   "metadata": {},
   "outputs": [],
   "source": [
    "def last_touch_model(dt, conv_col,channel_col):         #Defining function for last touch model\n",
    "    last_touch=dt.loc[dt[conv_col]==1]          #Extracting rows where conversion is 1 \n",
    "    res_last_touch=pd.DataFrame(round(last_touch[channel_col].value_counts(normalize=True)*100,2))      #Calculating the weightage\n",
    "    res_last_touch.columns=['Weightage(%)']   \n",
    "    return res_last_touch"
   ]
  },
  {
   "cell_type": "code",
   "execution_count": 36,
   "id": "fifth-assessment",
   "metadata": {},
   "outputs": [
    {
     "data": {
      "text/html": [
       "<div>\n",
       "<style scoped>\n",
       "    .dataframe tbody tr th:only-of-type {\n",
       "        vertical-align: middle;\n",
       "    }\n",
       "\n",
       "    .dataframe tbody tr th {\n",
       "        vertical-align: top;\n",
       "    }\n",
       "\n",
       "    .dataframe thead th {\n",
       "        text-align: right;\n",
       "    }\n",
       "</style>\n",
       "<table border=\"1\" class=\"dataframe\">\n",
       "  <thead>\n",
       "    <tr style=\"text-align: right;\">\n",
       "      <th></th>\n",
       "      <th>Weightage(%)</th>\n",
       "    </tr>\n",
       "  </thead>\n",
       "  <tbody>\n",
       "    <tr>\n",
       "      <th>Facebook</th>\n",
       "      <td>30.05</td>\n",
       "    </tr>\n",
       "    <tr>\n",
       "      <th>Paid Search</th>\n",
       "      <td>25.78</td>\n",
       "    </tr>\n",
       "    <tr>\n",
       "      <th>Online Video</th>\n",
       "      <td>19.32</td>\n",
       "    </tr>\n",
       "    <tr>\n",
       "      <th>Instagram</th>\n",
       "      <td>12.72</td>\n",
       "    </tr>\n",
       "    <tr>\n",
       "      <th>Online Display</th>\n",
       "      <td>12.13</td>\n",
       "    </tr>\n",
       "  </tbody>\n",
       "</table>\n",
       "</div>"
      ],
      "text/plain": [
       "                Weightage(%)\n",
       "Facebook               30.05\n",
       "Paid Search            25.78\n",
       "Online Video           19.32\n",
       "Instagram              12.72\n",
       "Online Display         12.13"
      ]
     },
     "execution_count": 36,
     "metadata": {},
     "output_type": "execute_result"
    }
   ],
   "source": [
    "last_touch=last_touch_model(data, 'conversion', 'channel')  #Calling the last touch model function\n",
    "last_touch"
   ]
  },
  {
   "cell_type": "code",
   "execution_count": 15,
   "id": "satisfactory-tournament",
   "metadata": {},
   "outputs": [
    {
     "data": {
      "image/png": "[encoded data removed]",
      "text/plain": [
       "<Figure size 1296x432 with 1 Axes>"
      ]
     },
     "metadata": {
      "needs_background": "light"
     },
     "output_type": "display_data"
    }
   ],
   "source": [
    "#Plotting the weightage with respect to channels\n",
    "plt.subplots(figsize=(18, 6))\n",
    "sns.barplot(y='Weightage(%)', x=last_touch.index, data=last_touch)\n",
    "plt.show()"
   ]
  },
  {
   "cell_type": "markdown",
   "id": "statewide-climate",
   "metadata": {},
   "source": [
    "#### 2.First-Touch Attribution Model\n",
    "\n",
    "* With a first-touch attribution model, your first marketing interaction receives 100% of the credit.\n",
    "\n",
    "* If one is mainly focused on widening top of your funnel, this is a useful model. It highlights the channels that first introduced a customer to your brand.\n",
    "\n",
    "* The problem with this model is that it ignores all subsequent touches, and therefore provides no insight into your down-funnel metrics."
   ]
  },
  {
   "cell_type": "code",
   "execution_count": 37,
   "id": "metropolitan-communication",
   "metadata": {},
   "outputs": [],
   "source": [
    "def first_touch_model(dt, conv_col,channel_col,user_id):\n",
    "    temp=dt.loc[dt[conv_col]==1]          #Saving the dataframe where all the conversions are 1 into temp variable\n",
    "    first_touch=pd.DataFrame(dt.groupby(user_id).first(),index=dt[user_id])       #Grouping with respect to cookie and then keeping only the first instance of every cookie\n",
    "    cookie_index=list(temp[user_id])      #making a list of cookie column of temp\n",
    "    mid_first_touch=first_touch.loc[cookie_index]     #locating cookie index in the first touch dataframe\n",
    "    res_first_touch=pd.DataFrame(round(mid_first_touch[channel_col].value_counts(normalize=True)*100,2))    #Calculating weightage\n",
    "    res_first_touch.columns=['Weightage(%)']\n",
    "    return res_first_touch"
   ]
  },
  {
   "cell_type": "code",
   "execution_count": 38,
   "id": "changing-business",
   "metadata": {},
   "outputs": [
    {
     "data": {
      "text/html": [
       "<div>\n",
       "<style scoped>\n",
       "    .dataframe tbody tr th:only-of-type {\n",
       "        vertical-align: middle;\n",
       "    }\n",
       "\n",
       "    .dataframe tbody tr th {\n",
       "        vertical-align: top;\n",
       "    }\n",
       "\n",
       "    .dataframe thead th {\n",
       "        text-align: right;\n",
       "    }\n",
       "</style>\n",
       "<table border=\"1\" class=\"dataframe\">\n",
       "  <thead>\n",
       "    <tr style=\"text-align: right;\">\n",
       "      <th></th>\n",
       "      <th>Weightage(%)</th>\n",
       "    </tr>\n",
       "  </thead>\n",
       "  <tbody>\n",
       "    <tr>\n",
       "      <th>Facebook</th>\n",
       "      <td>32.59</td>\n",
       "    </tr>\n",
       "    <tr>\n",
       "      <th>Online Video</th>\n",
       "      <td>25.20</td>\n",
       "    </tr>\n",
       "    <tr>\n",
       "      <th>Paid Search</th>\n",
       "      <td>18.47</td>\n",
       "    </tr>\n",
       "    <tr>\n",
       "      <th>Instagram</th>\n",
       "      <td>14.78</td>\n",
       "    </tr>\n",
       "    <tr>\n",
       "      <th>Online Display</th>\n",
       "      <td>8.95</td>\n",
       "    </tr>\n",
       "  </tbody>\n",
       "</table>\n",
       "</div>"
      ],
      "text/plain": [
       "                Weightage(%)\n",
       "Facebook               32.59\n",
       "Online Video           25.20\n",
       "Paid Search            18.47\n",
       "Instagram              14.78\n",
       "Online Display          8.95"
      ]
     },
     "execution_count": 38,
     "metadata": {},
     "output_type": "execute_result"
    }
   ],
   "source": [
    "first_touch = first_touch_model(data, 'conversion', 'channel', 'cookie')\n",
    "first_touch"
   ]
  },
  {
   "cell_type": "code",
   "execution_count": 18,
   "id": "perfect-meter",
   "metadata": {},
   "outputs": [
    {
     "data": {
      "image/png": "[encoded data removed]",
      "text/plain": [
       "<Figure size 1296x432 with 1 Axes>"
      ]
     },
     "metadata": {
      "needs_background": "light"
     },
     "output_type": "display_data"
    }
   ],
   "source": [
    "plt.subplots(figsize=(18, 6))\n",
    "sns.barplot(y='Weightage(%)', x=first_touch.index, data=first_touch)\n",
    "plt.show()"
   ]
  },
  {
   "cell_type": "markdown",
   "id": "professional-benchmark",
   "metadata": {},
   "source": [
    "#### 3.Last-Non-direct Touch Attribution Model\n",
    "* There is one small difference between last non-direct click attribution and last-click attribution. Direct traffic is ignored, and 100% of the credit is assigned to the last channel that the visitor engaged with before making a conversion. To explain this attribution model, we’ll need to change our customer journey slightly.\n",
    "\n",
    "* This model is best if you want to fully understand the effectiveness of your final marketing activities without direct traffic getting in the way of your analysis. However, this model still doesn’t account for any of the other campaigns or channels the customer interacted with."
   ]
  },
  {
   "cell_type": "code",
   "execution_count": 39,
   "id": "innovative-coordinate",
   "metadata": {},
   "outputs": [],
   "source": [
    "def last_non_direct_model(dt, conv_col, channel_col, user_id):\n",
    "    slp=pd.DataFrame(dt.groupby(user_id).tail(2))     #Grouping by cookie and keeping the last two observation for each cookie\n",
    "    temp=slp.loc[slp[conv_col]==1]\n",
    "    last_non_direct=pd.DataFrame(slp.groupby(user_id).first(),index=slp[user_id])\n",
    "    cookie_index=list(temp[user_id])\n",
    "    mid_last_non_direct=last_non_direct.loc[cookie_index]\n",
    "    res_last_non_direct=pd.DataFrame(round(mid_last_non_direct[channel_col].value_counts(normalize=True)*100,2))\n",
    "    res_last_non_direct.columns=['Weightage(%)']\n",
    "    return res_last_non_direct"
   ]
  },
  {
   "cell_type": "code",
   "execution_count": 40,
   "id": "exclusive-seattle",
   "metadata": {},
   "outputs": [
    {
     "data": {
      "text/html": [
       "<div>\n",
       "<style scoped>\n",
       "    .dataframe tbody tr th:only-of-type {\n",
       "        vertical-align: middle;\n",
       "    }\n",
       "\n",
       "    .dataframe tbody tr th {\n",
       "        vertical-align: top;\n",
       "    }\n",
       "\n",
       "    .dataframe thead th {\n",
       "        text-align: right;\n",
       "    }\n",
       "</style>\n",
       "<table border=\"1\" class=\"dataframe\">\n",
       "  <thead>\n",
       "    <tr style=\"text-align: right;\">\n",
       "      <th></th>\n",
       "      <th>Weightage(%)</th>\n",
       "    </tr>\n",
       "  </thead>\n",
       "  <tbody>\n",
       "    <tr>\n",
       "      <th>Facebook</th>\n",
       "      <td>29.97</td>\n",
       "    </tr>\n",
       "    <tr>\n",
       "      <th>Paid Search</th>\n",
       "      <td>24.97</td>\n",
       "    </tr>\n",
       "    <tr>\n",
       "      <th>Online Video</th>\n",
       "      <td>20.47</td>\n",
       "    </tr>\n",
       "    <tr>\n",
       "      <th>Instagram</th>\n",
       "      <td>13.22</td>\n",
       "    </tr>\n",
       "    <tr>\n",
       "      <th>Online Display</th>\n",
       "      <td>11.37</td>\n",
       "    </tr>\n",
       "  </tbody>\n",
       "</table>\n",
       "</div>"
      ],
      "text/plain": [
       "                Weightage(%)\n",
       "Facebook               29.97\n",
       "Paid Search            24.97\n",
       "Online Video           20.47\n",
       "Instagram              13.22\n",
       "Online Display         11.37"
      ]
     },
     "execution_count": 40,
     "metadata": {},
     "output_type": "execute_result"
    }
   ],
   "source": [
    "last_non_direct = last_non_direct_model(data, 'conversion', 'channel', 'cookie')\n",
    "last_non_direct"
   ]
  },
  {
   "cell_type": "code",
   "execution_count": 33,
   "id": "competent-translation",
   "metadata": {},
   "outputs": [
    {
     "data": {
      "image/png": "[encoded data removed]",
      "text/plain": [
       "<Figure size 1296x432 with 1 Axes>"
      ]
     },
     "metadata": {
      "needs_background": "light"
     },
     "output_type": "display_data"
    }
   ],
   "source": [
    "plt.subplots(figsize=(18, 6))\n",
    "sns.barplot(y='Weightage(%)', x=last_non_direct.index, data=last_non_direct)\n",
    "plt.show()"
   ]
  },
  {
   "cell_type": "markdown",
   "id": "limiting-hebrew",
   "metadata": {},
   "source": [
    "## Multi-Touch Models\n",
    "* this type of models give credit to all touch points during the conversion process."
   ]
  },
  {
   "cell_type": "markdown",
   "id": "italian-provision",
   "metadata": {},
   "source": [
    "#### 1.Linear Attribution Model\n",
    "\n",
    "* Linear attribution gives each touchpoint across the buyer journey the same amount of credit toward driving a sale. While this type of attribution considers every touchpoint in the buyer’s journey, it values every touchpoint evenly.\n",
    "\n",
    "* The advantage of this model is that it is easy to implement and is better than all single-touch attribution models.\n",
    "\n",
    "* The disadvantage however is that in reality, consumers aren’t equally impacted by every kind of touchpoint/channel. "
   ]
  },
  {
   "cell_type": "code",
   "execution_count": 34,
   "id": "improved-nurse",
   "metadata": {},
   "outputs": [],
   "source": [
    "import copy"
   ]
  },
  {
   "cell_type": "code",
   "execution_count": 41,
   "id": "unusual-portrait",
   "metadata": {},
   "outputs": [],
   "source": [
    "def linear_model(dt, conv_col, channel_col, user_id):\n",
    "\n",
    "    #Keeping data of only those users who are getting converted at the end\n",
    "    pd.options.mode.chained_assignment = None \n",
    "    temp=dt.loc[dt[conv_col]==1]\n",
    "    cookie_index=list(temp[user_id])\n",
    "    dt['new']=dt[user_id].isin(cookie_index)      \n",
    "    y=dt['new'].isin([True])\n",
    "    dt_conv=dt[y]\n",
    "\n",
    "    temp=pd.DataFrame(dt_conv.groupby(user_id).tail(1))\n",
    "    x=Counter(dt_conv[user_id])\n",
    "    temp['click_count']=x.values()      #Click count is total number of channels visited by an user\n",
    "    temp.set_index(user_id,inplace=True)\n",
    "    count=Counter(dt_conv[user_id])\n",
    "    dt_conv['clicks']=dt_conv[user_id].map(count)     #Adding click count to the filtered the data\n",
    "    dt_conv=dt_conv.assign(click_per=lambda x: round(100/dt_conv['clicks'],2))      #Assigning the weightages in a linear fashion\n",
    "\n",
    "    #Getting the mean weightage of every channels    \n",
    "    res_linear=dt_conv.groupby(channel_col, as_index=False)['click_per'].mean()\n",
    "    summ=res_linear['click_per'].sum()\n",
    "    res_linear['Weightage(%)']=res_linear.apply(lambda x: round((x['click_per']/summ)*100,2),axis=1)\n",
    "    res_linear.drop(['click_per'],inplace=True,axis=1)\n",
    "    res_linear=res_linear.set_index(channel_col)\n",
    "    res_linear.index.name=None\n",
    "    return res_linear"
   ]
  },
  {
   "cell_type": "code",
   "execution_count": 42,
   "id": "silver-avatar",
   "metadata": {},
   "outputs": [
    {
     "data": {
      "text/html": [
       "<div>\n",
       "<style scoped>\n",
       "    .dataframe tbody tr th:only-of-type {\n",
       "        vertical-align: middle;\n",
       "    }\n",
       "\n",
       "    .dataframe tbody tr th {\n",
       "        vertical-align: top;\n",
       "    }\n",
       "\n",
       "    .dataframe thead th {\n",
       "        text-align: right;\n",
       "    }\n",
       "</style>\n",
       "<table border=\"1\" class=\"dataframe\">\n",
       "  <thead>\n",
       "    <tr style=\"text-align: right;\">\n",
       "      <th></th>\n",
       "      <th>Weightage(%)</th>\n",
       "    </tr>\n",
       "  </thead>\n",
       "  <tbody>\n",
       "    <tr>\n",
       "      <th>Facebook</th>\n",
       "      <td>16.28</td>\n",
       "    </tr>\n",
       "    <tr>\n",
       "      <th>Instagram</th>\n",
       "      <td>16.56</td>\n",
       "    </tr>\n",
       "    <tr>\n",
       "      <th>Online Display</th>\n",
       "      <td>26.43</td>\n",
       "    </tr>\n",
       "    <tr>\n",
       "      <th>Online Video</th>\n",
       "      <td>13.11</td>\n",
       "    </tr>\n",
       "    <tr>\n",
       "      <th>Paid Search</th>\n",
       "      <td>27.63</td>\n",
       "    </tr>\n",
       "  </tbody>\n",
       "</table>\n",
       "</div>"
      ],
      "text/plain": [
       "                Weightage(%)\n",
       "Facebook               16.28\n",
       "Instagram              16.56\n",
       "Online Display         26.43\n",
       "Online Video           13.11\n",
       "Paid Search            27.63"
      ]
     },
     "execution_count": 42,
     "metadata": {},
     "output_type": "execute_result"
    }
   ],
   "source": [
    "linear = linear_model(data, 'conversion', 'channel', 'cookie')    #Calling the linear model function\n",
    "linear"
   ]
  },
  {
   "cell_type": "code",
   "execution_count": 63,
   "id": "covered-volume",
   "metadata": {},
   "outputs": [
    {
     "data": {
      "image/png": "[encoded data removed]",
      "text/plain": [
       "<Figure size 1296x432 with 1 Axes>"
      ]
     },
     "metadata": {
      "needs_background": "light"
     },
     "output_type": "display_data"
    }
   ],
   "source": [
    "plt.subplots(figsize=(18, 6))\n",
    "sns.barplot(y='Weightage(%)', x=linear.index, data=linear)\n",
    "plt.show()"
   ]
  },
  {
   "cell_type": "markdown",
   "id": "chubby-warner",
   "metadata": {},
   "source": [
    "#### 2.Position Based (U-shaped) Attribution Model\n",
    "\n",
    "* The Position-based attribution model (also called U-shaped attribution) splits the credit for a sale between first interaction and the moment it converts.\n",
    "\n",
    "* 40% of the credit is given to each of these points, with the remaining 20% spread out between any other interactions that happened in the middle."
   ]
  },
  {
   "cell_type": "code",
   "execution_count": 43,
   "id": "sized-identity",
   "metadata": {},
   "outputs": [],
   "source": [
    "def calc_attribution(click_pos,total_clicks):\n",
    "    #Assigning weightage according to the position of the channel\n",
    "    default_att = 0.5       #if a user has visited only 2 channels \n",
    "    extreme_touch_att_1 = 0.4     #Assigining weightage to first and last channels\n",
    "    intermed_att_1 = 0.2    #Total weightage for remaining channels\n",
    "    \n",
    "    if  total_clicks == 2:     \n",
    "        return default_att\n",
    "    \n",
    "    elif total_clicks == 1:\n",
    "        return 1\n",
    "    else:\n",
    "        if click_pos == total_clicks or click_pos ==1:\n",
    "            return extreme_touch_att_1\n",
    "        else:\n",
    "            return intermed_att_1/(total_clicks-2)      #Giving equal weightage to all the mid channels from the remaining 20%"
   ]
  },
  {
   "cell_type": "code",
   "execution_count": 44,
   "id": "duplicate-illness",
   "metadata": {},
   "outputs": [],
   "source": [
    "def u_shaped_model(dt, conv_col, channel_col, user_id):\n",
    "\n",
    "    #Keeping data of only those users who are getting converted at the end\n",
    "    pd.options.mode.chained_assignment = None     #Ignoring pandas warnings\n",
    "    temp=dt.loc[dt[conv_col]==1]\n",
    "    cookie_index=list(temp[user_id])\n",
    "    dt['new']=dt[user_id].isin(cookie_index)\n",
    "    y=dt['new'].isin([True])\n",
    "    dt_conv=dt[y]\n",
    "\n",
    "    count=Counter(dt_conv[user_id])\n",
    "    dt_conv['clicks']=dt_conv[user_id].map(count)\n",
    "    dt_conv['click_pos'] = dt_conv.groupby(user_id).cumcount() + 1      #Giving ranks to the channel for each user_id\n",
    "    dt_Ushaped=dt_conv\n",
    "    dt_Ushaped['U_Shape'] = dt_conv.apply(lambda val: round(calc_attribution(val.click_pos,val.clicks)*100,2),axis=1)\n",
    "\n",
    "    #Getting the mean weightage of every channels\n",
    "    res_Ushaped=dt_Ushaped.groupby(channel_col, as_index=False)['U_Shape'].mean()\n",
    "    summ=res_Ushaped['U_Shape'].sum()\n",
    "    res_Ushaped['Weightage(%)']=res_Ushaped.apply(lambda x: round((x['U_Shape']/summ)*100,2),axis=1)\n",
    "    res_Ushaped.drop(['U_Shape'],inplace=True,axis=1)\n",
    "    res_Ushaped=res_Ushaped.set_index(channel_col)\n",
    "    res_Ushaped.index.name=None\n",
    "    return res_Ushaped"
   ]
  },
  {
   "cell_type": "code",
   "execution_count": 45,
   "id": "fantastic-morgan",
   "metadata": {},
   "outputs": [
    {
     "data": {
      "text/html": [
       "<div>\n",
       "<style scoped>\n",
       "    .dataframe tbody tr th:only-of-type {\n",
       "        vertical-align: middle;\n",
       "    }\n",
       "\n",
       "    .dataframe tbody tr th {\n",
       "        vertical-align: top;\n",
       "    }\n",
       "\n",
       "    .dataframe thead th {\n",
       "        text-align: right;\n",
       "    }\n",
       "</style>\n",
       "<table border=\"1\" class=\"dataframe\">\n",
       "  <thead>\n",
       "    <tr style=\"text-align: right;\">\n",
       "      <th></th>\n",
       "      <th>Weightage(%)</th>\n",
       "    </tr>\n",
       "  </thead>\n",
       "  <tbody>\n",
       "    <tr>\n",
       "      <th>Facebook</th>\n",
       "      <td>16.28</td>\n",
       "    </tr>\n",
       "    <tr>\n",
       "      <th>Instagram</th>\n",
       "      <td>16.65</td>\n",
       "    </tr>\n",
       "    <tr>\n",
       "      <th>Online Display</th>\n",
       "      <td>26.61</td>\n",
       "    </tr>\n",
       "    <tr>\n",
       "      <th>Online Video</th>\n",
       "      <td>12.99</td>\n",
       "    </tr>\n",
       "    <tr>\n",
       "      <th>Paid Search</th>\n",
       "      <td>27.48</td>\n",
       "    </tr>\n",
       "  </tbody>\n",
       "</table>\n",
       "</div>"
      ],
      "text/plain": [
       "                Weightage(%)\n",
       "Facebook               16.28\n",
       "Instagram              16.65\n",
       "Online Display         26.61\n",
       "Online Video           12.99\n",
       "Paid Search            27.48"
      ]
     },
     "execution_count": 45,
     "metadata": {},
     "output_type": "execute_result"
    }
   ],
   "source": [
    "u_shaped = u_shaped_model(data, 'conversion', 'channel', 'cookie')    #Calling u_shaped model function\n",
    "u_shaped"
   ]
  },
  {
   "cell_type": "code",
   "execution_count": 79,
   "id": "nuclear-turtle",
   "metadata": {},
   "outputs": [
    {
     "data": {
      "image/png": "[encoded data removed]",
      "text/plain": [
       "<Figure size 1296x432 with 1 Axes>"
      ]
     },
     "metadata": {
      "needs_background": "light"
     },
     "output_type": "display_data"
    }
   ],
   "source": [
    "plt.subplots(figsize=(18, 6))\n",
    "sns.barplot(y='Weightage(%)', x=u_shaped.index, data=u_shaped)\n",
    "plt.show()"
   ]
  },
  {
   "cell_type": "markdown",
   "id": "practical-concern",
   "metadata": {},
   "source": [
    "#### 3.Position Decay Attribution Model\n",
    "\n",
    "* The Position Decay is a multi-touch attribution model that uses an algorithm which allocates points to all the channels used to convert, giving them credit in reverse order. This model assumes that an user's interest in a product grows with every interaction, and the last one is the most important, as it determines the users to convert. That’s why the highest score is attributed to the last channel; then the score decreases progressively for  every channel until the first one. "
   ]
  },
  {
   "cell_type": "code",
   "execution_count": 46,
   "id": "surgical-binding",
   "metadata": {},
   "outputs": [],
   "source": [
    "def calc_attribution(click_pos,total_clicks):\n",
    "    rel_pos = total_clicks - click_pos\n",
    "    attribution = pow(2, -(rel_pos))       #Assigning weightage to channels in the negative power of 2 depending on their position\n",
    "    return attribution"
   ]
  },
  {
   "cell_type": "code",
   "execution_count": 47,
   "id": "filled-islam",
   "metadata": {},
   "outputs": [],
   "source": [
    "def pos_decay_model(dt, conv_col, channel_col, user_id):\n",
    "\n",
    "    #Keeping data of only those users who are getting converted at the end\n",
    "    pd.options.mode.chained_assignment = None\n",
    "    temp=dt.loc[dt[conv_col]==1]\n",
    "    cookie_index=list(temp[user_id])\n",
    "    dt['new']=dt[user_id].isin(cookie_index)\n",
    "    y=dt['new'].isin([True])\n",
    "    dt_conv=dt[y]\n",
    "\n",
    "    dt_conv['temp']=1\n",
    "    count=Counter(dt_conv[user_id])\n",
    "    dt_conv['clicks']=dt_conv[user_id].map(count)\n",
    "    dt_conv=dt_conv.assign(click_per=lambda x: round(100/dt_conv['clicks'],2))\n",
    "    dt_conv['click_pos'] = dt_conv.groupby(user_id).cumcount() + 1              #Giving ranks to channels according to user_id\n",
    "    dt_conv['PosDecay'] = dt_conv.apply(lambda val: calc_attribution(val.click_pos,val.clicks)*100,axis=1)\n",
    "    dt_pos_decay=dt_conv\n",
    "\n",
    "    #Getting the mean weightage of every channels\n",
    "    res_pos_decay=dt_pos_decay.groupby('channel', as_index=False)['PosDecay'].mean()\n",
    "    sum=res_pos_decay['PosDecay'].sum()\n",
    "    res_pos_decay['Weightage(%)']=res_pos_decay.apply(lambda x: round((x['PosDecay']/sum)*100,2),axis=1)\n",
    "    res_pos_decay.drop(['PosDecay'], axis=1,inplace=True)\n",
    "    res_pos_decay=res_pos_decay.set_index(channel_col)\n",
    "    res_pos_decay.index.name=None\n",
    "    return res_pos_decay"
   ]
  },
  {
   "cell_type": "code",
   "execution_count": 48,
   "id": "prescribed-rubber",
   "metadata": {},
   "outputs": [
    {
     "data": {
      "text/html": [
       "<div>\n",
       "<style scoped>\n",
       "    .dataframe tbody tr th:only-of-type {\n",
       "        vertical-align: middle;\n",
       "    }\n",
       "\n",
       "    .dataframe tbody tr th {\n",
       "        vertical-align: top;\n",
       "    }\n",
       "\n",
       "    .dataframe thead th {\n",
       "        text-align: right;\n",
       "    }\n",
       "</style>\n",
       "<table border=\"1\" class=\"dataframe\">\n",
       "  <thead>\n",
       "    <tr style=\"text-align: right;\">\n",
       "      <th></th>\n",
       "      <th>Weightage(%)</th>\n",
       "    </tr>\n",
       "  </thead>\n",
       "  <tbody>\n",
       "    <tr>\n",
       "      <th>Facebook</th>\n",
       "      <td>17.10</td>\n",
       "    </tr>\n",
       "    <tr>\n",
       "      <th>Instagram</th>\n",
       "      <td>17.14</td>\n",
       "    </tr>\n",
       "    <tr>\n",
       "      <th>Online Display</th>\n",
       "      <td>25.44</td>\n",
       "    </tr>\n",
       "    <tr>\n",
       "      <th>Online Video</th>\n",
       "      <td>14.68</td>\n",
       "    </tr>\n",
       "    <tr>\n",
       "      <th>Paid Search</th>\n",
       "      <td>25.64</td>\n",
       "    </tr>\n",
       "  </tbody>\n",
       "</table>\n",
       "</div>"
      ],
      "text/plain": [
       "                Weightage(%)\n",
       "Facebook               17.10\n",
       "Instagram              17.14\n",
       "Online Display         25.44\n",
       "Online Video           14.68\n",
       "Paid Search            25.64"
      ]
     },
     "execution_count": 48,
     "metadata": {},
     "output_type": "execute_result"
    }
   ],
   "source": [
    "pos_decay = pos_decay_model(data, 'conversion', 'channel', 'cookie')\n",
    "pos_decay"
   ]
  },
  {
   "cell_type": "code",
   "execution_count": 97,
   "id": "known-earth",
   "metadata": {},
   "outputs": [
    {
     "data": {
      "image/png": "[encoded data removed]",
      "text/plain": [
       "<Figure size 1296x432 with 1 Axes>"
      ]
     },
     "metadata": {
      "needs_background": "light"
     },
     "output_type": "display_data"
    }
   ],
   "source": [
    "plt.subplots(figsize=(18, 6))\n",
    "sns.barplot(y='Weightage(%)', x=pos_decay.index, data=pos_decay)\n",
    "plt.show()"
   ]
  },
  {
   "cell_type": "markdown",
   "id": "satisfied-malaysia",
   "metadata": {},
   "source": [
    "## III. Probabilistic Attribution Models\n",
    "\n",
    "* Probabilistic Attribution uses statistical modeling and machine learning techniques to derive probability of conversion across all marketing touchpoints which can then be used to weight the value of each touchpoint preceding the conversion."
   ]
  },
  {
   "cell_type": "code",
   "execution_count": 49,
   "id": "gorgeous-safety",
   "metadata": {},
   "outputs": [],
   "source": [
    "def transition_states(list_of_paths):\n",
    "    list_of_unique_channels = set(x for element in list_of_paths for x in element)\n",
    "#     print(list_of_unique_channels)\n",
    "    transition_states = {x + '>' + y: 0 for x in list_of_unique_channels for y in list_of_unique_channels}      #Creating all possible paths between any 2 channels\n",
    "\n",
    "    #Getting the frequencies for all possible combinations\n",
    "    for possible_state in list_of_unique_channels:\n",
    "        if possible_state not in ['Conversion', 'Null']:\n",
    "            for user_path in list_of_paths:\n",
    "                if possible_state in user_path:\n",
    "                    indices = [i for i, s in enumerate(user_path) if possible_state in s]       \n",
    "                    for col in indices:\n",
    "                        transition_states[user_path[col] + '>' + user_path[col + 1]] += 1\n",
    "\n",
    "    return transition_states"
   ]
  },
  {
   "cell_type": "code",
   "execution_count": 50,
   "id": "secret-mayor",
   "metadata": {},
   "outputs": [],
   "source": [
    "def transition_prob(trans_dict,list_of_paths):\n",
    "\n",
    "    #Assigning probabilities to each combination of paths of length 2\n",
    "    list_of_unique_channels = set(x for element in list_of_paths for x in element)\n",
    "    trans_prob = defaultdict(dict)\n",
    "    for state in list_of_unique_channels:\n",
    "        if state not in ['Conversion', 'Null']:\n",
    "            counter = 0\n",
    "            index = [i for i, s in enumerate(trans_dict) if state + '>' in s]\n",
    "            for col in index:\n",
    "                if trans_dict[list(trans_dict)[col]] > 0:\n",
    "                    counter += trans_dict[list(trans_dict)[col]]\n",
    "            for col in index:\n",
    "                if trans_dict[list(trans_dict)[col]] > 0:\n",
    "                    state_prob = float((trans_dict[list(trans_dict)[col]])) / float(counter)\n",
    "                    trans_prob[list(trans_dict)[col]] = state_prob\n",
    "\n",
    "    return trans_prob"
   ]
  },
  {
   "cell_type": "code",
   "execution_count": 51,
   "id": "wired-reunion",
   "metadata": {},
   "outputs": [],
   "source": [
    "def transition_matrix(list_of_paths, transition_probabilities):\n",
    "\n",
    "    #Creating a transition matrix using the probabilities of each paths of length 2\n",
    "    trans_matrix = pd.DataFrame()\n",
    "    list_of_unique_channels = set(x for element in list_of_paths for x in element)\n",
    "\n",
    "    for channel in list_of_unique_channels:\n",
    "        trans_matrix[channel] = 0.00\n",
    "        trans_matrix.loc[channel] = 0.00\n",
    "        trans_matrix.loc[channel][channel] = 1.0 if channel in ['Conversion', 'Null'] else 0.0\n",
    "\n",
    "    for key, value in transition_probabilities.items():\n",
    "        origin, destination = key.split('>')\n",
    "        trans_matrix.at[origin, destination] = value\n",
    "\n",
    "    return trans_matrix"
   ]
  },
  {
   "cell_type": "code",
   "execution_count": 52,
   "id": "tamil-consumer",
   "metadata": {},
   "outputs": [],
   "source": [
    "def removal_effects(dt, conversion_rate):\n",
    "\n",
    "    #Calculating the effect of channel if it was removed\n",
    "    removal_effects_dict = {}\n",
    "    channels = [channel for channel in dt.columns if channel not in ['Start','Null','Conversion']]\n",
    "    for channel in channels:\n",
    "        removal_dt = dt.drop(channel, axis=1).drop(channel, axis=0)\n",
    "        for column in removal_dt.columns:\n",
    "            row_sum = np.sum(list(removal_dt.loc[column]))\n",
    "            null_pct = float(1) - row_sum\n",
    "            if null_pct != 0:\n",
    "                removal_dt.loc[column]['Null'] = null_pct\n",
    "            removal_dt.loc['Null']['Null'] = 1.0\n",
    "\n",
    "        removal_to_conv = removal_dt[\n",
    "            ['Null', 'Conversion']].drop(['Null', 'Conversion'], axis=0)\n",
    "        removal_to_non_conv = removal_dt.drop(\n",
    "            ['Null', 'Conversion'], axis=1).drop(['Null', 'Conversion'], axis=0)\n",
    "\n",
    "        removal_inv_diff = np.linalg.inv(\n",
    "            np.identity(\n",
    "                len(removal_to_non_conv.columns)) - np.asarray(removal_to_non_conv))\n",
    "        removal_dot_prod = np.dot(removal_inv_diff, np.asarray(removal_to_conv))\n",
    "        removal_cvr = pd.DataFrame(removal_dot_prod,\n",
    "                                   index=removal_to_conv.index)[[1]].loc['Start'].values[0]\n",
    "        removal_effect = 1 - removal_cvr / conversion_rate\n",
    "        removal_effects_dict[channel] = removal_effect\n",
    "\n",
    "    return removal_effects_dict"
   ]
  },
  {
   "cell_type": "code",
   "execution_count": 53,
   "id": "smaller-billion",
   "metadata": {},
   "outputs": [],
   "source": [
    "def markov_chain_allocations(removal_effects, total_conversions):\n",
    "    re_sum = np.sum(list(removal_effects.values()))\n",
    "\n",
    "    return {k: (v / re_sum) * total_conversions for k, v in removal_effects.items()}"
   ]
  },
  {
   "cell_type": "code",
   "execution_count": 54,
   "id": "typical-literature",
   "metadata": {},
   "outputs": [],
   "source": [
    "def markov_model(df, conv_col, channel_col, user_id):\n",
    "    pd.options.mode.chained_assignment = None \n",
    "    df = df.sort_values(user_id)\n",
    "    df['visit_order'] = df.groupby(user_id).cumcount() + 1\n",
    "  \n",
    "    df_paths = df.groupby(user_id)[channel_col].aggregate(lambda x: x.unique().tolist()).reset_index()\n",
    "    df_last_interaction = df.drop_duplicates(user_id, keep='last')[[user_id, conv_col]]\n",
    "    df_paths = pd.merge(df_paths, df_last_interaction, how='left', on=user_id)\n",
    "\n",
    "    df_paths['start'] = [[\"Start\"] for i in range(len(df_paths[conv_col]))]\n",
    "    df_paths['buff'] = [[\"Conversion\"] for i in range(len(df_paths[conv_col]))]\n",
    "    df_paths['null'] = [[\"Null\"] for i in range(len(df_paths[conv_col]))]\n",
    "\n",
    "\n",
    "    df_paths['path'] = np.where(df_paths[conv_col] == 0, df_paths['start'] + df_paths[channel_col] + df_paths['null'], df_paths['start'] + df_paths[channel_col] + df_paths['buff'])\n",
    "    df_paths = df_paths[[user_id, 'path']]\n",
    "\n",
    "    list_of_paths = df_paths['path']\n",
    "    total_conversions = np.sum(a.count('Conversion') for a in df_paths['path'].tolist())\n",
    "    base_conversion_rate = total_conversions / len(list_of_paths)\n",
    "  \n",
    "    trans_states = transition_states(list_of_paths)\n",
    "    trans_prob = transition_prob(trans_states, list_of_paths)\n",
    "    trans_matrix = transition_matrix(list_of_paths, trans_prob)\n",
    "    removal_effects_dict = removal_effects(trans_matrix, base_conversion_rate)    #Creating a dictionary of the removal effect\n",
    "\n",
    "    attributions = markov_chain_allocations(removal_effects_dict, total_conversions)    #Allocating markov chains\n",
    "    res_markov=pd.DataFrame(attributions.values(),index=attributions.keys())\n",
    "    res_markov.columns=['weightage']\n",
    "    sum=res_markov['weightage'].sum()\n",
    "    res_markov['Weightage(%)']=res_markov.apply(lambda x: round((x['weightage']/sum)*100,2),axis=1)\n",
    "    res_markov.drop(['weightage'], axis=1,inplace=True)\n",
    "    res_markov=res_markov.sort_index()\n",
    "    return res_markov"
   ]
  },
  {
   "cell_type": "code",
   "execution_count": 55,
   "id": "greek-inspiration",
   "metadata": {},
   "outputs": [
    {
     "name": "stderr",
     "output_type": "stream",
     "text": [
      "c:\\users\\jbhsm\\anaconda3\\envs\\tf\\lib\\site-packages\\ipykernel_launcher.py:19: DeprecationWarning: Calling np.sum(generator) is deprecated, and in the future will give a different result. Use np.sum(np.fromiter(generator)) or the python sum builtin instead.\n"
     ]
    },
    {
     "data": {
      "text/html": [
       "<div>\n",
       "<style scoped>\n",
       "    .dataframe tbody tr th:only-of-type {\n",
       "        vertical-align: middle;\n",
       "    }\n",
       "\n",
       "    .dataframe tbody tr th {\n",
       "        vertical-align: top;\n",
       "    }\n",
       "\n",
       "    .dataframe thead th {\n",
       "        text-align: right;\n",
       "    }\n",
       "</style>\n",
       "<table border=\"1\" class=\"dataframe\">\n",
       "  <thead>\n",
       "    <tr style=\"text-align: right;\">\n",
       "      <th></th>\n",
       "      <th>Weightage(%)</th>\n",
       "    </tr>\n",
       "  </thead>\n",
       "  <tbody>\n",
       "    <tr>\n",
       "      <th>Facebook</th>\n",
       "      <td>28.55</td>\n",
       "    </tr>\n",
       "    <tr>\n",
       "      <th>Instagram</th>\n",
       "      <td>15.76</td>\n",
       "    </tr>\n",
       "    <tr>\n",
       "      <th>Online Display</th>\n",
       "      <td>12.85</td>\n",
       "    </tr>\n",
       "    <tr>\n",
       "      <th>Online Video</th>\n",
       "      <td>15.38</td>\n",
       "    </tr>\n",
       "    <tr>\n",
       "      <th>Paid Search</th>\n",
       "      <td>27.46</td>\n",
       "    </tr>\n",
       "  </tbody>\n",
       "</table>\n",
       "</div>"
      ],
      "text/plain": [
       "                Weightage(%)\n",
       "Facebook               28.55\n",
       "Instagram              15.76\n",
       "Online Display         12.85\n",
       "Online Video           15.38\n",
       "Paid Search            27.46"
      ]
     },
     "execution_count": 55,
     "metadata": {},
     "output_type": "execute_result"
    }
   ],
   "source": [
    "markov = markov_model(data, 'conversion', 'channel', 'cookie')\n",
    "markov"
   ]
  },
  {
   "cell_type": "code",
   "execution_count": 177,
   "id": "chicken-income",
   "metadata": {},
   "outputs": [
    {
     "data": {
      "image/png": "[encoded data removed]",
      "text/plain": [
       "<Figure size 1296x432 with 1 Axes>"
      ]
     },
     "metadata": {
      "needs_background": "light"
     },
     "output_type": "display_data"
    }
   ],
   "source": [
    "plt.subplots(figsize=(18, 6))\n",
    "sns.barplot(y='Weightage(%)', x=markov.index, data=markov)\n",
    "plt.show() "
   ]
  },
  {
   "cell_type": "markdown",
   "id": "fiscal-launch",
   "metadata": {},
   "source": [
    "#### 2.Shapley Value Model\n",
    "\n",
    "* Shapley value provide a stable way to measure channel influence and fairly divide the credit for sales conversions between the channels, based on their individual contribution to the total payoff.\n",
    "\n",
    "* As businesses strive for more accountability, efficiency, and data-driven decision making, cooperative game theory and the Shapley value provide marketing departments with an accurate and tailored solution for attribution that has the potential to deliver much more than the rules-based models are able to provide.\n",
    "\n",
    "* Shapley Attribution model should be used when the number of channels for a particular campaign is 15 or more."
   ]
  },
  {
   "cell_type": "code",
   "execution_count": 27,
   "id": "funded-feeding",
   "metadata": {},
   "outputs": [],
   "source": [
    "def power_set(List):\n",
    "\n",
    "    #Creating a power set of a given list\n",
    "    PS = [list(j) for i in range(len(List)) for j in itertools.combinations(List, i+1)]\n",
    "    return PS"
   ]
  },
  {
   "cell_type": "code",
   "execution_count": 32,
   "id": "cosmetic-banks",
   "metadata": {},
   "outputs": [],
   "source": [
    "def subsets(s):\n",
    "    '''\n",
    "    This function returns all the possible subsets of a set of channels.\n",
    "    input :\n",
    "            - s: a set of channels.\n",
    "    '''\n",
    "\n",
    "    \n",
    "    if len(s)==1:\n",
    "        return s\n",
    "    else:\n",
    "        sub_channels=[]\n",
    "        for i in range(1,len(s)+1):\n",
    "            sub_channels.extend(map(list,itertools.combinations(s, i)))\n",
    "    return list(map(\",\".join,map(sorted,sub_channels)))"
   ]
  },
  {
   "cell_type": "code",
   "execution_count": 29,
   "id": "primary-founder",
   "metadata": {},
   "outputs": [],
   "source": [
    "def v_function(A,C_values):\n",
    "    '''\n",
    "    This function computes the worth of each coalition.\n",
    "    inputs:\n",
    "            - A : a coalition of channels.\n",
    "            - C_values : A dictionnary containing the number of conversions that each subset of channels has yielded.\n",
    "    '''\n",
    "    subsets_of_A = subsets(A)\n",
    "    #print(subsets_of_A)\n",
    "    #exit()\n",
    "    worth_of_A=0\n",
    "    for subset in subsets_of_A:\n",
    "        #print(\"subset:\", subset)\n",
    "        if subset in C_values:\n",
    "            #print(\"subset:\", subset, \"; Value:\", C_values[subset])\n",
    "            worth_of_A += C_values[subset]\n",
    "    return worth_of_A"
   ]
  },
  {
   "cell_type": "code",
   "execution_count": 30,
   "id": "virtual-truck",
   "metadata": {},
   "outputs": [],
   "source": [
    "def factorial(n):\n",
    "    if n == 0:\n",
    "        return 1\n",
    "    else:\n",
    "        return n * factorial(n-1)"
   ]
  },
  {
   "cell_type": "code",
   "execution_count": 24,
   "id": "superb-attendance",
   "metadata": {},
   "outputs": [],
   "source": [
    "def calculate_shapley(df, col_name):\n",
    "    '''\n",
    "    This function returns the shapley values\n",
    "            - df: A dataframe with the two columns: ['channels_subset', 'conversion_sum'].\n",
    "            - col_name: A string that is the name of the column with conversions in the dataframe\n",
    "            **Make sure that that each value in channel_subset is in alphabetical order. Facebook,Paid Search and Paid Search,Facebook are the same \n",
    "            in regards to this analysis and should be combined under Facebook,Paid Search.\n",
    "            ***Be careful with the distinct number of channels because this can signifcantly slow the perfomance of this function.\n",
    "    '''\n",
    "    \n",
    "    c_values = df.set_index(\"channels_subset\").to_dict()[col_name]\n",
    "    df['channels'] = df['channels_subset'].apply(lambda x: x if len(x.split(\",\")) == 1 else np.nan)\n",
    "    channels = list(df['channels'].dropna().unique())\n",
    "    \n",
    "    v_values = {}\n",
    "    for A in power_set(channels):\n",
    "        v_values[','.join(sorted(A))] = v_function(A,c_values)\n",
    "    #print(v_values)\n",
    "    n=len(channels)\n",
    "    shapley_values = defaultdict(int)\n",
    "    for channel in channels:\n",
    "        for A in v_values.keys():\n",
    "            #print(A)\n",
    "            if channel not in A.split(\",\"):\n",
    "                #print(channel)\n",
    "                cardinal_A=len(A.split(\",\"))\n",
    "                A_with_channel = A.split(\",\")\n",
    "                A_with_channel.append(channel)            \n",
    "                A_with_channel=\",\".join(sorted(A_with_channel))\n",
    "                # Weight = |S|!(n-|S|-1)!/n!\n",
    "                weight = (factorial(cardinal_A)*factorial(n-cardinal_A-1)/factorial(n))\n",
    "                # Marginal contribution = v(S U {i})-v(S)\n",
    "                contrib = (v_values[A_with_channel]-v_values[A]) \n",
    "                shapley_values[channel] += weight * contrib\n",
    "        # Add the term corresponding to the empty set\n",
    "        shapley_values[channel]+= v_values[channel]/n \n",
    "        \n",
    "    return shapley_values\n"
   ]
  },
  {
   "cell_type": "code",
   "execution_count": 31,
   "id": "published-retirement",
   "metadata": {},
   "outputs": [],
   "source": [
    "def shapley_model(df, conv_col, channel_col, user_id):\n",
    "    dt_paths = df.sort_values(channel_col).groupby(user_id)[channel_col].aggregate(lambda x: x.unique().tolist()).reset_index()\n",
    "    dt_paths['channels']=[str(x) for x in dt_paths[channel_col]]\n",
    "    channel_count=Counter(dt_paths['channels'])\n",
    "    channel_ct=pd.DataFrame(channel_count.items())\n",
    "    channel_ct[0] =  channel_ct[0].apply(lambda x: x.replace('[','').replace(']','').replace(\"'\",\"\").replace(\", \",\",\"))\n",
    "    channel_ct.columns=['channels_subset','conversion_sum']\n",
    "    attribution=calculate_shapley(channel_ct,'conversion_sum')\n",
    "    res_shapley=pd.DataFrame(attribution.values(),index=attribution.keys())\n",
    "    res_shapley.columns=['weightage']\n",
    "    summ=res_shapley['weightage'].sum()\n",
    "    res_shapley['Weightage(%)']=res_shapley.apply(lambda x: round((x['weightage']/summ)*100,2),axis=1)\n",
    "    res_shapley.drop(['weightage'], axis=1,inplace=True)\n",
    "    res_shapley = res_shapley.sort_index()\n",
    "    return res_shapley"
   ]
  },
  {
   "cell_type": "code",
   "execution_count": 33,
   "id": "impaired-stopping",
   "metadata": {},
   "outputs": [
    {
     "data": {
      "text/html": [
       "<div>\n",
       "<style scoped>\n",
       "    .dataframe tbody tr th:only-of-type {\n",
       "        vertical-align: middle;\n",
       "    }\n",
       "\n",
       "    .dataframe tbody tr th {\n",
       "        vertical-align: top;\n",
       "    }\n",
       "\n",
       "    .dataframe thead th {\n",
       "        text-align: right;\n",
       "    }\n",
       "</style>\n",
       "<table border=\"1\" class=\"dataframe\">\n",
       "  <thead>\n",
       "    <tr style=\"text-align: right;\">\n",
       "      <th></th>\n",
       "      <th>Weightage(%)</th>\n",
       "    </tr>\n",
       "  </thead>\n",
       "  <tbody>\n",
       "    <tr>\n",
       "      <th>Facebook</th>\n",
       "      <td>27.29</td>\n",
       "    </tr>\n",
       "    <tr>\n",
       "      <th>Instagram</th>\n",
       "      <td>13.11</td>\n",
       "    </tr>\n",
       "    <tr>\n",
       "      <th>Online Display</th>\n",
       "      <td>14.26</td>\n",
       "    </tr>\n",
       "    <tr>\n",
       "      <th>Online Video</th>\n",
       "      <td>14.27</td>\n",
       "    </tr>\n",
       "    <tr>\n",
       "      <th>Paid Search</th>\n",
       "      <td>31.06</td>\n",
       "    </tr>\n",
       "  </tbody>\n",
       "</table>\n",
       "</div>"
      ],
      "text/plain": [
       "                Weightage(%)\n",
       "Facebook               27.29\n",
       "Instagram              13.11\n",
       "Online Display         14.26\n",
       "Online Video           14.27\n",
       "Paid Search            31.06"
      ]
     },
     "execution_count": 33,
     "metadata": {},
     "output_type": "execute_result"
    }
   ],
   "source": [
    "shapley=shapley_model(data, 'conversion', 'channel', 'cookie')\n",
    "shapley"
   ]
  },
  {
   "cell_type": "code",
   "execution_count": 34,
   "id": "fatal-equation",
   "metadata": {},
   "outputs": [
    {
     "data": {
      "image/png": "[encoded data removed]",
      "text/plain": [
       "<Figure size 1296x432 with 1 Axes>"
      ]
     },
     "metadata": {
      "needs_background": "light"
     },
     "output_type": "display_data"
    }
   ],
   "source": [
    "#visualizations\n",
    "plt.subplots(figsize=(18, 6))\n",
    "sns.barplot(y='Weightage(%)', x=shapley.index, data=shapley)\n",
    "plt.show()"
   ]
  },
  {
   "cell_type": "markdown",
   "id": "brave-hobby",
   "metadata": {},
   "source": [
    "### Table of Result"
   ]
  },
  {
   "cell_type": "code",
   "execution_count": 56,
   "id": "focal-induction",
   "metadata": {
    "scrolled": true
   },
   "outputs": [
    {
     "data": {
      "text/html": [
       "<div>\n",
       "<style scoped>\n",
       "    .dataframe tbody tr th:only-of-type {\n",
       "        vertical-align: middle;\n",
       "    }\n",
       "\n",
       "    .dataframe tbody tr th {\n",
       "        vertical-align: top;\n",
       "    }\n",
       "\n",
       "    .dataframe thead th {\n",
       "        text-align: right;\n",
       "    }\n",
       "</style>\n",
       "<table border=\"1\" class=\"dataframe\">\n",
       "  <thead>\n",
       "    <tr style=\"text-align: right;\">\n",
       "      <th></th>\n",
       "      <th>Last-Touch</th>\n",
       "      <th>First-Touch</th>\n",
       "      <th>Last-Non-direct</th>\n",
       "      <th>Linear</th>\n",
       "      <th>U-shaped</th>\n",
       "      <th>Position Decay</th>\n",
       "      <th>Markov</th>\n",
       "      <th>Shapley</th>\n",
       "      <th>Mean</th>\n",
       "    </tr>\n",
       "  </thead>\n",
       "  <tbody>\n",
       "    <tr>\n",
       "      <th>Facebook</th>\n",
       "      <td>30.05</td>\n",
       "      <td>32.59</td>\n",
       "      <td>29.97</td>\n",
       "      <td>16.28</td>\n",
       "      <td>16.28</td>\n",
       "      <td>17.10</td>\n",
       "      <td>28.55</td>\n",
       "      <td>27.29</td>\n",
       "      <td>24.76</td>\n",
       "    </tr>\n",
       "    <tr>\n",
       "      <th>Paid Search</th>\n",
       "      <td>25.78</td>\n",
       "      <td>18.47</td>\n",
       "      <td>24.97</td>\n",
       "      <td>27.63</td>\n",
       "      <td>27.48</td>\n",
       "      <td>25.64</td>\n",
       "      <td>27.46</td>\n",
       "      <td>31.06</td>\n",
       "      <td>26.06</td>\n",
       "    </tr>\n",
       "    <tr>\n",
       "      <th>Online Video</th>\n",
       "      <td>19.32</td>\n",
       "      <td>25.20</td>\n",
       "      <td>20.47</td>\n",
       "      <td>13.11</td>\n",
       "      <td>12.99</td>\n",
       "      <td>14.68</td>\n",
       "      <td>15.38</td>\n",
       "      <td>14.27</td>\n",
       "      <td>16.93</td>\n",
       "    </tr>\n",
       "    <tr>\n",
       "      <th>Instagram</th>\n",
       "      <td>12.72</td>\n",
       "      <td>14.78</td>\n",
       "      <td>13.22</td>\n",
       "      <td>16.56</td>\n",
       "      <td>16.65</td>\n",
       "      <td>17.14</td>\n",
       "      <td>15.76</td>\n",
       "      <td>13.11</td>\n",
       "      <td>14.99</td>\n",
       "    </tr>\n",
       "    <tr>\n",
       "      <th>Online Display</th>\n",
       "      <td>12.13</td>\n",
       "      <td>8.95</td>\n",
       "      <td>11.37</td>\n",
       "      <td>26.43</td>\n",
       "      <td>26.61</td>\n",
       "      <td>25.44</td>\n",
       "      <td>12.85</td>\n",
       "      <td>14.26</td>\n",
       "      <td>17.26</td>\n",
       "    </tr>\n",
       "  </tbody>\n",
       "</table>\n",
       "</div>"
      ],
      "text/plain": [
       "                Last-Touch  First-Touch  Last-Non-direct  Linear  U-shaped  \\\n",
       "Facebook             30.05        32.59            29.97   16.28     16.28   \n",
       "Paid Search          25.78        18.47            24.97   27.63     27.48   \n",
       "Online Video         19.32        25.20            20.47   13.11     12.99   \n",
       "Instagram            12.72        14.78            13.22   16.56     16.65   \n",
       "Online Display       12.13         8.95            11.37   26.43     26.61   \n",
       "\n",
       "                Position Decay  Markov  Shapley   Mean  \n",
       "Facebook                 17.10   28.55    27.29  24.76  \n",
       "Paid Search              25.64   27.46    31.06  26.06  \n",
       "Online Video             14.68   15.38    14.27  16.93  \n",
       "Instagram                17.14   15.76    13.11  14.99  \n",
       "Online Display           25.44   12.85    14.26  17.26  "
      ]
     },
     "execution_count": 56,
     "metadata": {},
     "output_type": "execute_result"
    }
   ],
   "source": [
    "Combined_dataframe = pd.concat([last_touch,first_touch,last_non_direct,linear,u_shaped,pos_decay,markov,shapley],axis=1)\n",
    "Combined_dataframe.columns=['Last-Touch','First-Touch','Last-Non-direct','Linear','U-shaped','Position Decay','Markov','Shapley']\n",
    "Combined_dataframe['Mean'] = round(Combined_dataframe.mean(axis=1),2)\n",
    "Combined_dataframe"
   ]
  },
  {
   "cell_type": "markdown",
   "id": "applied-specialist",
   "metadata": {},
   "source": [
    "### Graphs"
   ]
  },
  {
   "cell_type": "code",
   "execution_count": 57,
   "id": "municipal-yukon",
   "metadata": {},
   "outputs": [
    {
     "data": {
      "image/png": "[encoded data removed]",
      "text/plain": [
       "<Figure size 432x288 with 1 Axes>"
      ]
     },
     "metadata": {
      "needs_background": "light"
     },
     "output_type": "display_data"
    },
    {
     "name": "stdout",
     "output_type": "stream",
     "text": [
      "\n"
     ]
    },
    {
     "data": {
      "image/png": "[encoded data removed]",
      "text/plain": [
       "<Figure size 432x288 with 1 Axes>"
      ]
     },
     "metadata": {
      "needs_background": "light"
     },
     "output_type": "display_data"
    },
    {
     "name": "stdout",
     "output_type": "stream",
     "text": [
      "\n"
     ]
    },
    {
     "data": {
      "image/png": "[encoded data removed]",
      "text/plain": [
       "<Figure size 432x288 with 1 Axes>"
      ]
     },
     "metadata": {
      "needs_background": "light"
     },
     "output_type": "display_data"
    }
   ],
   "source": [
    "X_axis = np.arange(len(first_touch.index))\n",
    "plt.bar(X_axis - 0.2, last_touch['Weightage(%)'],0.2,label='last touch')\n",
    "plt.bar(X_axis , first_touch['Weightage(%)'],0.2,label='first touch')\n",
    "plt.bar(X_axis + 0.2, last_non_direct['Weightage(%)'],0.2,label='last non-direct touch')\n",
    "plt.xticks(X_axis, first_touch.index)\n",
    "plt.legend()\n",
    "plt.show()\n",
    "\n",
    "print()\n",
    "\n",
    "X_axis = np.arange(len(first_touch.index))\n",
    "plt.bar(X_axis - 0.2, linear['Weightage(%)'],0.2,label='linear model')\n",
    "plt.bar(X_axis , u_shaped['Weightage(%)'],0.2,label='U-shaped model')\n",
    "plt.bar(X_axis + 0.2, pos_decay['Weightage(%)'],0.2,label='position decay model')\n",
    "plt.xticks(X_axis, first_touch.index)\n",
    "plt.legend()\n",
    "plt.show()\n",
    "\n",
    "print()\n",
    "\n",
    "X_axis = np.arange(len(markov.index))\n",
    "plt.bar(X_axis - 0.2, markov['Weightage(%)'],0.4,label='markov-chain model model')\n",
    "plt.bar(X_axis + 0.2, shapley['Weightage(%)'],0.4,label='shapley value model')\n",
    "plt.xticks(X_axis, first_touch.index)\n",
    "plt.legend()\n",
    "plt.show()"
   ]
  },
  {
   "cell_type": "markdown",
   "id": "floating-parent",
   "metadata": {},
   "source": [
    "### Budget Optimization"
   ]
  },
  {
   "cell_type": "code",
   "execution_count": 66,
   "id": "adequate-daisy",
   "metadata": {},
   "outputs": [
    {
     "name": "stdout",
     "output_type": "stream",
     "text": [
      "Enter campaign budget: 10000\n"
     ]
    }
   ],
   "source": [
    "m=GEKKO()\n",
    "n=5\n",
    "budget=int(input(\"Enter campaign budget: \"))      #Taking input of the budget for a campaign"
   ]
  },
  {
   "cell_type": "code",
   "execution_count": 70,
   "id": "collect-intelligence",
   "metadata": {},
   "outputs": [],
   "source": [
    "coeff_A = Combined_dataframe['Mean'].tolist()"
   ]
  },
  {
   "cell_type": "code",
   "execution_count": 71,
   "id": "revised-library",
   "metadata": {},
   "outputs": [
    {
     "data": {
      "text/plain": [
       "['Facebook', 'Instagram', 'Online Display', 'Online Video', 'Paid Search']"
      ]
     },
     "execution_count": 71,
     "metadata": {},
     "output_type": "execute_result"
    }
   ],
   "source": [
    "ch_names=list(sorted(Combined_dataframe.index))\n",
    "ch_names"
   ]
  },
  {
   "cell_type": "code",
   "execution_count": 72,
   "id": "exceptional-hygiene",
   "metadata": {},
   "outputs": [],
   "source": [
    "#Assigning lower bound and upper bound to each channel\n",
    "x1 = m.Var(lb=100, ub=budget)       \n",
    "x2 = m.Var(lb=100, ub=budget)\n",
    "x3 = m.Var(lb=100, ub=budget)\n",
    "x4 = m.Var(lb=100, ub=budget)\n",
    "x5 = m.Var(lb=100, ub=budget)"
   ]
  },
  {
   "cell_type": "code",
   "execution_count": 73,
   "id": "german-giant",
   "metadata": {},
   "outputs": [
    {
     "name": "stdout",
     "output_type": "stream",
     "text": [
      "Channel 1 should not exceed : 2000\n",
      "Channel 2 should not exceed : 3500\n",
      "Channel 3 should not exceed : 2500\n",
      "Channel 4 should not exceed : 3400\n",
      "Channel 5 should not exceed : 3000\n"
     ]
    }
   ],
   "source": [
    "for j in range(n):\n",
    "    print(\"Channel\",j+1,\"should not exceed : \", end='')     #Taking input of upper bound spending on each channel\n",
    "    z=int(input())\n",
    "    m.Equation(globals()[\"x\" + str(j+1)] <= z)"
   ]
  },
  {
   "cell_type": "code",
   "execution_count": 74,
   "id": "charged-swaziland",
   "metadata": {},
   "outputs": [],
   "source": [
    "m.Equation(x1+x2+x3+x4+x5 <= budget)\n",
    "m.Maximize(coeff_A[0]*x1 + coeff_A[1]*x2 + coeff_A[2]*x3 + coeff_A[3]*x4 + coeff_A[4]*x5)"
   ]
  },
  {
   "cell_type": "code",
   "execution_count": 75,
   "id": "expressed-guarantee",
   "metadata": {},
   "outputs": [],
   "source": [
    "m.solve(disp=False)\n",
    "p1 = x1.value[0]\n",
    "p2 = x2.value[0]\n",
    "p3 = x3.value[0]\n",
    "p4 = x4.value[0]\n",
    "p5 = x5.value[0]"
   ]
  },
  {
   "cell_type": "code",
   "execution_count": 76,
   "id": "previous-texas",
   "metadata": {},
   "outputs": [
    {
     "name": "stdout",
     "output_type": "stream",
     "text": [
      "\n",
      "\n",
      "Budgets:\n",
      "\n",
      "\n",
      "Facebook: 2000.0\n",
      "Instagram: 2000.0\n",
      "Online Display: 2500.0\n",
      "Online Video: 500.0\n",
      "Paid Search: 3000.0\n"
     ]
    }
   ],
   "source": [
    "#Printing the budget along with the channel names\n",
    "print('\\n\\nBudgets:\\n\\n')\n",
    "print(ch_names[0] + \": \" + str(round(p1,0)))\n",
    "print(ch_names[1] + \": \" + str(round(p2,0)))\n",
    "print(ch_names[2] + \": \" + str(round(p3,0)))\n",
    "print(ch_names[3] + \": \" + str(round(p4,0)))\n",
    "print(ch_names[4] + \": \" + str(round(p5,0)))"
   ]
  },
  {
   "cell_type": "code",
   "execution_count": null,
   "id": "interested-tunnel",
   "metadata": {},
   "outputs": [],
   "source": []
  }
 ],
 "metadata": {
  "kernelspec": {
   "display_name": "Python 3",
   "language": "python",
   "name": "python3"
  },
  "language_info": {
   "codemirror_mode": {
    "name": "ipython",
    "version": 3
   },
   "file_extension": ".py",
   "mimetype": "text/x-python",
   "name": "python",
   "nbconvert_exporter": "python",
   "pygments_lexer": "ipython3",
   "version": "3.7.9"
  }
 },
 "nbformat": 4,
 "nbformat_minor": 5
}
