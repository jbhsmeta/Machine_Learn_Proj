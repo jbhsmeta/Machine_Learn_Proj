{
 "cells": [
  {
   "cell_type": "markdown",
   "id": "b4d361c6",
   "metadata": {},
   "source": [
    "## License Status Prediction  - Multiclass Classification - Imbalanced Dataset - EDA - Part 2 - Modelling"
   ]
  },
  {
   "cell_type": "code",
   "execution_count": 1,
   "id": "24b463c3",
   "metadata": {},
   "outputs": [],
   "source": [
    "import pandas as pd\n",
    "import numpy as np\n",
    "import matplotlib.pyplot as plt\n",
    "%matplotlib inline"
   ]
  },
  {
   "cell_type": "code",
   "execution_count": 8,
   "id": "4f314707",
   "metadata": {},
   "outputs": [],
   "source": [
    "import warnings\n",
    "warnings.filterwarnings(\"ignore\")"
   ]
  },
  {
   "cell_type": "code",
   "execution_count": 23,
   "id": "bfbc1d64",
   "metadata": {},
   "outputs": [],
   "source": [
    "# Loading the dataframe\n",
    "df=pd.read_csv('sampled_df.csv')"
   ]
  },
  {
   "cell_type": "code",
   "execution_count": 24,
   "id": "3cd18ae5",
   "metadata": {},
   "outputs": [
    {
     "data": {
      "text/html": [
       "<div>\n",
       "<style scoped>\n",
       "    .dataframe tbody tr th:only-of-type {\n",
       "        vertical-align: middle;\n",
       "    }\n",
       "\n",
       "    .dataframe tbody tr th {\n",
       "        vertical-align: top;\n",
       "    }\n",
       "\n",
       "    .dataframe thead th {\n",
       "        text-align: right;\n",
       "    }\n",
       "</style>\n",
       "<table border=\"1\" class=\"dataframe\">\n",
       "  <thead>\n",
       "    <tr style=\"text-align: right;\">\n",
       "      <th></th>\n",
       "      <th>latitude</th>\n",
       "      <th>longitude</th>\n",
       "      <th>license_status_change</th>\n",
       "      <th>target</th>\n",
       "      <th>completion_to_start</th>\n",
       "      <th>start_to_expiry</th>\n",
       "      <th>approval_to_issuance</th>\n",
       "      <th>completion_to_payment</th>\n",
       "      <th>presence_of_enquiry_details</th>\n",
       "      <th>license_description_tar_enc</th>\n",
       "      <th>state_tar_enc</th>\n",
       "      <th>city_tar_enc</th>\n",
       "      <th>conditional_approval_Y</th>\n",
       "      <th>application_type_C_EXPA</th>\n",
       "      <th>application_type_C_LOC</th>\n",
       "      <th>application_type_ISSUE</th>\n",
       "      <th>application_type_RENEW</th>\n",
       "    </tr>\n",
       "  </thead>\n",
       "  <tbody>\n",
       "    <tr>\n",
       "      <th>0</th>\n",
       "      <td>41.978665</td>\n",
       "      <td>-87.699738</td>\n",
       "      <td>0</td>\n",
       "      <td>0</td>\n",
       "      <td>63.0</td>\n",
       "      <td>730.0</td>\n",
       "      <td>0.0</td>\n",
       "      <td>42.0</td>\n",
       "      <td>0</td>\n",
       "      <td>0.119616</td>\n",
       "      <td>0.64244</td>\n",
       "      <td>0.320896</td>\n",
       "      <td>0</td>\n",
       "      <td>0</td>\n",
       "      <td>0</td>\n",
       "      <td>0</td>\n",
       "      <td>1</td>\n",
       "    </tr>\n",
       "    <tr>\n",
       "      <th>1</th>\n",
       "      <td>42.003605</td>\n",
       "      <td>-87.664156</td>\n",
       "      <td>0</td>\n",
       "      <td>0</td>\n",
       "      <td>50.0</td>\n",
       "      <td>364.0</td>\n",
       "      <td>1.0</td>\n",
       "      <td>28.0</td>\n",
       "      <td>0</td>\n",
       "      <td>0.450820</td>\n",
       "      <td>0.64244</td>\n",
       "      <td>0.320896</td>\n",
       "      <td>0</td>\n",
       "      <td>0</td>\n",
       "      <td>0</td>\n",
       "      <td>0</td>\n",
       "      <td>1</td>\n",
       "    </tr>\n",
       "    <tr>\n",
       "      <th>2</th>\n",
       "      <td>41.880571</td>\n",
       "      <td>-87.680934</td>\n",
       "      <td>0</td>\n",
       "      <td>0</td>\n",
       "      <td>63.0</td>\n",
       "      <td>729.0</td>\n",
       "      <td>1.0</td>\n",
       "      <td>61.0</td>\n",
       "      <td>0</td>\n",
       "      <td>0.765823</td>\n",
       "      <td>0.64244</td>\n",
       "      <td>0.892925</td>\n",
       "      <td>0</td>\n",
       "      <td>0</td>\n",
       "      <td>0</td>\n",
       "      <td>0</td>\n",
       "      <td>1</td>\n",
       "    </tr>\n",
       "    <tr>\n",
       "      <th>3</th>\n",
       "      <td>41.890130</td>\n",
       "      <td>-87.699736</td>\n",
       "      <td>0</td>\n",
       "      <td>0</td>\n",
       "      <td>62.0</td>\n",
       "      <td>729.0</td>\n",
       "      <td>3.0</td>\n",
       "      <td>32.0</td>\n",
       "      <td>0</td>\n",
       "      <td>0.757458</td>\n",
       "      <td>0.64244</td>\n",
       "      <td>0.320896</td>\n",
       "      <td>0</td>\n",
       "      <td>0</td>\n",
       "      <td>0</td>\n",
       "      <td>0</td>\n",
       "      <td>1</td>\n",
       "    </tr>\n",
       "    <tr>\n",
       "      <th>4</th>\n",
       "      <td>41.867569</td>\n",
       "      <td>-87.685916</td>\n",
       "      <td>0</td>\n",
       "      <td>0</td>\n",
       "      <td>93.0</td>\n",
       "      <td>395.0</td>\n",
       "      <td>1.0</td>\n",
       "      <td>0.0</td>\n",
       "      <td>0</td>\n",
       "      <td>0.158552</td>\n",
       "      <td>0.64244</td>\n",
       "      <td>0.320896</td>\n",
       "      <td>0</td>\n",
       "      <td>0</td>\n",
       "      <td>0</td>\n",
       "      <td>1</td>\n",
       "      <td>0</td>\n",
       "    </tr>\n",
       "  </tbody>\n",
       "</table>\n",
       "</div>"
      ],
      "text/plain": [
       "    latitude  longitude  license_status_change  target  completion_to_start  \\\n",
       "0  41.978665 -87.699738                      0       0                 63.0   \n",
       "1  42.003605 -87.664156                      0       0                 50.0   \n",
       "2  41.880571 -87.680934                      0       0                 63.0   \n",
       "3  41.890130 -87.699736                      0       0                 62.0   \n",
       "4  41.867569 -87.685916                      0       0                 93.0   \n",
       "\n",
       "   start_to_expiry  approval_to_issuance  completion_to_payment  \\\n",
       "0            730.0                   0.0                   42.0   \n",
       "1            364.0                   1.0                   28.0   \n",
       "2            729.0                   1.0                   61.0   \n",
       "3            729.0                   3.0                   32.0   \n",
       "4            395.0                   1.0                    0.0   \n",
       "\n",
       "   presence_of_enquiry_details  license_description_tar_enc  state_tar_enc  \\\n",
       "0                            0                     0.119616        0.64244   \n",
       "1                            0                     0.450820        0.64244   \n",
       "2                            0                     0.765823        0.64244   \n",
       "3                            0                     0.757458        0.64244   \n",
       "4                            0                     0.158552        0.64244   \n",
       "\n",
       "   city_tar_enc  conditional_approval_Y  application_type_C_EXPA  \\\n",
       "0      0.320896                       0                        0   \n",
       "1      0.320896                       0                        0   \n",
       "2      0.892925                       0                        0   \n",
       "3      0.320896                       0                        0   \n",
       "4      0.320896                       0                        0   \n",
       "\n",
       "   application_type_C_LOC  application_type_ISSUE  application_type_RENEW  \n",
       "0                       0                       0                       1  \n",
       "1                       0                       0                       1  \n",
       "2                       0                       0                       1  \n",
       "3                       0                       0                       1  \n",
       "4                       0                       1                       0  "
      ]
     },
     "execution_count": 24,
     "metadata": {},
     "output_type": "execute_result"
    }
   ],
   "source": [
    "df.head()"
   ]
  },
  {
   "cell_type": "code",
   "execution_count": 25,
   "id": "54414200",
   "metadata": {},
   "outputs": [],
   "source": [
    "X=df.drop('target', axis=1)\n",
    "y=df.target"
   ]
  },
  {
   "cell_type": "code",
   "execution_count": 26,
   "id": "65f87941",
   "metadata": {},
   "outputs": [],
   "source": [
    "# Train/test preparation\n",
    "from sklearn.model_selection import train_test_split\n",
    "\n",
    "X_train, X_test, y_train, y_test = train_test_split(X,y, test_size=0.1)"
   ]
  },
  {
   "cell_type": "code",
   "execution_count": 86,
   "id": "2ccbc2ee",
   "metadata": {},
   "outputs": [],
   "source": [
    "#storage of F1 score of all the values for comparison\n",
    "model_perform=dict()"
   ]
  },
  {
   "cell_type": "code",
   "execution_count": 88,
   "id": "356896fe",
   "metadata": {},
   "outputs": [],
   "source": [
    "from sklearn import metrics"
   ]
  },
  {
   "cell_type": "markdown",
   "id": "664bf9cd",
   "metadata": {},
   "source": [
    "### Model -1 - kNeighbor Classfier"
   ]
  },
  {
   "cell_type": "code",
   "execution_count": 87,
   "id": "063779cd",
   "metadata": {},
   "outputs": [],
   "source": [
    "from sklearn.neighbors import KNeighborsClassifier\n",
    "knn_model = KNeighborsClassifier(n_neighbors=3)"
   ]
  },
  {
   "cell_type": "code",
   "execution_count": 89,
   "id": "9e5c2a23",
   "metadata": {},
   "outputs": [],
   "source": [
    "# Scaling\n",
    "from sklearn.preprocessing import MinMaxScaler\n",
    "scaler = MinMaxScaler()\n",
    "scaler.fit(X_train)\n",
    "knn_model.fit((scaler.transform(X_train)),y_train)\n",
    "scaler.fit(X_test)\n",
    "y_pred = knn_model.predict(scaler.transform(X_test))"
   ]
  },
  {
   "cell_type": "code",
   "execution_count": 90,
   "id": "01ba5b87",
   "metadata": {},
   "outputs": [],
   "source": [
    "f_score=metrics.f1_score(y_test,y_pred,average=\"macro\")"
   ]
  },
  {
   "cell_type": "code",
   "execution_count": 91,
   "id": "caaa0747",
   "metadata": {},
   "outputs": [],
   "source": [
    "model_perform['knn']=f_score"
   ]
  },
  {
   "cell_type": "code",
   "execution_count": 28,
   "id": "cbbb1057",
   "metadata": {},
   "outputs": [
    {
     "name": "stdout",
     "output_type": "stream",
     "text": [
      "              precision    recall  f1-score   support\n",
      "\n",
      "           0       0.92      0.97      0.94       910\n",
      "           1       1.00      1.00      1.00      1648\n",
      "           2       0.00      0.00      0.00        51\n",
      "           3       0.86      0.58      0.69        33\n",
      "           4       0.41      0.50      0.45        54\n",
      "\n",
      "    accuracy                           0.96      2696\n",
      "   macro avg       0.64      0.61      0.62      2696\n",
      "weighted avg       0.94      0.96      0.95      2696\n",
      "\n"
     ]
    }
   ],
   "source": [
    "# Metrics Performance\n",
    "from sklearn.metrics import classification_report\n",
    "from sklearn.metrics import classification_report,confusion_matrix\n",
    "print(classification_report(y_test,y_pred))"
   ]
  },
  {
   "cell_type": "markdown",
   "id": "22cc9c4b",
   "metadata": {},
   "source": [
    "### Model -2 - Logistic Regression"
   ]
  },
  {
   "cell_type": "code",
   "execution_count": 92,
   "id": "1179fcd6",
   "metadata": {},
   "outputs": [],
   "source": [
    "from sklearn.linear_model import LogisticRegression\n",
    "log_model = LogisticRegression()\n",
    "log_model.fit(X_train, y_train)\n",
    "y_pred = log_model.predict(X_test)"
   ]
  },
  {
   "cell_type": "code",
   "execution_count": 30,
   "id": "b92768ba",
   "metadata": {
    "scrolled": true
   },
   "outputs": [
    {
     "name": "stdout",
     "output_type": "stream",
     "text": [
      "              precision    recall  f1-score   support\n",
      "\n",
      "           0       0.51      0.39      0.44       910\n",
      "           1       0.69      0.82      0.75      1648\n",
      "           2       0.00      0.00      0.00        51\n",
      "           3       0.00      0.00      0.00        33\n",
      "           4       0.00      0.00      0.00        54\n",
      "\n",
      "    accuracy                           0.64      2696\n",
      "   macro avg       0.24      0.24      0.24      2696\n",
      "weighted avg       0.59      0.64      0.61      2696\n",
      "\n"
     ]
    }
   ],
   "source": [
    "# Metrics Performance\n",
    "print(classification_report(y_test,y_pred))"
   ]
  },
  {
   "cell_type": "code",
   "execution_count": 93,
   "id": "67f0ec6f",
   "metadata": {},
   "outputs": [],
   "source": [
    "f_score=metrics.f1_score(y_test,y_pred,average=\"macro\")\n",
    "model_perform['logreg']=f_score"
   ]
  },
  {
   "cell_type": "markdown",
   "id": "f6c60bd9",
   "metadata": {},
   "source": [
    "### Model -3 - Naive Bayes"
   ]
  },
  {
   "cell_type": "code",
   "execution_count": 95,
   "id": "3f6a3d67",
   "metadata": {},
   "outputs": [],
   "source": [
    "from sklearn.naive_bayes import GaussianNB\n",
    "nb_model = GaussianNB()\n",
    "y_pred = nb_model.fit(X_train, y_train).predict(X_test)"
   ]
  },
  {
   "cell_type": "code",
   "execution_count": 32,
   "id": "8ac01366",
   "metadata": {
    "scrolled": true
   },
   "outputs": [
    {
     "name": "stdout",
     "output_type": "stream",
     "text": [
      "              precision    recall  f1-score   support\n",
      "\n",
      "           0       0.99      0.22      0.36       910\n",
      "           1       1.00      1.00      1.00      1648\n",
      "           2       1.00      1.00      1.00        51\n",
      "           3       0.27      1.00      0.43        33\n",
      "           4       0.06      0.76      0.11        54\n",
      "\n",
      "    accuracy                           0.73      2696\n",
      "   macro avg       0.66      0.80      0.58      2696\n",
      "weighted avg       0.97      0.73      0.76      2696\n",
      "\n"
     ]
    }
   ],
   "source": [
    "# Metrics Performance\n",
    "print(classification_report(y_test,y_pred))"
   ]
  },
  {
   "cell_type": "code",
   "execution_count": 96,
   "id": "f916e480",
   "metadata": {},
   "outputs": [],
   "source": [
    "f_score=metrics.f1_score(y_test,y_pred,average=\"macro\")\n",
    "model_perform['nb']=f_score"
   ]
  },
  {
   "cell_type": "markdown",
   "id": "bd95f3c8",
   "metadata": {},
   "source": [
    "### Model -4 - Decision Tree"
   ]
  },
  {
   "cell_type": "code",
   "execution_count": 97,
   "id": "14c0ebb4",
   "metadata": {},
   "outputs": [],
   "source": [
    "from sklearn.tree import DecisionTreeClassifier\n",
    "dt_model = DecisionTreeClassifier(random_state=0)\n",
    "y_pred = dt_model.fit(X_train, y_train).predict(X_test)"
   ]
  },
  {
   "cell_type": "code",
   "execution_count": 34,
   "id": "21fea9aa",
   "metadata": {
    "scrolled": true
   },
   "outputs": [
    {
     "name": "stdout",
     "output_type": "stream",
     "text": [
      "              precision    recall  f1-score   support\n",
      "\n",
      "           0       0.99      0.98      0.99       910\n",
      "           1       1.00      1.00      1.00      1648\n",
      "           2       0.96      1.00      0.98        51\n",
      "           3       1.00      1.00      1.00        33\n",
      "           4       0.76      0.89      0.82        54\n",
      "\n",
      "    accuracy                           0.99      2696\n",
      "   macro avg       0.94      0.97      0.96      2696\n",
      "weighted avg       0.99      0.99      0.99      2696\n",
      "\n"
     ]
    }
   ],
   "source": [
    "# Metrics Performance\n",
    "print(classification_report(y_test,y_pred))"
   ]
  },
  {
   "cell_type": "code",
   "execution_count": 98,
   "id": "5ebaccf1",
   "metadata": {},
   "outputs": [],
   "source": [
    "f_score=metrics.f1_score(y_test,y_pred,average=\"macro\")\n",
    "model_perform['dt']=f_score"
   ]
  },
  {
   "cell_type": "code",
   "execution_count": 16,
   "id": "535865d6",
   "metadata": {},
   "outputs": [
    {
     "name": "stdout",
     "output_type": "stream",
     "text": [
      "[[ 885    0    1    0   23]\n",
      " [   0 1658    0    0    0]\n",
      " [   0    0   30    0    0]\n",
      " [   0    0    0   41    0]\n",
      " [   6    0    0    0   52]]\n"
     ]
    }
   ],
   "source": [
    "print(confusion_matrix(y_test,y_pred))"
   ]
  },
  {
   "cell_type": "code",
   "execution_count": 35,
   "id": "507e0a61",
   "metadata": {},
   "outputs": [],
   "source": [
    "# Finding the variable with more importance\n",
    "feature_importance = pd.DataFrame([X_train.columns, dt_model.feature_importances_])\n",
    "feature_importance = feature_importance.T.sort_values(by = 1, ascending=False)[1:10]"
   ]
  },
  {
   "cell_type": "code",
   "execution_count": 36,
   "id": "370fc177",
   "metadata": {},
   "outputs": [
    {
     "data": {
      "image/png": "[encoded data removed]",
      "text/plain": [
       "<Figure size 432x288 with 1 Axes>"
      ]
     },
     "metadata": {
      "needs_background": "light"
     },
     "output_type": "display_data"
    }
   ],
   "source": [
    "import seaborn as sns\n",
    "sns.barplot(x=feature_importance[1], y=feature_importance[0])\n",
    "# Add labels to the graph\n",
    "plt.xlabel('Feature Importance Score')\n",
    "plt.ylabel('Features')\n",
    "plt.title(\"Visualizing Important Features\")\n",
    "plt.show()"
   ]
  },
  {
   "cell_type": "markdown",
   "id": "06507936",
   "metadata": {},
   "source": [
    "### Model -5 - Random Forest Classifier"
   ]
  },
  {
   "cell_type": "code",
   "execution_count": 99,
   "id": "d511ab5b",
   "metadata": {},
   "outputs": [],
   "source": [
    "from sklearn.ensemble import RandomForestClassifier\n",
    "rf_model = RandomForestClassifier(random_state=1)\n",
    "y_pred = rf_model.fit(X_train, y_train).predict(X_test)"
   ]
  },
  {
   "cell_type": "code",
   "execution_count": 38,
   "id": "2833e026",
   "metadata": {
    "scrolled": true
   },
   "outputs": [
    {
     "name": "stdout",
     "output_type": "stream",
     "text": [
      "              precision    recall  f1-score   support\n",
      "\n",
      "           0       0.99      1.00      0.99       910\n",
      "           1       1.00      1.00      1.00      1648\n",
      "           2       1.00      1.00      1.00        51\n",
      "           3       1.00      1.00      1.00        33\n",
      "           4       0.92      0.89      0.91        54\n",
      "\n",
      "    accuracy                           1.00      2696\n",
      "   macro avg       0.98      0.98      0.98      2696\n",
      "weighted avg       1.00      1.00      1.00      2696\n",
      "\n"
     ]
    }
   ],
   "source": [
    "# Metrics Performance\n",
    "print(classification_report(y_test,y_pred))"
   ]
  },
  {
   "cell_type": "code",
   "execution_count": 100,
   "id": "1b55e1b8",
   "metadata": {},
   "outputs": [],
   "source": [
    "f_score=metrics.f1_score(y_test,y_pred,average=\"macro\")\n",
    "model_perform['rf']=f_score"
   ]
  },
  {
   "cell_type": "code",
   "execution_count": 39,
   "id": "90ab7a7d",
   "metadata": {},
   "outputs": [
    {
     "name": "stdout",
     "output_type": "stream",
     "text": [
      "[[ 906    0    0    0    4]\n",
      " [   0 1648    0    0    0]\n",
      " [   0    0   51    0    0]\n",
      " [   0    0    0   33    0]\n",
      " [   6    0    0    0   48]]\n"
     ]
    }
   ],
   "source": [
    "print(confusion_matrix(y_test,y_pred))"
   ]
  },
  {
   "cell_type": "code",
   "execution_count": 40,
   "id": "0cc8336f",
   "metadata": {},
   "outputs": [],
   "source": [
    "# Finding the variable with more importance\n",
    "feature_importance = pd.DataFrame([X_train.columns, rf_model.feature_importances_])\n",
    "feature_importance = feature_importance.T.sort_values(by = 1, ascending=False)[1:10]"
   ]
  },
  {
   "cell_type": "code",
   "execution_count": 41,
   "id": "63960b06",
   "metadata": {},
   "outputs": [
    {
     "data": {
      "image/png": "[encoded data removed]",
      "text/plain": [
       "<Figure size 432x288 with 1 Axes>"
      ]
     },
     "metadata": {
      "needs_background": "light"
     },
     "output_type": "display_data"
    }
   ],
   "source": [
    "import seaborn as sns\n",
    "sns.barplot(x=feature_importance[1], y=feature_importance[0])\n",
    "# Add labels to the graph\n",
    "plt.xlabel('Feature Importance Score')\n",
    "plt.ylabel('Features')\n",
    "plt.title(\"Visualizing Important Features\")\n",
    "plt.show()"
   ]
  },
  {
   "cell_type": "markdown",
   "id": "8be67966",
   "metadata": {},
   "source": [
    "### Model -6 - Adaboost Classifier"
   ]
  },
  {
   "cell_type": "code",
   "execution_count": 101,
   "id": "0e8bcd5e",
   "metadata": {},
   "outputs": [
    {
     "data": {
      "text/plain": [
       "AdaBoostClassifier(random_state=0)"
      ]
     },
     "execution_count": 101,
     "metadata": {},
     "output_type": "execute_result"
    }
   ],
   "source": [
    "from sklearn.ensemble import AdaBoostClassifier\n",
    "ada_model = AdaBoostClassifier(random_state=0)\n",
    "ada_model.fit(X_train,y_train)"
   ]
  },
  {
   "cell_type": "code",
   "execution_count": 102,
   "id": "964c51fe",
   "metadata": {},
   "outputs": [],
   "source": [
    "y_pred = ada_model.predict(X_test)"
   ]
  },
  {
   "cell_type": "code",
   "execution_count": 44,
   "id": "c6d929aa",
   "metadata": {
    "scrolled": true
   },
   "outputs": [
    {
     "name": "stdout",
     "output_type": "stream",
     "text": [
      "              precision    recall  f1-score   support\n",
      "\n",
      "           0       0.91      0.99      0.95       910\n",
      "           1       1.00      1.00      1.00      1648\n",
      "           2       0.81      1.00      0.89        51\n",
      "           3       0.00      0.00      0.00        33\n",
      "           4       0.00      0.00      0.00        54\n",
      "\n",
      "    accuracy                           0.96      2696\n",
      "   macro avg       0.54      0.60      0.57      2696\n",
      "weighted avg       0.93      0.96      0.95      2696\n",
      "\n"
     ]
    }
   ],
   "source": [
    "# Metrics Performance\n",
    "print(classification_report(y_test,y_pred))"
   ]
  },
  {
   "cell_type": "code",
   "execution_count": 103,
   "id": "bfa4b1bd",
   "metadata": {},
   "outputs": [],
   "source": [
    "f_score=metrics.f1_score(y_test,y_pred,average=\"macro\")\n",
    "model_perform['adboost']=f_score"
   ]
  },
  {
   "cell_type": "markdown",
   "id": "74e8f5b4",
   "metadata": {},
   "source": [
    "### Model -7 - XGboost Classifier"
   ]
  },
  {
   "cell_type": "code",
   "execution_count": 104,
   "id": "8fdb325c",
   "metadata": {},
   "outputs": [
    {
     "data": {
      "text/plain": [
       "XGBClassifier(base_score=0.5, booster='gbtree', callbacks=None,\n",
       "              colsample_bylevel=1, colsample_bynode=1, colsample_bytree=1,\n",
       "              early_stopping_rounds=None, enable_categorical=False,\n",
       "              eval_metric=None, gamma=0, gpu_id=-1, grow_policy='depthwise',\n",
       "              importance_type=None, interaction_constraints='',\n",
       "              learning_rate=0.300000012, max_bin=256, max_cat_to_onehot=4,\n",
       "              max_delta_step=0, max_depth=6, max_leaves=0, min_child_weight=1,\n",
       "              missing=nan, monotone_constraints='()', n_estimators=100,\n",
       "              n_jobs=0, num_parallel_tree=1, objective='multi:softprob',\n",
       "              predictor='auto', random_state=1, reg_alpha=0, ...)"
      ]
     },
     "execution_count": 104,
     "metadata": {},
     "output_type": "execute_result"
    }
   ],
   "source": [
    "from xgboost import XGBClassifier\n",
    "xg_model = XGBClassifier(random_state=1)\n",
    "xg_model.fit(X_train, y_train)"
   ]
  },
  {
   "cell_type": "code",
   "execution_count": 105,
   "id": "1d47fd1b",
   "metadata": {},
   "outputs": [],
   "source": [
    "y_pred = xg_model.predict(X_test)"
   ]
  },
  {
   "cell_type": "code",
   "execution_count": 47,
   "id": "e0119304",
   "metadata": {
    "scrolled": true
   },
   "outputs": [
    {
     "name": "stdout",
     "output_type": "stream",
     "text": [
      "              precision    recall  f1-score   support\n",
      "\n",
      "           0       0.99      1.00      1.00       910\n",
      "           1       1.00      1.00      1.00      1648\n",
      "           2       1.00      1.00      1.00        51\n",
      "           3       1.00      1.00      1.00        33\n",
      "           4       0.94      0.89      0.91        54\n",
      "\n",
      "    accuracy                           1.00      2696\n",
      "   macro avg       0.99      0.98      0.98      2696\n",
      "weighted avg       1.00      1.00      1.00      2696\n",
      "\n"
     ]
    }
   ],
   "source": [
    "# Metrics Performance\n",
    "print(classification_report(y_test,y_pred))"
   ]
  },
  {
   "cell_type": "code",
   "execution_count": 106,
   "id": "02ba932d",
   "metadata": {},
   "outputs": [],
   "source": [
    "f_score=metrics.f1_score(y_test,y_pred,average=\"macro\")\n",
    "model_perform['xgboost']=f_score"
   ]
  },
  {
   "cell_type": "code",
   "execution_count": 48,
   "id": "f842816b",
   "metadata": {},
   "outputs": [
    {
     "name": "stdout",
     "output_type": "stream",
     "text": [
      "[[ 907    0    0    0    3]\n",
      " [   0 1648    0    0    0]\n",
      " [   0    0   51    0    0]\n",
      " [   0    0    0   33    0]\n",
      " [   6    0    0    0   48]]\n"
     ]
    }
   ],
   "source": [
    "print(confusion_matrix(y_test,y_pred))"
   ]
  },
  {
   "cell_type": "code",
   "execution_count": 49,
   "id": "f5c823ba",
   "metadata": {},
   "outputs": [],
   "source": [
    "# Finding the variable with more importance\n",
    "feature_importance = pd.DataFrame([X_train.columns, rf_model.feature_importances_])\n",
    "feature_importance = feature_importance.T.sort_values(by = 1, ascending=False)[1:10]"
   ]
  },
  {
   "cell_type": "code",
   "execution_count": 50,
   "id": "8b1e2df9",
   "metadata": {},
   "outputs": [
    {
     "data": {
      "image/png": "[encoded data removed]",
      "text/plain": [
       "<Figure size 432x288 with 1 Axes>"
      ]
     },
     "metadata": {
      "needs_background": "light"
     },
     "output_type": "display_data"
    }
   ],
   "source": [
    "import seaborn as sns\n",
    "sns.barplot(x=feature_importance[1], y=feature_importance[0])\n",
    "# Add labels to the graph\n",
    "plt.xlabel('Feature Importance Score')\n",
    "plt.ylabel('Features')\n",
    "plt.title(\"Visualizing Important Features\")\n",
    "plt.show()"
   ]
  },
  {
   "cell_type": "code",
   "execution_count": null,
   "id": "18e1697e",
   "metadata": {},
   "outputs": [],
   "source": [
    "### Hyperparameter Tuning"
   ]
  },
  {
   "cell_type": "code",
   "execution_count": null,
   "id": "36373fa3",
   "metadata": {},
   "outputs": [],
   "source": [
    "# Hyperparameter Tuning - Tree parameters\n",
    "1. No. of trees\n",
    "2. Depth of the trees\n",
    "3. Min no. of samples in the leaf node\n",
    "4. Max number of features\n",
    "5. Split Criterion "
   ]
  },
  {
   "cell_type": "code",
   "execution_count": 51,
   "id": "0e8eb098",
   "metadata": {},
   "outputs": [],
   "source": [
    "from sklearn.model_selection import RandomizedSearchCV,GridSearchCV"
   ]
  },
  {
   "cell_type": "code",
   "execution_count": 52,
   "id": "eb2ff83b",
   "metadata": {},
   "outputs": [],
   "source": [
    "#Number of trees in random forest\n",
    "n_estimators = [int(x) for x in np.linspace(start = 200, stop = 2000, num = 10)]\n",
    "# Number of features to consider at every split\n",
    "max_features = ['auto', 'sqrt']\n",
    "# Maximum number of levels in tree\n",
    "max_depth = [int(x) for x in np.linspace(10, 110, num = 11)]\n",
    "max_depth.append(None)\n",
    "# Minimum number of samples required to split a node\n",
    "min_samples_split = [2, 5, 10,15,20]\n",
    "# Minimum number of samples required at each leaf node\n",
    "min_samples_leaf = [1, 2, 4,6,10]"
   ]
  },
  {
   "cell_type": "code",
   "execution_count": 53,
   "id": "a50498d5",
   "metadata": {},
   "outputs": [
    {
     "data": {
      "text/plain": [
       "[10, 20, 30, 40, 50, 60, 70, 80, 90, 100, 110, None]"
      ]
     },
     "execution_count": 53,
     "metadata": {},
     "output_type": "execute_result"
    }
   ],
   "source": [
    "max_depth # None for infinite tree -giving tree one more option"
   ]
  },
  {
   "cell_type": "code",
   "execution_count": 54,
   "id": "928f1422",
   "metadata": {
    "scrolled": true
   },
   "outputs": [
    {
     "name": "stdout",
     "output_type": "stream",
     "text": [
      "{'n_estimators': [200, 400, 600, 800, 1000, 1200, 1400, 1600, 1800, 2000], 'max_features': ['auto', 'sqrt'], 'max_depth': [10, 20, 30, 40, 50, 60, 70, 80, 90, 100, 110, None], 'min_samples_split': [2, 5, 10, 15, 20], 'min_samples_leaf': [1]}\n"
     ]
    }
   ],
   "source": [
    "# Creation the random grid\n",
    "random_grid = {'n_estimators': n_estimators,\n",
    "               'max_features': max_features,\n",
    "               'max_depth': max_depth,\n",
    "               'min_samples_split': min_samples_split,\n",
    "               'min_samples_leaf': min_samples_leaf,\n",
    "               'min_samples_leaf':[1]\n",
    "               }\n",
    "print(random_grid)"
   ]
  },
  {
   "cell_type": "markdown",
   "id": "5652a216",
   "metadata": {},
   "source": [
    "### Randomized Search CV"
   ]
  },
  {
   "cell_type": "code",
   "execution_count": 55,
   "id": "4e611567",
   "metadata": {},
   "outputs": [],
   "source": [
    "rf_random = RandomizedSearchCV(estimator = rf_model, \n",
    "                               param_distributions = random_grid, n_iter = 10, cv = 3, \n",
    "                               verbose=2, random_state=42, n_jobs = -1)"
   ]
  },
  {
   "cell_type": "code",
   "execution_count": 56,
   "id": "400e0586",
   "metadata": {},
   "outputs": [
    {
     "name": "stdout",
     "output_type": "stream",
     "text": [
      "Fitting 3 folds for each of 10 candidates, totalling 30 fits\n"
     ]
    },
    {
     "data": {
      "text/plain": [
       "RandomizedSearchCV(cv=3, estimator=RandomForestClassifier(random_state=1),\n",
       "                   n_jobs=-1,\n",
       "                   param_distributions={'max_depth': [10, 20, 30, 40, 50, 60,\n",
       "                                                      70, 80, 90, 100, 110,\n",
       "                                                      None],\n",
       "                                        'max_features': ['auto', 'sqrt'],\n",
       "                                        'min_samples_leaf': [1],\n",
       "                                        'min_samples_split': [2, 5, 10, 15, 20],\n",
       "                                        'n_estimators': [200, 400, 600, 800,\n",
       "                                                         1000, 1200, 1400, 1600,\n",
       "                                                         1800, 2000]},\n",
       "                   random_state=42, verbose=2)"
      ]
     },
     "execution_count": 56,
     "metadata": {},
     "output_type": "execute_result"
    }
   ],
   "source": [
    "rf_random.fit(X_train,y_train)"
   ]
  },
  {
   "cell_type": "code",
   "execution_count": 57,
   "id": "9362a26f",
   "metadata": {},
   "outputs": [
    {
     "data": {
      "text/plain": [
       "{'n_estimators': 200,\n",
       " 'min_samples_split': 5,\n",
       " 'min_samples_leaf': 1,\n",
       " 'max_features': 'sqrt',\n",
       " 'max_depth': 90}"
      ]
     },
     "execution_count": 57,
     "metadata": {},
     "output_type": "execute_result"
    }
   ],
   "source": [
    "rf_random.best_params_"
   ]
  },
  {
   "cell_type": "code",
   "execution_count": 59,
   "id": "eb3020b8",
   "metadata": {},
   "outputs": [],
   "source": [
    "rf_model_tuned = RandomForestClassifier(**rf_random.best_params_)"
   ]
  },
  {
   "cell_type": "code",
   "execution_count": 60,
   "id": "32a15ae5",
   "metadata": {},
   "outputs": [
    {
     "data": {
      "text/plain": [
       "RandomForestClassifier(max_depth=90, max_features='sqrt', min_samples_split=5,\n",
       "                       n_estimators=200)"
      ]
     },
     "execution_count": 60,
     "metadata": {},
     "output_type": "execute_result"
    }
   ],
   "source": [
    "rf_model_tuned.fit(X_train,y_train)"
   ]
  },
  {
   "cell_type": "code",
   "execution_count": 107,
   "id": "5004a8ea",
   "metadata": {},
   "outputs": [],
   "source": [
    "y_pred = rf_model_tuned.predict(X_test)"
   ]
  },
  {
   "cell_type": "code",
   "execution_count": 62,
   "id": "cd13cca1",
   "metadata": {
    "scrolled": true
   },
   "outputs": [
    {
     "name": "stdout",
     "output_type": "stream",
     "text": [
      "              precision    recall  f1-score   support\n",
      "\n",
      "           0       0.99      1.00      0.99       910\n",
      "           1       1.00      1.00      1.00      1648\n",
      "           2       1.00      1.00      1.00        51\n",
      "           3       1.00      1.00      1.00        33\n",
      "           4       0.91      0.80      0.85        54\n",
      "\n",
      "    accuracy                           0.99      2696\n",
      "   macro avg       0.98      0.96      0.97      2696\n",
      "weighted avg       0.99      0.99      0.99      2696\n",
      "\n"
     ]
    }
   ],
   "source": [
    "print(classification_report(y_test,y_pred))"
   ]
  },
  {
   "cell_type": "code",
   "execution_count": 108,
   "id": "a4bd7608",
   "metadata": {},
   "outputs": [],
   "source": [
    "f_score=metrics.f1_score(y_test,y_pred,average=\"macro\")\n",
    "model_perform['rnd_src_rf']=f_score"
   ]
  },
  {
   "cell_type": "code",
   "execution_count": 63,
   "id": "2f05f25e",
   "metadata": {
    "scrolled": true
   },
   "outputs": [
    {
     "name": "stdout",
     "output_type": "stream",
     "text": [
      "[[ 906    0    0    0    4]\n",
      " [   0 1648    0    0    0]\n",
      " [   0    0   51    0    0]\n",
      " [   0    0    0   33    0]\n",
      " [  11    0    0    0   43]]\n"
     ]
    }
   ],
   "source": [
    "print(confusion_matrix(y_test,y_pred))"
   ]
  },
  {
   "cell_type": "markdown",
   "id": "22ea3564",
   "metadata": {},
   "source": [
    "### Grid Search CV"
   ]
  },
  {
   "cell_type": "code",
   "execution_count": 64,
   "id": "e9ddfa93",
   "metadata": {},
   "outputs": [],
   "source": [
    "from sklearn.model_selection import GridSearchCV"
   ]
  },
  {
   "cell_type": "code",
   "execution_count": 65,
   "id": "3e21b475",
   "metadata": {},
   "outputs": [],
   "source": [
    "# Create the parameter grid based on the results of random search \n",
    "param_grid = {\n",
    "    'max_depth': [50,100,150,None],\n",
    "    'min_samples_leaf': [1,3, 4, 5],\n",
    "    'min_samples_split': [2,4,5,6],\n",
    "    'n_estimators': [50,100,150,200]\n",
    "}"
   ]
  },
  {
   "cell_type": "code",
   "execution_count": 66,
   "id": "856bd56e",
   "metadata": {},
   "outputs": [],
   "source": [
    "grid_search = GridSearchCV(estimator = rf_model, param_grid = param_grid, \n",
    "                          cv = 3, n_jobs = -1, verbose = 2)"
   ]
  },
  {
   "cell_type": "code",
   "execution_count": 67,
   "id": "ab2d8269",
   "metadata": {},
   "outputs": [
    {
     "name": "stdout",
     "output_type": "stream",
     "text": [
      "Fitting 3 folds for each of 256 candidates, totalling 768 fits\n"
     ]
    },
    {
     "data": {
      "text/plain": [
       "GridSearchCV(cv=3, estimator=RandomForestClassifier(random_state=1), n_jobs=-1,\n",
       "             param_grid={'max_depth': [50, 100, 150, None],\n",
       "                         'min_samples_leaf': [1, 3, 4, 5],\n",
       "                         'min_samples_split': [2, 4, 5, 6],\n",
       "                         'n_estimators': [50, 100, 150, 200]},\n",
       "             verbose=2)"
      ]
     },
     "execution_count": 67,
     "metadata": {},
     "output_type": "execute_result"
    }
   ],
   "source": [
    "grid_search.fit(X_train,y_train)"
   ]
  },
  {
   "cell_type": "code",
   "execution_count": 68,
   "id": "e5638ef1",
   "metadata": {},
   "outputs": [
    {
     "data": {
      "text/plain": [
       "{'max_depth': 50,\n",
       " 'min_samples_leaf': 1,\n",
       " 'min_samples_split': 2,\n",
       " 'n_estimators': 50}"
      ]
     },
     "execution_count": 68,
     "metadata": {},
     "output_type": "execute_result"
    }
   ],
   "source": [
    "grid_search.best_params_"
   ]
  },
  {
   "cell_type": "code",
   "execution_count": 69,
   "id": "8055fd80",
   "metadata": {},
   "outputs": [],
   "source": [
    "rf_grid_tuned = RandomForestClassifier(**grid_search.best_params_)"
   ]
  },
  {
   "cell_type": "code",
   "execution_count": 70,
   "id": "3a8b47e3",
   "metadata": {},
   "outputs": [
    {
     "data": {
      "text/plain": [
       "RandomForestClassifier(max_depth=50, n_estimators=50)"
      ]
     },
     "execution_count": 70,
     "metadata": {},
     "output_type": "execute_result"
    }
   ],
   "source": [
    "rf_grid_tuned.fit(X_train,y_train)"
   ]
  },
  {
   "cell_type": "code",
   "execution_count": 109,
   "id": "3036e66e",
   "metadata": {},
   "outputs": [],
   "source": [
    "y_pred = rf_grid_tuned.predict(X_test)"
   ]
  },
  {
   "cell_type": "code",
   "execution_count": 72,
   "id": "a7bb057d",
   "metadata": {
    "scrolled": true
   },
   "outputs": [
    {
     "name": "stdout",
     "output_type": "stream",
     "text": [
      "              precision    recall  f1-score   support\n",
      "\n",
      "           0       0.99      1.00      0.99       910\n",
      "           1       1.00      1.00      1.00      1648\n",
      "           2       1.00      1.00      1.00        51\n",
      "           3       1.00      1.00      1.00        33\n",
      "           4       0.92      0.89      0.91        54\n",
      "\n",
      "    accuracy                           1.00      2696\n",
      "   macro avg       0.98      0.98      0.98      2696\n",
      "weighted avg       1.00      1.00      1.00      2696\n",
      "\n"
     ]
    }
   ],
   "source": [
    "print(classification_report(y_test,y_pred))"
   ]
  },
  {
   "cell_type": "code",
   "execution_count": 110,
   "id": "8fb9971e",
   "metadata": {},
   "outputs": [],
   "source": [
    "f_score=metrics.f1_score(y_test,y_pred,average=\"macro\")\n",
    "model_perform['grd_src_rf']=f_score"
   ]
  },
  {
   "cell_type": "code",
   "execution_count": 73,
   "id": "ddc5a598",
   "metadata": {},
   "outputs": [
    {
     "name": "stdout",
     "output_type": "stream",
     "text": [
      "[[ 906    0    0    0    4]\n",
      " [   0 1648    0    0    0]\n",
      " [   0    0   51    0    0]\n",
      " [   0    0    0   33    0]\n",
      " [   6    0    0    0   48]]\n"
     ]
    }
   ],
   "source": [
    "print(confusion_matrix(y_test,y_pred))"
   ]
  },
  {
   "cell_type": "markdown",
   "id": "21d3e7b0",
   "metadata": {},
   "source": [
    "### Hyper parameter Tuning - Using Hyper Opt"
   ]
  },
  {
   "cell_type": "code",
   "execution_count": 74,
   "id": "48b1e995",
   "metadata": {},
   "outputs": [],
   "source": [
    "from hyperopt import hp,fmin,tpe,Trials"
   ]
  },
  {
   "cell_type": "code",
   "execution_count": 78,
   "id": "594a5c78",
   "metadata": {},
   "outputs": [],
   "source": [
    "from sklearn import metrics"
   ]
  },
  {
   "cell_type": "code",
   "execution_count": 75,
   "id": "bb074899",
   "metadata": {},
   "outputs": [],
   "source": [
    "# Create the parameter grid based on the results of random search \n",
    "param_grid_space ={'max_depth': hp.quniform(\"max_depth\", 3, 18, 1),\n",
    "        'gamma': hp.uniform ('gamma', 1,9),\n",
    "        'reg_alpha' : hp.quniform('reg_alpha', 40,180,1),\n",
    "        'reg_lambda' : hp.uniform('reg_lambda', 0,1),\n",
    "        'colsample_bytree' : hp.uniform('colsample_bytree', 0.5,1),\n",
    "        'min_child_weight' : hp.quniform('min_child_weight', 0, 10, 1),\n",
    "        'n_estimators': 180\n",
    "    }"
   ]
  },
  {
   "cell_type": "code",
   "execution_count": 76,
   "id": "443f71a9",
   "metadata": {},
   "outputs": [],
   "source": [
    "def optimize(param_grid_space):\n",
    "    X_train,y_train,X_test,y_test\n",
    "    xgbm = XGBClassifier(n_estimators =param_grid_space['n_estimators'], max_depth = int(param_grid_space['max_depth']),\n",
    "                         gamma = param_grid_space['gamma']\n",
    "                        )\n",
    "    xgbm.fit(X_train, y_train)\n",
    "    y_pred = xgbm.predict(X_test)\n",
    "    f1score = metrics.f1_score(y_test,y_pred,average=\"macro\")\n",
    "    return -1*f1score"
   ]
  },
  {
   "cell_type": "code",
   "execution_count": 79,
   "id": "62a63b8b",
   "metadata": {},
   "outputs": [
    {
     "name": "stdout",
     "output_type": "stream",
     "text": [
      "100%|██████████████████████████████████████████████████| 3/3 [00:37<00:00, 12.35s/trial, best loss: -0.952183680760708]\n"
     ]
    }
   ],
   "source": [
    "trial = Trials()\n",
    "result = fmin(fn=optimize,space=param_grid_space,max_evals=3,trials=trial,algo=tpe.suggest)\n"
   ]
  },
  {
   "cell_type": "code",
   "execution_count": 80,
   "id": "ad27c82e",
   "metadata": {},
   "outputs": [
    {
     "name": "stdout",
     "output_type": "stream",
     "text": [
      "{'colsample_bytree': 0.8449827516806221, 'gamma': 2.8811000110660636, 'max_depth': 9.0, 'min_child_weight': 4.0, 'reg_alpha': 72.0, 'reg_lambda': 0.06549880682652243}\n"
     ]
    }
   ],
   "source": [
    "print(result)"
   ]
  },
  {
   "cell_type": "code",
   "execution_count": 81,
   "id": "d165cb16",
   "metadata": {},
   "outputs": [],
   "source": [
    "result[\"max_depth\"] = int(result[\"max_depth\"])"
   ]
  },
  {
   "cell_type": "code",
   "execution_count": 82,
   "id": "7c901f51",
   "metadata": {},
   "outputs": [
    {
     "name": "stdout",
     "output_type": "stream",
     "text": [
      "{'colsample_bytree': 0.8449827516806221, 'gamma': 2.8811000110660636, 'max_depth': 9, 'min_child_weight': 4.0, 'reg_alpha': 72.0, 'reg_lambda': 0.06549880682652243}\n"
     ]
    }
   ],
   "source": [
    "print(result)"
   ]
  },
  {
   "cell_type": "code",
   "execution_count": 83,
   "id": "4812fbe3",
   "metadata": {},
   "outputs": [
    {
     "data": {
      "text/plain": [
       "XGBClassifier(base_score=0.5, booster='gbtree', callbacks=None,\n",
       "              colsample_bylevel=1, colsample_bynode=1,\n",
       "              colsample_bytree=0.8449827516806221, early_stopping_rounds=None,\n",
       "              enable_categorical=False, eval_metric=None,\n",
       "              gamma=2.8811000110660636, gpu_id=-1, grow_policy='depthwise',\n",
       "              importance_type=None, interaction_constraints='',\n",
       "              learning_rate=0.300000012, max_bin=256, max_cat_to_onehot=4,\n",
       "              max_delta_step=0, max_depth=9, max_leaves=0, min_child_weight=4.0,\n",
       "              missing=nan, monotone_constraints='()', n_estimators=100,\n",
       "              n_jobs=0, num_parallel_tree=1, objective='multi:softprob',\n",
       "              predictor='auto', random_state=0, reg_alpha=72.0, ...)"
      ]
     },
     "execution_count": 83,
     "metadata": {},
     "output_type": "execute_result"
    }
   ],
   "source": [
    "xg_model = XGBClassifier(**result)\n",
    "xg_model.fit(X_train, y_train)"
   ]
  },
  {
   "cell_type": "code",
   "execution_count": 111,
   "id": "7fd396c7",
   "metadata": {},
   "outputs": [],
   "source": [
    "y_pred = xg_model.predict(X_test)"
   ]
  },
  {
   "cell_type": "code",
   "execution_count": 85,
   "id": "8375a22f",
   "metadata": {
    "scrolled": true
   },
   "outputs": [
    {
     "name": "stdout",
     "output_type": "stream",
     "text": [
      "              precision    recall  f1-score   support\n",
      "\n",
      "           0       0.95      1.00      0.97       910\n",
      "           1       1.00      1.00      1.00      1648\n",
      "           2       1.00      1.00      1.00        51\n",
      "           3       1.00      0.58      0.73        33\n",
      "           4       0.83      0.37      0.51        54\n",
      "\n",
      "    accuracy                           0.98      2696\n",
      "   macro avg       0.96      0.79      0.84      2696\n",
      "weighted avg       0.98      0.98      0.98      2696\n",
      "\n"
     ]
    }
   ],
   "source": [
    "print(classification_report(y_test,y_pred))"
   ]
  },
  {
   "cell_type": "code",
   "execution_count": 112,
   "id": "bb842b6f",
   "metadata": {},
   "outputs": [],
   "source": [
    "f_score=metrics.f1_score(y_test,y_pred,average=\"macro\")\n",
    "model_perform['hypopt_xgb']=f_score"
   ]
  },
  {
   "cell_type": "markdown",
   "id": "1291eeae",
   "metadata": {},
   "source": [
    "## Model Comparison"
   ]
  },
  {
   "cell_type": "code",
   "execution_count": 138,
   "id": "0fda704f",
   "metadata": {
    "scrolled": true
   },
   "outputs": [
    {
     "data": {
      "text/html": [
       "<div>\n",
       "<style scoped>\n",
       "    .dataframe tbody tr th:only-of-type {\n",
       "        vertical-align: middle;\n",
       "    }\n",
       "\n",
       "    .dataframe tbody tr th {\n",
       "        vertical-align: top;\n",
       "    }\n",
       "\n",
       "    .dataframe thead th {\n",
       "        text-align: right;\n",
       "    }\n",
       "</style>\n",
       "<table border=\"1\" class=\"dataframe\">\n",
       "  <thead>\n",
       "    <tr style=\"text-align: right;\">\n",
       "      <th></th>\n",
       "      <th>index</th>\n",
       "      <th>1</th>\n",
       "    </tr>\n",
       "  </thead>\n",
       "  <tbody>\n",
       "    <tr>\n",
       "      <th>0</th>\n",
       "      <td>knn</td>\n",
       "      <td>0.617059</td>\n",
       "    </tr>\n",
       "    <tr>\n",
       "      <th>1</th>\n",
       "      <td>logreg</td>\n",
       "      <td>0.238366</td>\n",
       "    </tr>\n",
       "    <tr>\n",
       "      <th>2</th>\n",
       "      <td>nb</td>\n",
       "      <td>0.579531</td>\n",
       "    </tr>\n",
       "    <tr>\n",
       "      <th>3</th>\n",
       "      <td>dt</td>\n",
       "      <td>0.957714</td>\n",
       "    </tr>\n",
       "    <tr>\n",
       "      <th>4</th>\n",
       "      <td>rf</td>\n",
       "      <td>0.980034</td>\n",
       "    </tr>\n",
       "    <tr>\n",
       "      <th>5</th>\n",
       "      <td>adboost</td>\n",
       "      <td>0.568499</td>\n",
       "    </tr>\n",
       "    <tr>\n",
       "      <th>6</th>\n",
       "      <td>xgboost</td>\n",
       "      <td>0.981870</td>\n",
       "    </tr>\n",
       "    <tr>\n",
       "      <th>7</th>\n",
       "      <td>rnd_src_rf</td>\n",
       "      <td>0.968655</td>\n",
       "    </tr>\n",
       "    <tr>\n",
       "      <th>8</th>\n",
       "      <td>grd_src_rf</td>\n",
       "      <td>0.980034</td>\n",
       "    </tr>\n",
       "    <tr>\n",
       "      <th>9</th>\n",
       "      <td>hypopt_xgb</td>\n",
       "      <td>0.981870</td>\n",
       "    </tr>\n",
       "  </tbody>\n",
       "</table>\n",
       "</div>"
      ],
      "text/plain": [
       "        index         1\n",
       "0         knn  0.617059\n",
       "1      logreg  0.238366\n",
       "2          nb  0.579531\n",
       "3          dt  0.957714\n",
       "4          rf  0.980034\n",
       "5     adboost  0.568499\n",
       "6     xgboost  0.981870\n",
       "7  rnd_src_rf  0.968655\n",
       "8  grd_src_rf  0.980034\n",
       "9  hypopt_xgb  0.981870"
      ]
     },
     "execution_count": 138,
     "metadata": {},
     "output_type": "execute_result"
    }
   ],
   "source": [
    "df=pd.DataFrame(model_perform,index=[1]).T.reset_index()\n",
    "df"
   ]
  },
  {
   "cell_type": "code",
   "execution_count": 141,
   "id": "e2765cb0",
   "metadata": {},
   "outputs": [
    {
     "data": {
      "text/html": [
       "<div>\n",
       "<style scoped>\n",
       "    .dataframe tbody tr th:only-of-type {\n",
       "        vertical-align: middle;\n",
       "    }\n",
       "\n",
       "    .dataframe tbody tr th {\n",
       "        vertical-align: top;\n",
       "    }\n",
       "\n",
       "    .dataframe thead th {\n",
       "        text-align: right;\n",
       "    }\n",
       "</style>\n",
       "<table border=\"1\" class=\"dataframe\">\n",
       "  <thead>\n",
       "    <tr style=\"text-align: right;\">\n",
       "      <th></th>\n",
       "      <th>index</th>\n",
       "      <th>F1_Score_macro</th>\n",
       "    </tr>\n",
       "  </thead>\n",
       "  <tbody>\n",
       "    <tr>\n",
       "      <th>0</th>\n",
       "      <td>knn</td>\n",
       "      <td>0.617059</td>\n",
       "    </tr>\n",
       "    <tr>\n",
       "      <th>1</th>\n",
       "      <td>logreg</td>\n",
       "      <td>0.238366</td>\n",
       "    </tr>\n",
       "    <tr>\n",
       "      <th>2</th>\n",
       "      <td>nb</td>\n",
       "      <td>0.579531</td>\n",
       "    </tr>\n",
       "    <tr>\n",
       "      <th>3</th>\n",
       "      <td>dt</td>\n",
       "      <td>0.957714</td>\n",
       "    </tr>\n",
       "    <tr>\n",
       "      <th>4</th>\n",
       "      <td>rf</td>\n",
       "      <td>0.980034</td>\n",
       "    </tr>\n",
       "    <tr>\n",
       "      <th>5</th>\n",
       "      <td>adboost</td>\n",
       "      <td>0.568499</td>\n",
       "    </tr>\n",
       "    <tr>\n",
       "      <th>6</th>\n",
       "      <td>xgboost</td>\n",
       "      <td>0.981870</td>\n",
       "    </tr>\n",
       "    <tr>\n",
       "      <th>7</th>\n",
       "      <td>rnd_src_rf</td>\n",
       "      <td>0.968655</td>\n",
       "    </tr>\n",
       "    <tr>\n",
       "      <th>8</th>\n",
       "      <td>grd_src_rf</td>\n",
       "      <td>0.980034</td>\n",
       "    </tr>\n",
       "    <tr>\n",
       "      <th>9</th>\n",
       "      <td>hypopt_xgb</td>\n",
       "      <td>0.981870</td>\n",
       "    </tr>\n",
       "  </tbody>\n",
       "</table>\n",
       "</div>"
      ],
      "text/plain": [
       "        index  F1_Score_macro\n",
       "0         knn        0.617059\n",
       "1      logreg        0.238366\n",
       "2          nb        0.579531\n",
       "3          dt        0.957714\n",
       "4          rf        0.980034\n",
       "5     adboost        0.568499\n",
       "6     xgboost        0.981870\n",
       "7  rnd_src_rf        0.968655\n",
       "8  grd_src_rf        0.980034\n",
       "9  hypopt_xgb        0.981870"
      ]
     },
     "execution_count": 141,
     "metadata": {},
     "output_type": "execute_result"
    }
   ],
   "source": [
    "df.columns=['index',\"F1_Score_macro\"]\n"
   ]
  },
  {
   "cell_type": "code",
   "execution_count": 142,
   "id": "774e10ec",
   "metadata": {
    "scrolled": true
   },
   "outputs": [
    {
     "data": {
      "text/html": [
       "<div>\n",
       "<style scoped>\n",
       "    .dataframe tbody tr th:only-of-type {\n",
       "        vertical-align: middle;\n",
       "    }\n",
       "\n",
       "    .dataframe tbody tr th {\n",
       "        vertical-align: top;\n",
       "    }\n",
       "\n",
       "    .dataframe thead th {\n",
       "        text-align: right;\n",
       "    }\n",
       "</style>\n",
       "<table border=\"1\" class=\"dataframe\">\n",
       "  <thead>\n",
       "    <tr style=\"text-align: right;\">\n",
       "      <th></th>\n",
       "      <th>F1_Score_macro</th>\n",
       "    </tr>\n",
       "    <tr>\n",
       "      <th>index</th>\n",
       "      <th></th>\n",
       "    </tr>\n",
       "  </thead>\n",
       "  <tbody>\n",
       "    <tr>\n",
       "      <th>knn</th>\n",
       "      <td>0.617059</td>\n",
       "    </tr>\n",
       "    <tr>\n",
       "      <th>logreg</th>\n",
       "      <td>0.238366</td>\n",
       "    </tr>\n",
       "    <tr>\n",
       "      <th>nb</th>\n",
       "      <td>0.579531</td>\n",
       "    </tr>\n",
       "    <tr>\n",
       "      <th>dt</th>\n",
       "      <td>0.957714</td>\n",
       "    </tr>\n",
       "    <tr>\n",
       "      <th>rf</th>\n",
       "      <td>0.980034</td>\n",
       "    </tr>\n",
       "    <tr>\n",
       "      <th>adboost</th>\n",
       "      <td>0.568499</td>\n",
       "    </tr>\n",
       "    <tr>\n",
       "      <th>xgboost</th>\n",
       "      <td>0.981870</td>\n",
       "    </tr>\n",
       "    <tr>\n",
       "      <th>rnd_src_rf</th>\n",
       "      <td>0.968655</td>\n",
       "    </tr>\n",
       "    <tr>\n",
       "      <th>grd_src_rf</th>\n",
       "      <td>0.980034</td>\n",
       "    </tr>\n",
       "    <tr>\n",
       "      <th>hypopt_xgb</th>\n",
       "      <td>0.981870</td>\n",
       "    </tr>\n",
       "  </tbody>\n",
       "</table>\n",
       "</div>"
      ],
      "text/plain": [
       "            F1_Score_macro\n",
       "index                     \n",
       "knn               0.617059\n",
       "logreg            0.238366\n",
       "nb                0.579531\n",
       "dt                0.957714\n",
       "rf                0.980034\n",
       "adboost           0.568499\n",
       "xgboost           0.981870\n",
       "rnd_src_rf        0.968655\n",
       "grd_src_rf        0.980034\n",
       "hypopt_xgb        0.981870"
      ]
     },
     "execution_count": 142,
     "metadata": {},
     "output_type": "execute_result"
    }
   ],
   "source": [
    "df.set_index(\"index\")"
   ]
  },
  {
   "cell_type": "code",
   "execution_count": 143,
   "id": "112f977c",
   "metadata": {},
   "outputs": [],
   "source": [
    "df.sort_values(by='F1_Score_macro', ascending=False,inplace=True)"
   ]
  },
  {
   "cell_type": "code",
   "execution_count": 150,
   "id": "5ae87200",
   "metadata": {
    "scrolled": true
   },
   "outputs": [
    {
     "data": {
      "text/html": [
       "<div>\n",
       "<style scoped>\n",
       "    .dataframe tbody tr th:only-of-type {\n",
       "        vertical-align: middle;\n",
       "    }\n",
       "\n",
       "    .dataframe tbody tr th {\n",
       "        vertical-align: top;\n",
       "    }\n",
       "\n",
       "    .dataframe thead th {\n",
       "        text-align: right;\n",
       "    }\n",
       "</style>\n",
       "<table border=\"1\" class=\"dataframe\">\n",
       "  <thead>\n",
       "    <tr style=\"text-align: right;\">\n",
       "      <th></th>\n",
       "      <th>F1_Score_macro</th>\n",
       "    </tr>\n",
       "    <tr>\n",
       "      <th>index</th>\n",
       "      <th></th>\n",
       "    </tr>\n",
       "  </thead>\n",
       "  <tbody>\n",
       "    <tr>\n",
       "      <th>xgboost</th>\n",
       "      <td>0.981870</td>\n",
       "    </tr>\n",
       "    <tr>\n",
       "      <th>hypopt_xgb</th>\n",
       "      <td>0.981870</td>\n",
       "    </tr>\n",
       "    <tr>\n",
       "      <th>rf</th>\n",
       "      <td>0.980034</td>\n",
       "    </tr>\n",
       "    <tr>\n",
       "      <th>grd_src_rf</th>\n",
       "      <td>0.980034</td>\n",
       "    </tr>\n",
       "    <tr>\n",
       "      <th>rnd_src_rf</th>\n",
       "      <td>0.968655</td>\n",
       "    </tr>\n",
       "    <tr>\n",
       "      <th>dt</th>\n",
       "      <td>0.957714</td>\n",
       "    </tr>\n",
       "    <tr>\n",
       "      <th>knn</th>\n",
       "      <td>0.617059</td>\n",
       "    </tr>\n",
       "    <tr>\n",
       "      <th>nb</th>\n",
       "      <td>0.579531</td>\n",
       "    </tr>\n",
       "    <tr>\n",
       "      <th>adboost</th>\n",
       "      <td>0.568499</td>\n",
       "    </tr>\n",
       "    <tr>\n",
       "      <th>logreg</th>\n",
       "      <td>0.238366</td>\n",
       "    </tr>\n",
       "  </tbody>\n",
       "</table>\n",
       "</div>"
      ],
      "text/plain": [
       "            F1_Score_macro\n",
       "index                     \n",
       "xgboost           0.981870\n",
       "hypopt_xgb        0.981870\n",
       "rf                0.980034\n",
       "grd_src_rf        0.980034\n",
       "rnd_src_rf        0.968655\n",
       "dt                0.957714\n",
       "knn               0.617059\n",
       "nb                0.579531\n",
       "adboost           0.568499\n",
       "logreg            0.238366"
      ]
     },
     "execution_count": 150,
     "metadata": {},
     "output_type": "execute_result"
    }
   ],
   "source": [
    "df.set_index(\"index\",inplace=True)\n",
    "df"
   ]
  },
  {
   "cell_type": "code",
   "execution_count": 156,
   "id": "d871d589",
   "metadata": {},
   "outputs": [
    {
     "data": {
      "image/png": "[encoded data removed]",
      "text/plain": [
       "<Figure size 864x576 with 1 Axes>"
      ]
     },
     "metadata": {
      "needs_background": "light"
     },
     "output_type": "display_data"
    }
   ],
   "source": [
    "import seaborn as sns\n",
    "plt.figure(figsize=(12,8))\n",
    "sns.barplot(df.index,df.F1_Score_macro,data=df)\n",
    "plt.xlabel(\"Model\")\n",
    "plt.ylabel(\"F1 Score Macro\")\n",
    "plt.title(\"Model Perfromance\")\n",
    "plt.show()"
   ]
  },
  {
   "cell_type": "markdown",
   "id": "2bb001bd",
   "metadata": {},
   "source": [
    "**Thoughts**\n",
    "\n",
    "XG boost and XGboost optimized thru hyperopt peformed best with F1 Score 98.18% which is 75% improvment in the logistic regression model performance."
   ]
  },
  {
   "cell_type": "code",
   "execution_count": null,
   "id": "71286ae3",
   "metadata": {},
   "outputs": [],
   "source": []
  }
 ],
 "metadata": {
  "kernelspec": {
   "display_name": "Python 3",
   "language": "python",
   "name": "python3"
  },
  "language_info": {
   "codemirror_mode": {
    "name": "ipython",
    "version": 3
   },
   "file_extension": ".py",
   "mimetype": "text/x-python",
   "name": "python",
   "nbconvert_exporter": "python",
   "pygments_lexer": "ipython3",
   "version": "3.9.4"
  }
 },
 "nbformat": 4,
 "nbformat_minor": 5
}
